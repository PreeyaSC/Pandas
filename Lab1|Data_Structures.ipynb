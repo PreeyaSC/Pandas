{
 "cells": [
  {
   "cell_type": "code",
   "execution_count": 3,
   "id": "c7ad3a9f",
   "metadata": {},
   "outputs": [],
   "source": [
    "##LAB1:Exercise: Managing Customer Orders"
   ]
  },
  {
   "cell_type": "code",
   "execution_count": 73,
   "id": "8c7fbdf3",
   "metadata": {},
   "outputs": [],
   "source": [
    "##1.Define a list called products that contains the following items: \"t-shirt\", \"mug\", \"hat\", \"book\", \"keychain\"\n",
    "\n",
    "products_list = [\"t-shirt\", \"mug\", \"hat\", \"book\", \"keychain\"]"
   ]
  },
  {
   "cell_type": "code",
   "execution_count": 74,
   "id": "f2d3624d",
   "metadata": {},
   "outputs": [],
   "source": [
    "##2. Create an empty dictionary called inventory\n",
    "\n",
    "inventory = {}"
   ]
  },
  {
   "cell_type": "code",
   "execution_count": 75,
   "id": "85f356da",
   "metadata": {},
   "outputs": [],
   "source": [
    "##3.Ask the user to input the quantity of each product available in the inventory. Use the product names\n",
    "##from the products list as keys in the inventory dictionary and assign the respective quantities as values.\n",
    "\n",
    "inventory = {'t-shirt': '20', 'mug': '25', 'hat': '15', 'book': '30', 'keychain': '12'}"
   ]
  },
  {
   "cell_type": "code",
   "execution_count": 76,
   "id": "568ec2c6",
   "metadata": {},
   "outputs": [
    {
     "data": {
      "text/plain": [
       "{'t-shirt': '20', 'mug': '25', 'hat': '15', 'book': '30', 'keychain': '12'}"
      ]
     },
     "execution_count": 76,
     "metadata": {},
     "output_type": "execute_result"
    }
   ],
   "source": [
    "inventory"
   ]
  },
  {
   "cell_type": "code",
   "execution_count": 77,
   "id": "665dfabd",
   "metadata": {},
   "outputs": [],
   "source": [
    "##4.Create an empty set called customer_orders.\n",
    "\n",
    "customer_orders = {}"
   ]
  },
  {
   "cell_type": "code",
   "execution_count": 78,
   "id": "1d0b85eb",
   "metadata": {},
   "outputs": [],
   "source": [
    "##5.Ask the user to input the name of three products that a customer wants to order (from those in the products \n",
    "##list, meaning three products out of \"t-shirt\", \"mug\", \"hat\", \"book\" or \"keychain\". \n",
    "##Add each product name to the customer_orders set.\n",
    "\n",
    "customer_orders = {'t-shirt', 'mug', 'hat'}\n",
    "\n"
   ]
  },
  {
   "cell_type": "code",
   "execution_count": 79,
   "id": "27ea5190",
   "metadata": {},
   "outputs": [
    {
     "data": {
      "text/plain": [
       "{'hat', 'mug', 't-shirt'}"
      ]
     },
     "execution_count": 79,
     "metadata": {},
     "output_type": "execute_result"
    }
   ],
   "source": [
    "customer_orders"
   ]
  },
  {
   "cell_type": "code",
   "execution_count": 80,
   "id": "081b0547",
   "metadata": {},
   "outputs": [
    {
     "name": "stdout",
     "output_type": "stream",
     "text": [
      "{'hat', 'mug', 't-shirt'}\n"
     ]
    }
   ],
   "source": [
    "##6.Print the products in the customer_orders set.\n",
    "\n",
    "print(customer_orders)"
   ]
  },
  {
   "cell_type": "code",
   "execution_count": 81,
   "id": "ee980208",
   "metadata": {},
   "outputs": [
    {
     "name": "stdout",
     "output_type": "stream",
     "text": [
      "3\n",
      "5\n",
      "60.0\n"
     ]
    }
   ],
   "source": [
    "##7.Calculate the following order statistics:\n",
    "\n",
    "#Total Products Ordered: The total number of products in the customer_orders set.\n",
    "total_products_ordered = (len(customer_orders))\n",
    "total_available_products = len(products_list)\n",
    "print(total_products_ordered)\n",
    "print(total_available_products)\n",
    "\n",
    "\n",
    "\n",
    "#Percentage of Products Ordered: The percentage of products ordered compared to the total available products.\n",
    "percentage_ordered = (total_products_ordered/ total_available_products) *100\n",
    "print(percentage_ordered)\n",
    "\n"
   ]
  },
  {
   "cell_type": "code",
   "execution_count": 82,
   "id": "bfc3ea8a",
   "metadata": {},
   "outputs": [
    {
     "name": "stdout",
     "output_type": "stream",
     "text": [
      "(60.0,)\n"
     ]
    }
   ],
   "source": [
    "#Store these statistics in a tuple called order_status.\n",
    "\n",
    "order_status = ()\n",
    "new_order_status = list(order_status)\n",
    "new_order_status.append(percentage_ordered)\n",
    "order_status = tuple(new_order_status)\n",
    "print(order_status)"
   ]
  },
  {
   "cell_type": "code",
   "execution_count": 83,
   "id": "7ac77f47",
   "metadata": {},
   "outputs": [
    {
     "name": "stdout",
     "output_type": "stream",
     "text": [
      "3\n",
      "60.0\n"
     ]
    }
   ],
   "source": [
    "##8.Print the order statistics using the following format:\n",
    "\n",
    "#Order Statistics:\n",
    "#Total Products Ordered: <total_products_ordered>\n",
    "#Percentage of Products Ordered: <percentage_ordered>% \n",
    "\n",
    "\n",
    "print(total_products_ordered)\n",
    "print(percentage_ordered)"
   ]
  },
  {
   "cell_type": "code",
   "execution_count": 85,
   "id": "cf1710e3",
   "metadata": {},
   "outputs": [
    {
     "name": "stdout",
     "output_type": "stream",
     "text": [
      "{'t-shirt': '20', 'mug': '25', 'hat': '15', 'book': '30', 'keychain': '12'}\n"
     ]
    }
   ],
   "source": [
    "##9.Update the inventory by subtracting 1 from the quantity of each product. \n",
    "#Modify the inventory dictionary accordingly.\n",
    "\n",
    "\n",
    "print(inventory)"
   ]
  },
  {
   "cell_type": "code",
   "execution_count": 100,
   "id": "ad7c1f09",
   "metadata": {},
   "outputs": [
    {
     "ename": "TypeError",
     "evalue": "'dict' object is not callable",
     "output_type": "error",
     "traceback": [
      "\u001b[0;31m---------------------------------------------------------------------------\u001b[0m",
      "\u001b[0;31mTypeError\u001b[0m                                 Traceback (most recent call last)",
      "\u001b[0;32m/var/folders/rg/9mqy0ndj26v32y8v4h0_16h80000gn/T/ipykernel_67855/2375651045.py\u001b[0m in \u001b[0;36m<module>\u001b[0;34m\u001b[0m\n\u001b[1;32m      1\u001b[0m \u001b[0;31m##updated inventory\u001b[0m\u001b[0;34m\u001b[0m\u001b[0;34m\u001b[0m\u001b[0m\n\u001b[0;32m----> 2\u001b[0;31m \u001b[0minventory\u001b[0m \u001b[0;34m=\u001b[0m \u001b[0;34m{\u001b[0m \u001b[0mkey\u001b[0m\u001b[0;34m:\u001b[0m\u001b[0mvalue\u001b[0m \u001b[0;34m-\u001b[0m \u001b[0;36m1\u001b[0m  \u001b[0;32mfor\u001b[0m \u001b[0mkey\u001b[0m\u001b[0;34m,\u001b[0m\u001b[0mvalue\u001b[0m \u001b[0;32min\u001b[0m \u001b[0minventory\u001b[0m\u001b[0;34m(\u001b[0m\u001b[0;34m)\u001b[0m\u001b[0;34m}\u001b[0m\u001b[0;34m\u001b[0m\u001b[0;34m\u001b[0m\u001b[0m\n\u001b[0m",
      "\u001b[0;31mTypeError\u001b[0m: 'dict' object is not callable"
     ]
    }
   ],
   "source": [
    "##updated inventory\n",
    "inventory = {key:value - 1  for key,value in inventory()}\n"
   ]
  },
  {
   "cell_type": "code",
   "execution_count": 101,
   "id": "7b7b8584",
   "metadata": {},
   "outputs": [],
   "source": [
    "##10.Print the updated inventory, displaying the quantity of each product on separate lines.\n"
   ]
  },
  {
   "cell_type": "code",
   "execution_count": null,
   "id": "0db0ced9",
   "metadata": {},
   "outputs": [],
   "source": []
  }
 ],
 "metadata": {
  "celltoolbar": "Raw Cell Format",
  "kernelspec": {
   "display_name": "Python 3 (ipykernel)",
   "language": "python",
   "name": "python3"
  },
  "language_info": {
   "codemirror_mode": {
    "name": "ipython",
    "version": 3
   },
   "file_extension": ".py",
   "mimetype": "text/x-python",
   "name": "python",
   "nbconvert_exporter": "python",
   "pygments_lexer": "ipython3",
   "version": "3.9.13"
  }
 },
 "nbformat": 4,
 "nbformat_minor": 5
}
