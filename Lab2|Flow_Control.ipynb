{
 "cells": [
  {
   "cell_type": "code",
   "execution_count": null,
   "id": "e1c3765e",
   "metadata": {},
   "outputs": [],
   "source": [
    "##Lab2 | Flow Control"
   ]
  },
  {
   "cell_type": "code",
   "execution_count": 2,
   "id": "8c27cc2c",
   "metadata": {},
   "outputs": [],
   "source": [
    "#Exercise: Managing Customer Orders Optimized\n",
    "\n",
    "\n",
    "#In the last lab, you were starting an online store that sells various products. To ensure smooth operations, you developed a program that manages customer orders and inventory.\n",
    "\n",
    "#You did so without using flow control. Let's go a step further and improve this code.\n",
    "\n",
    "#Follow the steps below to complete the exercise:\n",
    "\n",
    "#Look at your code from the lab data structures, and improve repeated code with loops.\n",
    "\n",
    "#Instead of asking the user to input the name of three products that a customer wants to order, do the following:\n",
    "\n",
    "#a. Prompt the user to enter the name of a product that a customer wants to order.\n",
    "\n",
    "#b. Add the product name to the \"customer_orders\" set.\n",
    "\n",
    "#c. Ask the user if they want to add another product (yes/no).\n",
    "\n",
    "#d. Continue the loop until the user does not want to add another product.\n",
    "\n",
    "#Instead of updating the inventory by subtracting 1 from the quantity of each product, \n",
    "##only do it for the products that were ordered (those in \"customer_orders\")."
   ]
  },
  {
   "cell_type": "code",
   "execution_count": 28,
   "id": "f8a25760",
   "metadata": {},
   "outputs": [
    {
     "name": "stdout",
     "output_type": "stream",
     "text": [
      "available_products:\n",
      "t-shirt (Quantity: 20)\n",
      "mug (Quantity: 25)\n",
      "hat (Quantity: 15)\n",
      "book (Quantity: 30)\n",
      "keychain (Quantity: 12)\n",
      "Enter the name of the product you want to order: book\n",
      "book added to your order. Thank you!\n",
      "Do you want to add another product? (yes/no): yes\n",
      "available_products:\n",
      "t-shirt (Quantity: 20)\n",
      "mug (Quantity: 25)\n",
      "hat (Quantity: 15)\n",
      "book (Quantity: 30)\n",
      "keychain (Quantity: 12)\n",
      "Enter the name of the product you want to order: hat\n",
      "hat added to your order. Thank you!\n",
      "Do you want to add another product? (yes/no): no\n",
      "Thank you for your orders. Have a great day!\n"
     ]
    }
   ],
   "source": [
    "# List of available products with initial quantities\n",
    "products = {\n",
    "    \"t-shirt\": 20,\n",
    "    \"mug\": 25,\n",
    "    \"hat\": 15,\n",
    "    \"book\": 30, \n",
    "    \"keychain\": 12\n",
    "}\n",
    "\n",
    "# Using Set to store customer orders\n",
    "customer_orders = set()\n",
    "\n",
    "# Using Function to display available products\n",
    "def display_products():\n",
    "    print(\"available_products:\")\n",
    "    for product, quantity in products.items():\n",
    "        print(f\"{product} (Quantity: {quantity})\")\n",
    "\n",
    "# Now using loop for Ordering\n",
    "while True:\n",
    "    display_products()\n",
    "\n",
    "    # Get user's choice\n",
    "    product_name = input(\"Enter the name of the product you want to order: \")\n",
    "\n",
    "    # Check if the product is available\n",
    "    if product_name in products:\n",
    "        customer_orders.add(product_name)  # Add product name to customer_orders set\n",
    "        print(f\"{product_name} added to your order. Thank you!\")\n",
    "\n",
    "        # Ask if the user wants to add another product\n",
    "        another_product = input(\"Do you want to add another product? (yes/no): \")\n",
    "        if another_product.lower() != \"yes\":\n",
    "            print(\"Thank you for your orders. Have a great day!\")\n",
    "            break\n",
    "    else:\n",
    "        print(\"Product not found. Please enter a valid product name.\")\n",
    "\n",
    "\n",
    "#For my reference:\n",
    "# Define set called customer_orders to store the names of products(used as inventory in Lab1).\n",
    "#The user now enters the name of the product they want to order.\n",
    "#The selected product name is added to the customer_orders set.\n",
    "#we can continue loop as long as the user wants to add another product.\n",
    "\n",
    "\n",
    "\n",
    "\n"
   ]
  },
  {
   "cell_type": "code",
   "execution_count": null,
   "id": "18383e62",
   "metadata": {},
   "outputs": [],
   "source": []
  },
  {
   "cell_type": "code",
   "execution_count": null,
   "id": "d020db65",
   "metadata": {},
   "outputs": [],
   "source": []
  }
 ],
 "metadata": {
  "kernelspec": {
   "display_name": "Python 3 (ipykernel)",
   "language": "python",
   "name": "python3"
  },
  "language_info": {
   "codemirror_mode": {
    "name": "ipython",
    "version": 3
   },
   "file_extension": ".py",
   "mimetype": "text/x-python",
   "name": "python",
   "nbconvert_exporter": "python",
   "pygments_lexer": "ipython3",
   "version": "3.9.13"
  }
 },
 "nbformat": 4,
 "nbformat_minor": 5
}
