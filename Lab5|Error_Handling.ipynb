{
 "cells": [
  {
   "cell_type": "markdown",
   "id": "c68f406a",
   "metadata": {},
   "source": [
    "# Lab | Error Handling\n"
   ]
  },
  {
   "cell_type": "markdown",
   "id": "26606da8",
   "metadata": {},
   "source": [
    "# Exercise: Error Handling for Managing Customer Orders"
   ]
  },
  {
   "cell_type": "markdown",
   "id": "9d645601",
   "metadata": {},
   "source": [
    "### The implementation of your code for managing customer orders assumes that the user will always enter a valid input.\n",
    "\n",
    "For example, we could modify the initialize_inventory function to include error handling.\n",
    "\n",
    "If the user enters an invalid quantity (e.g., a negative value or a non-numeric value), display an error message and ask them to re-enter the quantity for that product.\n",
    "Use a try-except block to handle the error and continue prompting the user until a valid quantity is entered.\n",
    "# Step 1: Define the function for initializing the inventory with error handling\n",
    "\n",
    "    "
   ]
  },
  {
   "cell_type": "code",
   "execution_count": 6,
   "id": "476aa71f",
   "metadata": {},
   "outputs": [],
   "source": [
    "def initialize_inventory(products):\n",
    "    inventory = {}\n",
    "    for product in products:\n",
    "        valid_quantity = False\n",
    "        while not valid_quantity:\n",
    "            try:\n",
    "                quantity = int(input(f\"Enter the quantity of {product}s available: \"))\n",
    "                if quantity < 0:\n",
    "                    raise ValueError(\"Invalid quantity! Please enter a non-negative value.\")\n",
    "                valid_quantity = True\n",
    "            except ValueError as error:\n",
    "                print(f\"Error: {error}\")\n",
    "        inventory[product] = quantity\n",
    "    return inventory"
   ]
  },
  {
   "cell_type": "markdown",
   "id": "a073e6ce",
   "metadata": {},
   "source": [
    "# # Let's enhance your code by implementing error handling to handle invalid inputs.\n",
    "Follow the steps below to complete the exercise:"
   ]
  },
  {
   "cell_type": "markdown",
   "id": "7f9e7404",
   "metadata": {},
   "source": [
    "# ##2. Modify the calculate_total_price function to include error handling.\n",
    "If the user enters an invalid price (e.g., a negative value or a non-numeric value), display an error message and ask them to re-enter the price for that product. Use a try-except block to handle the error and continue prompting the user until a valid price is entered."
   ]
  },
  {
   "cell_type": "code",
   "execution_count": 7,
   "id": "a229559c",
   "metadata": {},
   "outputs": [],
   "source": [
    "# Modified function for calculating total price with error handling\n",
    "def calculate_total_price(customer_orders, prices):\n",
    "    total_price = 0\n",
    "    for product in customer_orders:\n",
    "        valid_price = False\n",
    "        while not valid_price:\n",
    "            try:\n",
    "                price = float(input(f\"Enter the price for {product}: \"))\n",
    "                if price < 0:\n",
    "                    raise ValueError(\"Invalid price! Please enter a non-negative value.\")\n",
    "                valid_price = True\n",
    "            except ValueError as error:\n",
    "                print(f\"Error: {error}\")\n",
    "        total_price += price\n",
    "    return total_price\n",
    "    \n",
    "  \n"
   ]
  },
  {
   "cell_type": "markdown",
   "id": "bbab8f0d",
   "metadata": {},
   "source": [
    "# ##3.Modify the get_customer_orders function to include error handling.\n",
    "If the user enters an invalid number of orders (e.g., a negative value or a non-numeric value), display an error message and ask them to re-enter the number of orders. If the user enters an invalid product name (e.g., a product name that is not in the inventory), or that doesn't have stock available, display an error message and ask them to re-enter the product name. Hint: you will need to pass inventory as a parameter Use a try-except block to handle the error and continue prompting the user until a valid product name is entered."
   ]
  },
  {
   "cell_type": "code",
   "execution_count": 8,
   "id": "fd64f6ab",
   "metadata": {},
   "outputs": [],
   "source": [
    "# Modified function for getting customer orders with error handling\n",
    "def get_customer_orders(products, inventory):\n",
    "    valid_orders = False\n",
    "    while not valid_orders:\n",
    "        try:\n",
    "            num_orders = int(input(\"Enter the number of customer orders: \"))\n",
    "            if num_orders < 0:\n",
    "                raise ValueError(\"Invalid number of orders! Please enter a non-negative value.\")\n",
    "            \n",
    "            customer_orders = []\n",
    "            for _ in range(num_orders):\n",
    "                valid_product = False\n",
    "                while not valid_product:\n",
    "                    product = input(\"Enter the product name: \")\n",
    "                    if product in products and inventory.get(product, 0) > 0:\n",
    "                        customer_orders.append(product)\n",
    "                        valid_product = True\n",
    "                    else:\n",
    "                        print(\"Invalid product name or insufficient stock. Please enter a valid product.\")\n",
    "            valid_orders = True\n",
    "        except ValueError as error:\n",
    "            print(f\"Error: {error}\")\n",
    "    \n",
    "    return customer_orders\n"
   ]
  },
  {
   "cell_type": "markdown",
   "id": "c0c7806a",
   "metadata": {},
   "source": [
    "# ##4.Test your code by running the program and deliberately entering invalid quantities and product names. Make sure the error handling mechanism works as expected."
   ]
  },
  {
   "cell_type": "code",
   "execution_count": 4,
   "id": "85820d13",
   "metadata": {},
   "outputs": [
    {
     "name": "stdout",
     "output_type": "stream",
     "text": [
      "Enter the number of customer orders: -2\n",
      "Error: Invalid number of orders! Please enter a non-negative value.\n",
      "Enter the number of customer orders: 7\n",
      "Enter the product name: cap\n",
      "Invalid product name or insufficient stock. Please enter a valid product.\n",
      "Enter the product name: book\n",
      "Enter the product name: key-chain\n",
      "Enter the product name: pen\n",
      "Invalid product name or insufficient stock. Please enter a valid product.\n",
      "Enter the product name: hat\n",
      "Enter the product name: cap\n",
      "Invalid product name or insufficient stock. Please enter a valid product.\n",
      "Enter the product name: book\n",
      "Enter the product name: book\n",
      "Enter the product name: hat\n",
      "Enter the product name: hat\n",
      "Enter the price for book: 12\n",
      "Enter the price for key-chain: 9\n",
      "Enter the price for hat: 10\n",
      "Enter the price for book: 12\n",
      "Enter the price for book: 12\n",
      "Enter the price for hat: 13\n",
      "Enter the price for hat: -5\n",
      "Error: Invalid price! Please enter a non-negative value.\n",
      "Enter the price for hat: -10\n",
      "Error: Invalid price! Please enter a non-negative value.\n",
      "Enter the price for hat: 10\n",
      "Customer Orders: ['book', 'key-chain', 'hat', 'book', 'book', 'hat', 'hat']\n",
      "Total Price: 78.00\n"
     ]
    }
   ],
   "source": [
    "# Example usage\n",
    "products = [\"book\", \"key-chain\", \"hat\"]\n",
    "inventory = {\"book\": 5, \"key-chain\": 10, \"hat\": 7}\n",
    "prices = {\"book\": 20, \"key-chain\": 5, \"hat\": 9}\n",
    "\n",
    "customer_orders = get_customer_orders(products, inventory)\n",
    "total_price = calculate_total_price(customer_orders, prices)\n",
    "print(f\"Customer Orders: {customer_orders}\")\n",
    "print(f\"Total Price: {total_price:.2f}\")"
   ]
  },
  {
   "cell_type": "code",
   "execution_count": null,
   "id": "244650e4",
   "metadata": {},
   "outputs": [],
   "source": []
  },
  {
   "cell_type": "code",
   "execution_count": null,
   "id": "1d6e1292",
   "metadata": {},
   "outputs": [],
   "source": []
  },
  {
   "cell_type": "code",
   "execution_count": null,
   "id": "46f6cf40",
   "metadata": {},
   "outputs": [],
   "source": []
  },
  {
   "cell_type": "code",
   "execution_count": null,
   "id": "34a01d0a",
   "metadata": {},
   "outputs": [],
   "source": []
  }
 ],
 "metadata": {
  "kernelspec": {
   "display_name": "Python 3 (ipykernel)",
   "language": "python",
   "name": "python3"
  },
  "language_info": {
   "codemirror_mode": {
    "name": "ipython",
    "version": 3
   },
   "file_extension": ".py",
   "mimetype": "text/x-python",
   "name": "python",
   "nbconvert_exporter": "python",
   "pygments_lexer": "ipython3",
   "version": "3.9.13"
  }
 },
 "nbformat": 4,
 "nbformat_minor": 5
}
