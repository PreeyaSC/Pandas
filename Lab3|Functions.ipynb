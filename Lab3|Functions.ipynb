{
 "cells": [
  {
   "cell_type": "markdown",
   "id": "4a5abcae",
   "metadata": {},
   "source": [
    "# Lab3|Functions\n"
   ]
  },
  {
   "cell_type": "markdown",
   "id": "f92b7bef",
   "metadata": {},
   "source": [
    "# Exercise: Managing Customer Orders with Functions\n",
    "In the previous exercise, you improved the code for managing customer orders by using loops and flow control. Now, let's take it a step further and refactor the code by introducing functions.\n",
    "\n",
    "Follow the steps below to complete the exercise:"
   ]
  },
  {
   "cell_type": "code",
   "execution_count": null,
   "id": "c9cc0a4c",
   "metadata": {},
   "outputs": [],
   "source": [
    "#1.Define a function named initialize_inventory that takes products as a parameter. Inside the function, \n",
    "#implement the code for initializing the inventory dictionary using a loop and user input.\n"
   ]
  },
  {
   "cell_type": "code",
   "execution_count": 15,
   "id": "87a6bc8a",
   "metadata": {},
   "outputs": [
    {
     "name": "stdout",
     "output_type": "stream",
     "text": [
      "Enter the quantity of book: 9\n",
      "Enter the quantity of hat: 8\n",
      "Enter the quantity of key-chain: 7\n",
      "Initialized Inventory:\n",
      "{'book': 9, 'hat': 8, 'key-chain': 7}\n"
     ]
    }
   ],
   "source": [
    "def initialize_inventory(products):\n",
    "    inventory = {}  # Initialize an empty dictionary for inventory\n",
    "\n",
    "    for product in products:\n",
    "        # Get the quantity of each product from the user\n",
    "        quantity = int(input(f\"Enter the quantity of {product}: \"))\n",
    "        inventory[product] = quantity  # Add product and quantity to inventory dictionary\n",
    "\n",
    "    return inventory\n",
    "\n",
    "# list of products\n",
    "product_list = [\"book\", \"hat\", \"key-chain\"]\n",
    "\n",
    "# Call the function to initialize the inventory dictionary\n",
    "inventory_dict = initialize_inventory(product_list)\n",
    "\n",
    "# Print the result of inventory dictionary\n",
    "print(\"Initialized Inventory:\")\n",
    "print(inventory_dict)\n",
    "\n"
   ]
  },
  {
   "cell_type": "code",
   "execution_count": null,
   "id": "4bbd11a5",
   "metadata": {},
   "outputs": [],
   "source": [
    "#2.Define a function named get_customer_orders that takes no parameters. Inside the function, implement the code\n",
    "#for prompting the user to enter the product names using a loop. The function should return the customer_orders set."
   ]
  },
  {
   "cell_type": "code",
   "execution_count": 16,
   "id": "b596873c",
   "metadata": {},
   "outputs": [
    {
     "name": "stdout",
     "output_type": "stream",
     "text": [
      "Enter a product name(or 'done' to finish): book\n",
      "Enter a product name(or 'done' to finish): hat\n",
      "Enter a product name(or 'done' to finish): key-chain\n",
      "Enter a product name(or 'done' to finish): done\n",
      "Customer Orders:\n",
      "{'hat', 'key-chain', 'book'}\n"
     ]
    }
   ],
   "source": [
    "def get_customer_orders():\n",
    "    customer_orders = set()  # Initialize an empty set for customer_orders\n",
    "\n",
    "    while True:\n",
    "        product = input(\"Enter a product name(or 'done' to finish): \")\n",
    "        if product.lower() == \"done\":\n",
    "            break  # Exit the loop if user enters 'done'\n",
    "        customer_orders.add(product)  # Add the product to the customer_orders set\n",
    "\n",
    "    return customer_orders\n",
    "\n",
    "# Call the function to get customer orders\n",
    "orders = get_customer_orders()\n",
    "\n",
    "# Print the customer orders set\n",
    "print(\"Customer Orders:\")\n",
    "print(orders)\n"
   ]
  },
  {
   "cell_type": "code",
   "execution_count": null,
   "id": "71263bc7",
   "metadata": {},
   "outputs": [],
   "source": [
    "#3.Define a function named update_inventory that takes customer_orders and inventory as parameters. Inside the \n",
    "#function, implement the code for updating the inventory dictionary based on the customer orders."
   ]
  },
  {
   "cell_type": "code",
   "execution_count": 17,
   "id": "703e744e",
   "metadata": {},
   "outputs": [
    {
     "name": "stdout",
     "output_type": "stream",
     "text": [
      "Updated Inventory:\n",
      "{'book': 9, 'hat': 14, 'key-chain': 8}\n"
     ]
    }
   ],
   "source": [
    "def update_inventory(customer_orders, inventory):\n",
    "    for product in customer_orders:\n",
    "        if product in inventory:\n",
    "            inventory[product] -= 1  # Decrease the quantity in inventory for ordered products\n",
    "            if inventory[product] < 0:\n",
    "                print(f\"Warning: Inventory for {product} is negative.\")\n",
    "        else:\n",
    "            print(f\"Warning: {product} is not in the inventory.\")\n",
    "\n",
    "    return inventory\n",
    "\n",
    "# inventory dictionary\n",
    "inventory_dict = {\n",
    "    \"book\": 10,\n",
    "    \"hat\": 15,\n",
    "    \"key-chain\": 8\n",
    "}\n",
    "\n",
    "customer_orders_set = {\"book\", \"hat\"}\n",
    "\n",
    "# Call the function to update the inventory based on customer orders\n",
    "updated_inventory = update_inventory(customer_orders_set, inventory_dict)\n",
    "\n",
    "# Print the updated inventory dictionary\n",
    "print(\"Updated Inventory:\")\n",
    "print(updated_inventory)\n"
   ]
  },
  {
   "cell_type": "code",
   "execution_count": 6,
   "id": "4175e2be",
   "metadata": {},
   "outputs": [],
   "source": [
    "#4.Define a function named calculate_order_statistics that takes customer_orders and products as parameters. \n",
    "#Inside the function, implement the code for calculating the order statistics (total products ordered, and percentage of unique products ordered). The function should return these values."
   ]
  },
  {
   "cell_type": "code",
   "execution_count": 18,
   "id": "5c35d7d9",
   "metadata": {},
   "outputs": [
    {
     "name": "stdout",
     "output_type": "stream",
     "text": [
      "Order Statistics:\n",
      "Total products ordered: 3\n",
      "Percentage of unique products ordered: 100.00%\n"
     ]
    }
   ],
   "source": [
    "def calculate_order_statistics(customer_orders, products):\n",
    "    total_ordered = len(customer_orders)  # Total products ordered\n",
    "\n",
    "    unique_ordered = len(set(customer_orders))  # Count of unique products ordered\n",
    "    total_products = len(products)  # Total number of available products\n",
    "\n",
    "    percentage_unique = (unique_ordered / total_products) * 100  # Percentage of unique products ordered\n",
    "\n",
    "    return total_ordered, percentage_unique\n",
    "\n",
    "\n",
    "product_list = [\"book\", \"key-chain\", \"hat\"]\n",
    "\n",
    "customer_orders_set = {\"book\", \"key-chain\", \"hat\"}\n",
    "\n",
    "# Call the function to calculate order statistics\n",
    "total_ordered_products, percentage_unique_products = calculate_order_statistics(customer_orders_set, product_list)\n",
    "\n",
    "# Print the calculated statistics\n",
    "print(\"Order Statistics:\")\n",
    "print(f\"Total products ordered: {total_ordered_products}\")\n",
    "print(f\"Percentage of unique products ordered: {percentage_unique_products:.2f}%\")\n"
   ]
  },
  {
   "cell_type": "code",
   "execution_count": 19,
   "id": "685b9712",
   "metadata": {},
   "outputs": [],
   "source": [
    "#5.Define a function named print_order_statistics that takes order_statistics as a parameter. Inside the function,\n",
    "#implement the code for printing the order statistics."
   ]
  },
  {
   "cell_type": "code",
   "execution_count": 20,
   "id": "a8ecf884",
   "metadata": {},
   "outputs": [
    {
     "name": "stdout",
     "output_type": "stream",
     "text": [
      "Order Statistics:\n",
      "Total products ordered: 3\n",
      "Percentage of unique products ordered: 100.00%\n"
     ]
    }
   ],
   "source": [
    "def print_order_statistics(order_statistics):\n",
    "    total_products_ordered, percentage_unique = order_statistics\n",
    "    print(\"Order Statistics:\")\n",
    "    print(f\"Total products ordered: {total_products_ordered}\")\n",
    "    print(f\"Percentage of unique products ordered: {percentage_unique:.2f}%\")\n",
    "\n",
    "# order statistics tuple\n",
    "order_statistics = (3, 100.00)\n",
    "\n",
    "# Call the function to print order statistics\n",
    "print_order_statistics(order_statistics)\n"
   ]
  },
  {
   "cell_type": "code",
   "execution_count": 21,
   "id": "7eb5cbf3",
   "metadata": {},
   "outputs": [],
   "source": [
    "#6.Define a function named print_updated_inventory that takes inventory as a parameter. Inside the function, \n",
    "#implement the code for printing the updated inventory."
   ]
  },
  {
   "cell_type": "code",
   "execution_count": 22,
   "id": "33fc8501",
   "metadata": {},
   "outputs": [
    {
     "name": "stdout",
     "output_type": "stream",
     "text": [
      "Updated Inventory:\n",
      "book: 9\n",
      "hat: 14\n",
      "key-chain: 7\n"
     ]
    }
   ],
   "source": [
    "def print_updated_inventory(inventory):\n",
    "    print(\"Updated Inventory:\")\n",
    "    for product, quantity in inventory.items():\n",
    "        print(f\"{product}: {quantity}\")\n",
    "\n",
    "# updated inventory dictionary\n",
    "updated_inventory = {\n",
    "    \"book\": 9,\n",
    "    \"hat\": 14,\n",
    "    \"key-chain\": 7\n",
    "}\n",
    "\n",
    "# Call the function to print updated inventory\n",
    "print_updated_inventory(updated_inventory)\n"
   ]
  },
  {
   "cell_type": "code",
   "execution_count": 23,
   "id": "7b667dd1",
   "metadata": {},
   "outputs": [],
   "source": [
    "#7.Call the functions in the appropriate sequence to execute the program and manage customer orders"
   ]
  },
  {
   "cell_type": "code",
   "execution_count": 24,
   "id": "76d47311",
   "metadata": {},
   "outputs": [
    {
     "name": "stdout",
     "output_type": "stream",
     "text": [
      "Enter the quantity of hat: 3\n",
      "Enter the quantity of key-chain: 4\n",
      "Enter the quantity of book: 5\n",
      "Enter a product name(or 'done' to finish): done\n",
      "Order Statistics:\n",
      "Total products ordered: 0\n",
      "Percentage of unique products ordered: 0.00%\n",
      "Updated Inventory:\n",
      "hat: 3\n",
      "key-chain: 4\n",
      "book: 5\n"
     ]
    }
   ],
   "source": [
    "# Define the functions\n",
    "\n",
    "\n",
    "# list of products\n",
    "product_list = [\"hat\", \"key-chain\", \"book\"]\n",
    "\n",
    "# Call the function to initialize the inventory\n",
    "inventory_dict = initialize_inventory(product_list)\n",
    "\n",
    "# Call the function to get customer orders\n",
    "customer_orders_set = get_customer_orders()\n",
    "\n",
    "# Call the function to update the inventory based on customer orders\n",
    "updated_inventory = update_inventory(customer_orders_set, inventory_dict)\n",
    "\n",
    "# Call the function to calculate order statistics\n",
    "order_statistics = calculate_order_statistics(customer_orders_set, product_list)\n",
    "\n",
    "# Call the function to print order statistics\n",
    "print_order_statistics(order_statistics)\n",
    "\n",
    "# Call the function to print updated inventory\n",
    "print_updated_inventory(updated_inventory)\n"
   ]
  },
  {
   "cell_type": "code",
   "execution_count": null,
   "id": "baa01f82",
   "metadata": {},
   "outputs": [],
   "source": []
  },
  {
   "cell_type": "code",
   "execution_count": null,
   "id": "52b1d230",
   "metadata": {},
   "outputs": [],
   "source": [
    "##Hints for functions:\n",
    "\n",
    "#1.Consider the input parameters required for each function and their return values.\n",
    "#2.Utilize function parameters and return values to transfer data between functions.\n",
    "#3.Test your functions individually to ensure they work correctly."
   ]
  }
 ],
 "metadata": {
  "kernelspec": {
   "display_name": "Python 3 (ipykernel)",
   "language": "python",
   "name": "python3"
  },
  "language_info": {
   "codemirror_mode": {
    "name": "ipython",
    "version": 3
   },
   "file_extension": ".py",
   "mimetype": "text/x-python",
   "name": "python",
   "nbconvert_exporter": "python",
   "pygments_lexer": "ipython3",
   "version": "3.9.13"
  }
 },
 "nbformat": 4,
 "nbformat_minor": 5
}
