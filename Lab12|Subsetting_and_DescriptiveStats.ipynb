{
 "cells": [
  {
   "cell_type": "markdown",
   "id": "cd43c4ff",
   "metadata": {},
   "source": [
    "# Lab|Subsetting_And_DescriptiveStats"
   ]
  },
  {
   "cell_type": "markdown",
   "id": "15e609b8",
   "metadata": {},
   "source": [
    "# Before your start:\n",
    ". Remember that you just need to do one of the challenges.\n",
    "\n",
    ". Keep in mind that you need to use some of the functions you learned in the previous lessons.\n",
    "\n",
    ". All datasets are provided in IronHack's database.\n",
    "\n",
    ". Elaborate your codes and outputs as much as you can.\n",
    "\n",
    ". Try your best to answer the questions and complete the tasks and most importantly: enjoy the process!\n",
    "\n",
    ". Import all the necessary libraries here:"
   ]
  },
  {
   "cell_type": "code",
   "execution_count": null,
   "id": "6ea20eaf",
   "metadata": {},
   "outputs": [],
   "source": [
    "Import all the necessary libraries here:"
   ]
  },
  {
   "cell_type": "code",
   "execution_count": 6,
   "id": "279a04d1",
   "metadata": {},
   "outputs": [],
   "source": [
    "#Import the necessary libraries here:\n",
    "import pandas as pd\n",
    "import numpy as np\n",
    "import random\n",
    "from scipy import stats\n",
    "\n",
    "# Remove warnings (not necessary)\n",
    "import warnings\n",
    "warnings.filterwarnings('ignore')\n",
    "\n",
    "# Data visualization\n",
    "import matplotlib.pyplot as plt\n",
    "import seaborn as sns\n",
    "import plotly.express as px\n",
    "import plotly.graph_objects as go\n",
    "%matplotlib inline"
   ]
  },
  {
   "cell_type": "markdown",
   "id": "f5247b8e",
   "metadata": {},
   "source": [
    "# [ONLY ONE MANDATORY] Challenge 2"
   ]
  },
  {
   "cell_type": "markdown",
   "id": "87ff4fe6",
   "metadata": {},
   "source": [
    "# Load the employees dataset into a dataframe. Call the dataframe employees."
   ]
  },
  {
   "cell_type": "code",
   "execution_count": 9,
   "id": "6aad8c12",
   "metadata": {},
   "outputs": [
    {
     "data": {
      "text/html": [
       "<div>\n",
       "<style scoped>\n",
       "    .dataframe tbody tr th:only-of-type {\n",
       "        vertical-align: middle;\n",
       "    }\n",
       "\n",
       "    .dataframe tbody tr th {\n",
       "        vertical-align: top;\n",
       "    }\n",
       "\n",
       "    .dataframe thead th {\n",
       "        text-align: right;\n",
       "    }\n",
       "</style>\n",
       "<table border=\"1\" class=\"dataframe\">\n",
       "  <thead>\n",
       "    <tr style=\"text-align: right;\">\n",
       "      <th></th>\n",
       "      <th>Name</th>\n",
       "      <th>Department</th>\n",
       "      <th>Education</th>\n",
       "      <th>Gender</th>\n",
       "      <th>Title</th>\n",
       "      <th>Years</th>\n",
       "      <th>Salary</th>\n",
       "    </tr>\n",
       "  </thead>\n",
       "  <tbody>\n",
       "    <tr>\n",
       "      <th>0</th>\n",
       "      <td>Jose</td>\n",
       "      <td>IT</td>\n",
       "      <td>Bachelor</td>\n",
       "      <td>M</td>\n",
       "      <td>analyst</td>\n",
       "      <td>1</td>\n",
       "      <td>35</td>\n",
       "    </tr>\n",
       "    <tr>\n",
       "      <th>1</th>\n",
       "      <td>Maria</td>\n",
       "      <td>IT</td>\n",
       "      <td>Master</td>\n",
       "      <td>F</td>\n",
       "      <td>analyst</td>\n",
       "      <td>2</td>\n",
       "      <td>30</td>\n",
       "    </tr>\n",
       "    <tr>\n",
       "      <th>2</th>\n",
       "      <td>David</td>\n",
       "      <td>HR</td>\n",
       "      <td>Master</td>\n",
       "      <td>M</td>\n",
       "      <td>analyst</td>\n",
       "      <td>2</td>\n",
       "      <td>30</td>\n",
       "    </tr>\n",
       "    <tr>\n",
       "      <th>3</th>\n",
       "      <td>Sonia</td>\n",
       "      <td>HR</td>\n",
       "      <td>Bachelor</td>\n",
       "      <td>F</td>\n",
       "      <td>analyst</td>\n",
       "      <td>4</td>\n",
       "      <td>35</td>\n",
       "    </tr>\n",
       "    <tr>\n",
       "      <th>4</th>\n",
       "      <td>Samuel</td>\n",
       "      <td>Sales</td>\n",
       "      <td>Master</td>\n",
       "      <td>M</td>\n",
       "      <td>associate</td>\n",
       "      <td>3</td>\n",
       "      <td>55</td>\n",
       "    </tr>\n",
       "    <tr>\n",
       "      <th>5</th>\n",
       "      <td>Eva</td>\n",
       "      <td>Sales</td>\n",
       "      <td>Bachelor</td>\n",
       "      <td>F</td>\n",
       "      <td>associate</td>\n",
       "      <td>2</td>\n",
       "      <td>55</td>\n",
       "    </tr>\n",
       "    <tr>\n",
       "      <th>6</th>\n",
       "      <td>Carlos</td>\n",
       "      <td>IT</td>\n",
       "      <td>Master</td>\n",
       "      <td>M</td>\n",
       "      <td>VP</td>\n",
       "      <td>8</td>\n",
       "      <td>70</td>\n",
       "    </tr>\n",
       "    <tr>\n",
       "      <th>7</th>\n",
       "      <td>Pedro</td>\n",
       "      <td>IT</td>\n",
       "      <td>Phd</td>\n",
       "      <td>M</td>\n",
       "      <td>associate</td>\n",
       "      <td>7</td>\n",
       "      <td>60</td>\n",
       "    </tr>\n",
       "    <tr>\n",
       "      <th>8</th>\n",
       "      <td>Ana</td>\n",
       "      <td>HR</td>\n",
       "      <td>Master</td>\n",
       "      <td>F</td>\n",
       "      <td>VP</td>\n",
       "      <td>8</td>\n",
       "      <td>70</td>\n",
       "    </tr>\n",
       "  </tbody>\n",
       "</table>\n",
       "</div>"
      ],
      "text/plain": [
       "     Name Department Education Gender      Title  Years  Salary\n",
       "0    Jose         IT  Bachelor      M    analyst      1      35\n",
       "1   Maria         IT    Master      F    analyst      2      30\n",
       "2   David         HR    Master      M    analyst      2      30\n",
       "3   Sonia         HR  Bachelor      F    analyst      4      35\n",
       "4  Samuel      Sales    Master      M  associate      3      55\n",
       "5     Eva      Sales  Bachelor      F  associate      2      55\n",
       "6  Carlos         IT    Master      M         VP      8      70\n",
       "7   Pedro         IT       Phd      M  associate      7      60\n",
       "8     Ana         HR    Master      F         VP      8      70"
      ]
     },
     "execution_count": 9,
     "metadata": {},
     "output_type": "execute_result"
    }
   ],
   "source": [
    "employee_df = pd.read_csv(\"Employee.csv\")\n",
    "employee_df"
   ]
  },
  {
   "cell_type": "code",
   "execution_count": 10,
   "id": "3b533e85",
   "metadata": {},
   "outputs": [
    {
     "data": {
      "text/html": [
       "<div>\n",
       "<style scoped>\n",
       "    .dataframe tbody tr th:only-of-type {\n",
       "        vertical-align: middle;\n",
       "    }\n",
       "\n",
       "    .dataframe tbody tr th {\n",
       "        vertical-align: top;\n",
       "    }\n",
       "\n",
       "    .dataframe thead th {\n",
       "        text-align: right;\n",
       "    }\n",
       "</style>\n",
       "<table border=\"1\" class=\"dataframe\">\n",
       "  <thead>\n",
       "    <tr style=\"text-align: right;\">\n",
       "      <th></th>\n",
       "      <th>name</th>\n",
       "      <th>department</th>\n",
       "      <th>education</th>\n",
       "      <th>gender</th>\n",
       "      <th>title</th>\n",
       "      <th>years</th>\n",
       "      <th>salary</th>\n",
       "    </tr>\n",
       "  </thead>\n",
       "  <tbody>\n",
       "    <tr>\n",
       "      <th>0</th>\n",
       "      <td>Jose</td>\n",
       "      <td>IT</td>\n",
       "      <td>Bachelor</td>\n",
       "      <td>M</td>\n",
       "      <td>analyst</td>\n",
       "      <td>1</td>\n",
       "      <td>35</td>\n",
       "    </tr>\n",
       "    <tr>\n",
       "      <th>1</th>\n",
       "      <td>Maria</td>\n",
       "      <td>IT</td>\n",
       "      <td>Master</td>\n",
       "      <td>F</td>\n",
       "      <td>analyst</td>\n",
       "      <td>2</td>\n",
       "      <td>30</td>\n",
       "    </tr>\n",
       "    <tr>\n",
       "      <th>2</th>\n",
       "      <td>David</td>\n",
       "      <td>HR</td>\n",
       "      <td>Master</td>\n",
       "      <td>M</td>\n",
       "      <td>analyst</td>\n",
       "      <td>2</td>\n",
       "      <td>30</td>\n",
       "    </tr>\n",
       "    <tr>\n",
       "      <th>3</th>\n",
       "      <td>Sonia</td>\n",
       "      <td>HR</td>\n",
       "      <td>Bachelor</td>\n",
       "      <td>F</td>\n",
       "      <td>analyst</td>\n",
       "      <td>4</td>\n",
       "      <td>35</td>\n",
       "    </tr>\n",
       "    <tr>\n",
       "      <th>4</th>\n",
       "      <td>Samuel</td>\n",
       "      <td>Sales</td>\n",
       "      <td>Master</td>\n",
       "      <td>M</td>\n",
       "      <td>associate</td>\n",
       "      <td>3</td>\n",
       "      <td>55</td>\n",
       "    </tr>\n",
       "    <tr>\n",
       "      <th>5</th>\n",
       "      <td>Eva</td>\n",
       "      <td>Sales</td>\n",
       "      <td>Bachelor</td>\n",
       "      <td>F</td>\n",
       "      <td>associate</td>\n",
       "      <td>2</td>\n",
       "      <td>55</td>\n",
       "    </tr>\n",
       "    <tr>\n",
       "      <th>6</th>\n",
       "      <td>Carlos</td>\n",
       "      <td>IT</td>\n",
       "      <td>Master</td>\n",
       "      <td>M</td>\n",
       "      <td>VP</td>\n",
       "      <td>8</td>\n",
       "      <td>70</td>\n",
       "    </tr>\n",
       "    <tr>\n",
       "      <th>7</th>\n",
       "      <td>Pedro</td>\n",
       "      <td>IT</td>\n",
       "      <td>Phd</td>\n",
       "      <td>M</td>\n",
       "      <td>associate</td>\n",
       "      <td>7</td>\n",
       "      <td>60</td>\n",
       "    </tr>\n",
       "    <tr>\n",
       "      <th>8</th>\n",
       "      <td>Ana</td>\n",
       "      <td>HR</td>\n",
       "      <td>Master</td>\n",
       "      <td>F</td>\n",
       "      <td>VP</td>\n",
       "      <td>8</td>\n",
       "      <td>70</td>\n",
       "    </tr>\n",
       "  </tbody>\n",
       "</table>\n",
       "</div>"
      ],
      "text/plain": [
       "     name department education gender      title  years  salary\n",
       "0    Jose         IT  Bachelor      M    analyst      1      35\n",
       "1   Maria         IT    Master      F    analyst      2      30\n",
       "2   David         HR    Master      M    analyst      2      30\n",
       "3   Sonia         HR  Bachelor      F    analyst      4      35\n",
       "4  Samuel      Sales    Master      M  associate      3      55\n",
       "5     Eva      Sales  Bachelor      F  associate      2      55\n",
       "6  Carlos         IT    Master      M         VP      8      70\n",
       "7   Pedro         IT       Phd      M  associate      7      60\n",
       "8     Ana         HR    Master      F         VP      8      70"
      ]
     },
     "execution_count": 10,
     "metadata": {},
     "output_type": "execute_result"
    }
   ],
   "source": [
    "# Standardize column names to lowercase\n",
    "employee_df.columns = employee_df.columns.str.lower()\n",
    "employee_df"
   ]
  },
  {
   "cell_type": "markdown",
   "id": "8fffb770",
   "metadata": {},
   "source": [
    "# Explore the data types of the employees dataframe. Comment your results."
   ]
  },
  {
   "cell_type": "code",
   "execution_count": 11,
   "id": "abe5d653",
   "metadata": {},
   "outputs": [
    {
     "data": {
      "text/plain": [
       "name          object\n",
       "department    object\n",
       "education     object\n",
       "gender        object\n",
       "title         object\n",
       "years          int64\n",
       "salary         int64\n",
       "dtype: object"
      ]
     },
     "execution_count": 11,
     "metadata": {},
     "output_type": "execute_result"
    }
   ],
   "source": [
    "employee_df.dtypes"
   ]
  },
  {
   "cell_type": "markdown",
   "id": "ce996c16",
   "metadata": {},
   "source": [
    "#\n",
    "In \"employee_df\" columns like name, department, education, gender, and title are of type object, which typically \n",
    "represents strings.\n",
    "\n",
    "years and salary are of type int64, which represents integer values.\n",
    "These datatypes seems fine for the columns based on the type od data they contain."
   ]
  },
  {
   "cell_type": "markdown",
   "id": "bf4d291e",
   "metadata": {},
   "source": [
    "# What's the average salary in this company?"
   ]
  },
  {
   "cell_type": "code",
   "execution_count": 12,
   "id": "e4fe3130",
   "metadata": {},
   "outputs": [
    {
     "data": {
      "text/plain": [
       "(9, 7)"
      ]
     },
     "execution_count": 12,
     "metadata": {},
     "output_type": "execute_result"
    }
   ],
   "source": [
    "employee_df.shape # wanted to check the total records"
   ]
  },
  {
   "cell_type": "code",
   "execution_count": 13,
   "id": "656b5fba",
   "metadata": {},
   "outputs": [],
   "source": [
    "\n",
    "average_salary = employee_df['salary'].mean()"
   ]
  },
  {
   "cell_type": "code",
   "execution_count": 14,
   "id": "55867685",
   "metadata": {},
   "outputs": [
    {
     "name": "stdout",
     "output_type": "stream",
     "text": [
      "Average Salary: 48.888888888888886\n"
     ]
    }
   ],
   "source": [
    "# Print the average salary\n",
    "print(\"Average Salary:\", average_salary)"
   ]
  },
  {
   "cell_type": "markdown",
   "id": "e4bc7da6",
   "metadata": {},
   "source": [
    "# What's the highest salary?"
   ]
  },
  {
   "cell_type": "code",
   "execution_count": 15,
   "id": "5b5e8282",
   "metadata": {},
   "outputs": [
    {
     "name": "stdout",
     "output_type": "stream",
     "text": [
      "Highest Salary: 70\n"
     ]
    }
   ],
   "source": [
    "highest_salary = employee_df['salary'].max()\n",
    "\n",
    "# Print the lowest salary\n",
    "print(\"Highest Salary:\", highest_salary)"
   ]
  },
  {
   "cell_type": "code",
   "execution_count": 16,
   "id": "e4e1caf2",
   "metadata": {},
   "outputs": [
    {
     "name": "stdout",
     "output_type": "stream",
     "text": [
      "Highest Salary: 70\n"
     ]
    }
   ],
   "source": [
    "# Print the highest salary\n",
    "print(\"Highest Salary:\", highest_salary)"
   ]
  },
  {
   "cell_type": "markdown",
   "id": "b40cf274",
   "metadata": {},
   "source": [
    "# What's the lowest salary?"
   ]
  },
  {
   "cell_type": "code",
   "execution_count": 17,
   "id": "a54decf1",
   "metadata": {},
   "outputs": [],
   "source": [
    "lowest_salary = employee_df['salary'].min()"
   ]
  },
  {
   "cell_type": "code",
   "execution_count": 18,
   "id": "2d513aca",
   "metadata": {},
   "outputs": [
    {
     "name": "stdout",
     "output_type": "stream",
     "text": [
      "Lowest Salary: 30\n"
     ]
    }
   ],
   "source": [
    "# Print the lowest salary\n",
    "print(\"Lowest Salary:\", lowest_salary)"
   ]
  },
  {
   "cell_type": "markdown",
   "id": "dec0ce64",
   "metadata": {},
   "source": [
    "# Who are the employees with the lowest salary?"
   ]
  },
  {
   "cell_type": "code",
   "execution_count": 19,
   "id": "7a909b8d",
   "metadata": {},
   "outputs": [],
   "source": [
    "lowest_salary_employees = employee_df[employee_df['salary'] == lowest_salary]\n",
    "\n",
    "# using boolean indexing to filter the rows where the \"salary\" column matches the lowest_salary value."
   ]
  },
  {
   "cell_type": "code",
   "execution_count": 20,
   "id": "7964beaf",
   "metadata": {},
   "outputs": [
    {
     "name": "stdout",
     "output_type": "stream",
     "text": [
      "Employees with the Lowest Salary:\n"
     ]
    },
    {
     "data": {
      "text/html": [
       "<div>\n",
       "<style scoped>\n",
       "    .dataframe tbody tr th:only-of-type {\n",
       "        vertical-align: middle;\n",
       "    }\n",
       "\n",
       "    .dataframe tbody tr th {\n",
       "        vertical-align: top;\n",
       "    }\n",
       "\n",
       "    .dataframe thead th {\n",
       "        text-align: right;\n",
       "    }\n",
       "</style>\n",
       "<table border=\"1\" class=\"dataframe\">\n",
       "  <thead>\n",
       "    <tr style=\"text-align: right;\">\n",
       "      <th></th>\n",
       "      <th>name</th>\n",
       "      <th>department</th>\n",
       "      <th>education</th>\n",
       "      <th>gender</th>\n",
       "      <th>title</th>\n",
       "      <th>years</th>\n",
       "      <th>salary</th>\n",
       "    </tr>\n",
       "  </thead>\n",
       "  <tbody>\n",
       "    <tr>\n",
       "      <th>1</th>\n",
       "      <td>Maria</td>\n",
       "      <td>IT</td>\n",
       "      <td>Master</td>\n",
       "      <td>F</td>\n",
       "      <td>analyst</td>\n",
       "      <td>2</td>\n",
       "      <td>30</td>\n",
       "    </tr>\n",
       "    <tr>\n",
       "      <th>2</th>\n",
       "      <td>David</td>\n",
       "      <td>HR</td>\n",
       "      <td>Master</td>\n",
       "      <td>M</td>\n",
       "      <td>analyst</td>\n",
       "      <td>2</td>\n",
       "      <td>30</td>\n",
       "    </tr>\n",
       "  </tbody>\n",
       "</table>\n",
       "</div>"
      ],
      "text/plain": [
       "    name department education gender    title  years  salary\n",
       "1  Maria         IT    Master      F  analyst      2      30\n",
       "2  David         HR    Master      M  analyst      2      30"
      ]
     },
     "metadata": {},
     "output_type": "display_data"
    }
   ],
   "source": [
    "# Print the employees with the lowest salary\n",
    "print(\"Employees with the Lowest Salary:\")\n",
    "display(lowest_salary_employees)"
   ]
  },
  {
   "cell_type": "markdown",
   "id": "2d2f07b8",
   "metadata": {},
   "source": [
    "# Find all the information about an employee called David."
   ]
  },
  {
   "cell_type": "code",
   "execution_count": 21,
   "id": "2d864547",
   "metadata": {},
   "outputs": [
    {
     "name": "stdout",
     "output_type": "stream",
     "text": [
      "Employee Information for David:\n",
      "    name department education gender    title  years  salary\n",
      "2  David         HR    Master      M  analyst      2      30\n"
     ]
    }
   ],
   "source": [
    "david_employee_info = employee_df[employee_df['name'] == 'David']\n",
    "\n",
    "# Print the information about the employee named David\n",
    "print(\"Employee Information for David:\")\n",
    "print(david_employee_info)"
   ]
  },
  {
   "cell_type": "markdown",
   "id": "f3d9c9ea",
   "metadata": {},
   "source": [
    "# Could you return only David's salary?"
   ]
  },
  {
   "cell_type": "code",
   "execution_count": 22,
   "id": "e222ad54",
   "metadata": {},
   "outputs": [
    {
     "name": "stdout",
     "output_type": "stream",
     "text": [
      "David's Salary: 30\n"
     ]
    }
   ],
   "source": [
    "# Filter rows where the name is \"David\" and select the \"salary\" column\n",
    "david_salary = employee_df.loc[employee_df['name'] == 'David', 'salary'].values[0]\n",
    "\n",
    "# Print David's salary\n",
    "print(\"David's Salary:\", david_salary)"
   ]
  },
  {
   "cell_type": "code",
   "execution_count": 24,
   "id": "adfd60cb",
   "metadata": {},
   "outputs": [],
   "source": [
    "#1.using boolean indexing to filter the rows where the \"name\" column matches the value \"David.\"\n",
    "\n",
    "#2.Then using .loc to select the \"salary\" column for those filtered rows.\n",
    "\n",
    "#3.Finally, using .values[0] to access the first (and only) value in the resulting Series, which represents David's salary.\n",
    "\n"
   ]
  },
  {
   "cell_type": "markdown",
   "id": "013edf1a",
   "metadata": {},
   "source": [
    "# Print all the rows where job title is associate."
   ]
  },
  {
   "cell_type": "code",
   "execution_count": 25,
   "id": "d4c919e4",
   "metadata": {},
   "outputs": [
    {
     "name": "stdout",
     "output_type": "stream",
     "text": [
      "Employees with the Title 'Associate':\n",
      "     name department education gender      title  years  salary\n",
      "4  Samuel      Sales    Master      M  associate      3      55\n",
      "5     Eva      Sales  Bachelor      F  associate      2      55\n",
      "7   Pedro         IT       Phd      M  associate      7      60\n"
     ]
    }
   ],
   "source": [
    "title_associate = employee_df[employee_df['title'] == 'associate']\n",
    "\n",
    "# Print all rows with the job title \"Associate\"\n",
    "print(\"Employees with the Title 'Associate':\")\n",
    "print(title_associate)"
   ]
  },
  {
   "cell_type": "markdown",
   "id": "0eb34cd1",
   "metadata": {},
   "source": [
    "# Print the first 3 rows of your dataframe.\n",
    "Tip: There are 2 ways to do it. Do it both ways."
   ]
  },
  {
   "cell_type": "code",
   "execution_count": 27,
   "id": "c6477c51",
   "metadata": {},
   "outputs": [
    {
     "data": {
      "text/html": [
       "<div>\n",
       "<style scoped>\n",
       "    .dataframe tbody tr th:only-of-type {\n",
       "        vertical-align: middle;\n",
       "    }\n",
       "\n",
       "    .dataframe tbody tr th {\n",
       "        vertical-align: top;\n",
       "    }\n",
       "\n",
       "    .dataframe thead th {\n",
       "        text-align: right;\n",
       "    }\n",
       "</style>\n",
       "<table border=\"1\" class=\"dataframe\">\n",
       "  <thead>\n",
       "    <tr style=\"text-align: right;\">\n",
       "      <th></th>\n",
       "      <th>name</th>\n",
       "      <th>department</th>\n",
       "      <th>education</th>\n",
       "      <th>gender</th>\n",
       "      <th>title</th>\n",
       "      <th>years</th>\n",
       "      <th>salary</th>\n",
       "    </tr>\n",
       "  </thead>\n",
       "  <tbody>\n",
       "    <tr>\n",
       "      <th>0</th>\n",
       "      <td>Jose</td>\n",
       "      <td>IT</td>\n",
       "      <td>Bachelor</td>\n",
       "      <td>M</td>\n",
       "      <td>analyst</td>\n",
       "      <td>1</td>\n",
       "      <td>35</td>\n",
       "    </tr>\n",
       "    <tr>\n",
       "      <th>1</th>\n",
       "      <td>Maria</td>\n",
       "      <td>IT</td>\n",
       "      <td>Master</td>\n",
       "      <td>F</td>\n",
       "      <td>analyst</td>\n",
       "      <td>2</td>\n",
       "      <td>30</td>\n",
       "    </tr>\n",
       "    <tr>\n",
       "      <th>2</th>\n",
       "      <td>David</td>\n",
       "      <td>HR</td>\n",
       "      <td>Master</td>\n",
       "      <td>M</td>\n",
       "      <td>analyst</td>\n",
       "      <td>2</td>\n",
       "      <td>30</td>\n",
       "    </tr>\n",
       "  </tbody>\n",
       "</table>\n",
       "</div>"
      ],
      "text/plain": [
       "    name department education gender    title  years  salary\n",
       "0   Jose         IT  Bachelor      M  analyst      1      35\n",
       "1  Maria         IT    Master      F  analyst      2      30\n",
       "2  David         HR    Master      M  analyst      2      30"
      ]
     },
     "execution_count": 27,
     "metadata": {},
     "output_type": "execute_result"
    }
   ],
   "source": [
    "# Method 1\n",
    "employee_df.head(3)"
   ]
  },
  {
   "cell_type": "code",
   "execution_count": 28,
   "id": "4fb51409",
   "metadata": {},
   "outputs": [
    {
     "data": {
      "text/html": [
       "<div>\n",
       "<style scoped>\n",
       "    .dataframe tbody tr th:only-of-type {\n",
       "        vertical-align: middle;\n",
       "    }\n",
       "\n",
       "    .dataframe tbody tr th {\n",
       "        vertical-align: top;\n",
       "    }\n",
       "\n",
       "    .dataframe thead th {\n",
       "        text-align: right;\n",
       "    }\n",
       "</style>\n",
       "<table border=\"1\" class=\"dataframe\">\n",
       "  <thead>\n",
       "    <tr style=\"text-align: right;\">\n",
       "      <th></th>\n",
       "      <th>name</th>\n",
       "      <th>department</th>\n",
       "      <th>education</th>\n",
       "      <th>gender</th>\n",
       "      <th>title</th>\n",
       "      <th>years</th>\n",
       "      <th>salary</th>\n",
       "    </tr>\n",
       "  </thead>\n",
       "  <tbody>\n",
       "    <tr>\n",
       "      <th>0</th>\n",
       "      <td>Jose</td>\n",
       "      <td>IT</td>\n",
       "      <td>Bachelor</td>\n",
       "      <td>M</td>\n",
       "      <td>analyst</td>\n",
       "      <td>1</td>\n",
       "      <td>35</td>\n",
       "    </tr>\n",
       "    <tr>\n",
       "      <th>1</th>\n",
       "      <td>Maria</td>\n",
       "      <td>IT</td>\n",
       "      <td>Master</td>\n",
       "      <td>F</td>\n",
       "      <td>analyst</td>\n",
       "      <td>2</td>\n",
       "      <td>30</td>\n",
       "    </tr>\n",
       "    <tr>\n",
       "      <th>2</th>\n",
       "      <td>David</td>\n",
       "      <td>HR</td>\n",
       "      <td>Master</td>\n",
       "      <td>M</td>\n",
       "      <td>analyst</td>\n",
       "      <td>2</td>\n",
       "      <td>30</td>\n",
       "    </tr>\n",
       "  </tbody>\n",
       "</table>\n",
       "</div>"
      ],
      "text/plain": [
       "    name department education gender    title  years  salary\n",
       "0   Jose         IT  Bachelor      M  analyst      1      35\n",
       "1  Maria         IT    Master      F  analyst      2      30\n",
       "2  David         HR    Master      M  analyst      2      30"
      ]
     },
     "execution_count": 28,
     "metadata": {},
     "output_type": "execute_result"
    }
   ],
   "source": [
    "# Method 2\n",
    "employee_df[:3] #Using indexing"
   ]
  },
  {
   "cell_type": "markdown",
   "id": "69f06c34",
   "metadata": {},
   "source": [
    "# Find the employees whose title is associate and whose salary is above 55."
   ]
  },
  {
   "cell_type": "code",
   "execution_count": 29,
   "id": "e1ac4362",
   "metadata": {},
   "outputs": [
    {
     "name": "stdout",
     "output_type": "stream",
     "text": [
      "Employees with Title 'Associate' and Salary > 55:\n"
     ]
    },
    {
     "data": {
      "text/html": [
       "<div>\n",
       "<style scoped>\n",
       "    .dataframe tbody tr th:only-of-type {\n",
       "        vertical-align: middle;\n",
       "    }\n",
       "\n",
       "    .dataframe tbody tr th {\n",
       "        vertical-align: top;\n",
       "    }\n",
       "\n",
       "    .dataframe thead th {\n",
       "        text-align: right;\n",
       "    }\n",
       "</style>\n",
       "<table border=\"1\" class=\"dataframe\">\n",
       "  <thead>\n",
       "    <tr style=\"text-align: right;\">\n",
       "      <th></th>\n",
       "      <th>name</th>\n",
       "      <th>department</th>\n",
       "      <th>education</th>\n",
       "      <th>gender</th>\n",
       "      <th>title</th>\n",
       "      <th>years</th>\n",
       "      <th>salary</th>\n",
       "    </tr>\n",
       "  </thead>\n",
       "  <tbody>\n",
       "    <tr>\n",
       "      <th>7</th>\n",
       "      <td>Pedro</td>\n",
       "      <td>IT</td>\n",
       "      <td>Phd</td>\n",
       "      <td>M</td>\n",
       "      <td>associate</td>\n",
       "      <td>7</td>\n",
       "      <td>60</td>\n",
       "    </tr>\n",
       "  </tbody>\n",
       "</table>\n",
       "</div>"
      ],
      "text/plain": [
       "    name department education gender      title  years  salary\n",
       "7  Pedro         IT       Phd      M  associate      7      60"
      ]
     },
     "metadata": {},
     "output_type": "display_data"
    }
   ],
   "source": [
    "\n",
    "associate_above_55 = employee_df[(employee_df['title'] == 'associate') & (employee_df['salary'] > 55)]\n",
    "\n",
    "# Print employees who meet both conditions\n",
    "print(\"Employees with Title 'Associate' and Salary > 55:\")\n",
    "display(associate_above_55)\n"
   ]
  },
  {
   "cell_type": "code",
   "execution_count": 30,
   "id": "232bc3ae",
   "metadata": {},
   "outputs": [],
   "source": [
    "# Using boolean indexing with multiple conditions. The & operator is used to combine the conditions so that we \n",
    "#filter rows where both conditions are true."
   ]
  },
  {
   "cell_type": "markdown",
   "id": "ee4c4cc2",
   "metadata": {},
   "source": [
    "# Group the employees by number of years of employment. What are the average salaries in each group?"
   ]
  },
  {
   "cell_type": "code",
   "execution_count": 31,
   "id": "96a77ff5",
   "metadata": {},
   "outputs": [
    {
     "name": "stdout",
     "output_type": "stream",
     "text": [
      "Average Salaries by Years of Employment:\n"
     ]
    },
    {
     "data": {
      "text/plain": [
       "years\n",
       "1    35.000000\n",
       "2    38.333333\n",
       "3    55.000000\n",
       "4    35.000000\n",
       "7    60.000000\n",
       "8    70.000000\n",
       "Name: salary, dtype: float64"
      ]
     },
     "metadata": {},
     "output_type": "display_data"
    }
   ],
   "source": [
    "average_salaries_by_years = employee_df.groupby('years')['salary'].mean()\n",
    "\n",
    "# Print the average salaries in each group\n",
    "print(\"Average Salaries by Years of Employment:\")\n",
    "display(average_salaries_by_years)\n"
   ]
  },
  {
   "cell_type": "markdown",
   "id": "91292eb7",
   "metadata": {},
   "source": [
    "# What is the average salary per title?"
   ]
  },
  {
   "cell_type": "code",
   "execution_count": 32,
   "id": "0926eeea",
   "metadata": {},
   "outputs": [
    {
     "name": "stdout",
     "output_type": "stream",
     "text": [
      "Average Salary Per Title:\n"
     ]
    },
    {
     "data": {
      "text/html": [
       "<div>\n",
       "<style scoped>\n",
       "    .dataframe tbody tr th:only-of-type {\n",
       "        vertical-align: middle;\n",
       "    }\n",
       "\n",
       "    .dataframe tbody tr th {\n",
       "        vertical-align: top;\n",
       "    }\n",
       "\n",
       "    .dataframe thead th {\n",
       "        text-align: right;\n",
       "    }\n",
       "</style>\n",
       "<table border=\"1\" class=\"dataframe\">\n",
       "  <thead>\n",
       "    <tr style=\"text-align: right;\">\n",
       "      <th></th>\n",
       "      <th>title</th>\n",
       "      <th>salary</th>\n",
       "    </tr>\n",
       "  </thead>\n",
       "  <tbody>\n",
       "    <tr>\n",
       "      <th>0</th>\n",
       "      <td>VP</td>\n",
       "      <td>70.000000</td>\n",
       "    </tr>\n",
       "    <tr>\n",
       "      <th>1</th>\n",
       "      <td>analyst</td>\n",
       "      <td>32.500000</td>\n",
       "    </tr>\n",
       "    <tr>\n",
       "      <th>2</th>\n",
       "      <td>associate</td>\n",
       "      <td>56.666667</td>\n",
       "    </tr>\n",
       "  </tbody>\n",
       "</table>\n",
       "</div>"
      ],
      "text/plain": [
       "       title     salary\n",
       "0         VP  70.000000\n",
       "1    analyst  32.500000\n",
       "2  associate  56.666667"
      ]
     },
     "metadata": {},
     "output_type": "display_data"
    }
   ],
   "source": [
    "average_salary_per_title = employee_df.groupby('title')['salary'].mean().reset_index()\n",
    "\n",
    "# Print the average salary per title\n",
    "print(\"Average Salary Per Title:\")\n",
    "display(average_salary_per_title)"
   ]
  },
  {
   "cell_type": "markdown",
   "id": "70f73e54",
   "metadata": {},
   "source": [
    "# Find the salary quartiles."
   ]
  },
  {
   "cell_type": "code",
   "execution_count": 34,
   "id": "aeb36f12",
   "metadata": {},
   "outputs": [
    {
     "name": "stdout",
     "output_type": "stream",
     "text": [
      "Salary Quartiles:\n",
      "Q1 (25th Percentile): 35.0\n",
      "Q2 (Median, 50th Percentile): 55.0\n",
      "Q3 (75th Percentile): 60.0\n"
     ]
    }
   ],
   "source": [
    "\n",
    "# Calculate the first quartile (Q1, 25th percentile)\n",
    "Q1 = employee_df['salary'].quantile(0.25)\n",
    "\n",
    "# Calculate the second quartile (Q2, median, 50th percentile)\n",
    "Q2 = employee_df['salary'].quantile(0.50)\n",
    "\n",
    "# Calculate the third quartile (Q3, 75th percentile)\n",
    "Q3 = employee_df['salary'].quantile(0.75)\n",
    "\n",
    "# Print the quartiles\n",
    "print(\"Salary Quartiles:\")\n",
    "print(\"Q1 (25th Percentile):\", Q1)\n",
    "print(\"Q2 (Median, 50th Percentile):\", Q2)\n",
    "print(\"Q3 (75th Percentile):\", Q3)\n"
   ]
  },
  {
   "cell_type": "markdown",
   "id": "d4f2c3de",
   "metadata": {},
   "source": [
    "# Is the mean salary different per gender?"
   ]
  },
  {
   "cell_type": "code",
   "execution_count": 36,
   "id": "4a5b3878",
   "metadata": {},
   "outputs": [
    {
     "name": "stdout",
     "output_type": "stream",
     "text": [
      "Mean Salary by Gender:\n"
     ]
    },
    {
     "data": {
      "text/plain": [
       "gender\n",
       "F    47.5\n",
       "M    50.0\n",
       "Name: salary, dtype: float64"
      ]
     },
     "metadata": {},
     "output_type": "display_data"
    }
   ],
   "source": [
    "# Calculate the mean salary for each gender\n",
    "mean_salary_by_gender = employee_df.groupby('gender')['salary'].mean()\n",
    "\n",
    "# Print the mean salary by gender\n",
    "print(\"Mean Salary by Gender:\")\n",
    "display(mean_salary_by_gender)\n"
   ]
  },
  {
   "cell_type": "code",
   "execution_count": null,
   "id": "d3970e40",
   "metadata": {},
   "outputs": [],
   "source": [
    "#yes, as per above results mean salary seems different per gender."
   ]
  },
  {
   "cell_type": "markdown",
   "id": "224e7508",
   "metadata": {},
   "source": [
    "# Find the minimum, mean and maximum of all numeric columns for each company department."
   ]
  },
  {
   "cell_type": "code",
   "execution_count": 38,
   "id": "a819c896",
   "metadata": {},
   "outputs": [
    {
     "name": "stdout",
     "output_type": "stream",
     "text": [
      "Department-wise Statistics:\n"
     ]
    },
    {
     "data": {
      "text/html": [
       "<div>\n",
       "<style scoped>\n",
       "    .dataframe tbody tr th:only-of-type {\n",
       "        vertical-align: middle;\n",
       "    }\n",
       "\n",
       "    .dataframe tbody tr th {\n",
       "        vertical-align: top;\n",
       "    }\n",
       "\n",
       "    .dataframe thead tr th {\n",
       "        text-align: left;\n",
       "    }\n",
       "\n",
       "    .dataframe thead tr:last-of-type th {\n",
       "        text-align: right;\n",
       "    }\n",
       "</style>\n",
       "<table border=\"1\" class=\"dataframe\">\n",
       "  <thead>\n",
       "    <tr>\n",
       "      <th></th>\n",
       "      <th colspan=\"3\" halign=\"left\">salary</th>\n",
       "      <th colspan=\"3\" halign=\"left\">years</th>\n",
       "    </tr>\n",
       "    <tr>\n",
       "      <th></th>\n",
       "      <th>min</th>\n",
       "      <th>mean</th>\n",
       "      <th>max</th>\n",
       "      <th>min</th>\n",
       "      <th>mean</th>\n",
       "      <th>max</th>\n",
       "    </tr>\n",
       "    <tr>\n",
       "      <th>department</th>\n",
       "      <th></th>\n",
       "      <th></th>\n",
       "      <th></th>\n",
       "      <th></th>\n",
       "      <th></th>\n",
       "      <th></th>\n",
       "    </tr>\n",
       "  </thead>\n",
       "  <tbody>\n",
       "    <tr>\n",
       "      <th>HR</th>\n",
       "      <td>30</td>\n",
       "      <td>45.00</td>\n",
       "      <td>70</td>\n",
       "      <td>2</td>\n",
       "      <td>4.666667</td>\n",
       "      <td>8</td>\n",
       "    </tr>\n",
       "    <tr>\n",
       "      <th>IT</th>\n",
       "      <td>30</td>\n",
       "      <td>48.75</td>\n",
       "      <td>70</td>\n",
       "      <td>1</td>\n",
       "      <td>4.500000</td>\n",
       "      <td>8</td>\n",
       "    </tr>\n",
       "    <tr>\n",
       "      <th>Sales</th>\n",
       "      <td>55</td>\n",
       "      <td>55.00</td>\n",
       "      <td>55</td>\n",
       "      <td>2</td>\n",
       "      <td>2.500000</td>\n",
       "      <td>3</td>\n",
       "    </tr>\n",
       "  </tbody>\n",
       "</table>\n",
       "</div>"
      ],
      "text/plain": [
       "           salary            years              \n",
       "              min   mean max   min      mean max\n",
       "department                                      \n",
       "HR             30  45.00  70     2  4.666667   8\n",
       "IT             30  48.75  70     1  4.500000   8\n",
       "Sales          55  55.00  55     2  2.500000   3"
      ]
     },
     "metadata": {},
     "output_type": "display_data"
    }
   ],
   "source": [
    "\n",
    "# Group the data by department and calculate statistics for numeric columns\n",
    "department_stats = employee_df.groupby('department').agg({'salary': ['min', 'mean', 'max'], 'years': ['min', 'mean', 'max']})\n",
    "\n",
    "# Print the department-wise statistics\n",
    "print(\"Department-wise Statistics:\")\n",
    "display(department_stats)\n"
   ]
  },
  {
   "cell_type": "code",
   "execution_count": null,
   "id": "25b5d5d0",
   "metadata": {},
   "outputs": [],
   "source": []
  },
  {
   "cell_type": "code",
   "execution_count": null,
   "id": "5fafe298",
   "metadata": {},
   "outputs": [],
   "source": [
    "Bonus Question: for each department, compute the difference between the maximum and the minimum salary.\n",
    "Hint: try using agg or apply combined with lambda functions."
   ]
  },
  {
   "cell_type": "code",
   "execution_count": 44,
   "id": "b5ca289c",
   "metadata": {},
   "outputs": [],
   "source": [
    "# Define a custom aggregation function to compute the salary difference\n",
    "salary_difference = lambda x: x.max() - x.min()\n"
   ]
  },
  {
   "cell_type": "code",
   "execution_count": 40,
   "id": "74d4c989",
   "metadata": {},
   "outputs": [],
   "source": [
    "# Group the data by department and apply the custom function to the 'salary' column\n",
    "department_salary_difference = employee_df.groupby('department')['salary'].agg(salary_difference)"
   ]
  },
  {
   "cell_type": "code",
   "execution_count": 42,
   "id": "f23a336e",
   "metadata": {},
   "outputs": [
    {
     "name": "stdout",
     "output_type": "stream",
     "text": [
      "Department-wise Salary Differences:\n"
     ]
    },
    {
     "data": {
      "text/plain": [
       "department\n",
       "HR       40\n",
       "IT       40\n",
       "Sales     0\n",
       "Name: salary, dtype: int64"
      ]
     },
     "metadata": {},
     "output_type": "display_data"
    }
   ],
   "source": [
    "# Print the department-wise salary differences\n",
    "print(\"Department-wise Salary Differences:\")\n",
    "display(department_salary_difference)"
   ]
  },
  {
   "cell_type": "code",
   "execution_count": null,
   "id": "2cfb886d",
   "metadata": {},
   "outputs": [],
   "source": []
  },
  {
   "cell_type": "code",
   "execution_count": null,
   "id": "2f796a7d",
   "metadata": {},
   "outputs": [],
   "source": []
  },
  {
   "cell_type": "code",
   "execution_count": null,
   "id": "2f698709",
   "metadata": {},
   "outputs": [],
   "source": []
  }
 ],
 "metadata": {
  "kernelspec": {
   "display_name": "Python 3 (ipykernel)",
   "language": "python",
   "name": "python3"
  },
  "language_info": {
   "codemirror_mode": {
    "name": "ipython",
    "version": 3
   },
   "file_extension": ".py",
   "mimetype": "text/x-python",
   "name": "python",
   "nbconvert_exporter": "python",
   "pygments_lexer": "ipython3",
   "version": "3.9.13"
  }
 },
 "nbformat": 4,
 "nbformat_minor": 5
}
