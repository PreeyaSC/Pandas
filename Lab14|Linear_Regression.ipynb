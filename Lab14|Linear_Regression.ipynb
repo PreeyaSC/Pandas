{
 "cells": [
  {
   "cell_type": "markdown",
   "metadata": {},
   "source": [
    "# Lab: Regression Analysis"
   ]
  },
  {
   "cell_type": "markdown",
   "metadata": {},
   "source": [
    "### Before you start:\n",
    "\n",
    "* Read the README.md file\n",
    "* Comment as much as you can and use the resources (README.md file) \n",
    "\n",
    "Happy learning!"
   ]
  },
  {
   "cell_type": "markdown",
   "metadata": {},
   "source": [
    "# Step 1: Import Libraries"
   ]
  },
  {
   "cell_type": "code",
   "execution_count": 2,
   "metadata": {},
   "outputs": [],
   "source": [
    "import numpy as np\n",
    "import pandas as pd\n",
    "pd.set_option('display.max_rows', 500)\n",
    "\n",
    "from sklearn import linear_model\n",
    "from sklearn.model_selection import train_test_split\n",
    "from sklearn.metrics import mean_squared_error, r2_score\n",
    "\n",
    "import matplotlib.pyplot as plt\n",
    "import seaborn as sns\n",
    "import plotly.express as px\n",
    "from plotly.subplots import make_subplots\n",
    "import plotly.graph_objects as go\n"
   ]
  },
  {
   "cell_type": "markdown",
   "metadata": {},
   "source": [
    "## Challenge 1\n",
    "#I work at a coding bootcamp, and I have developed a theory that the younger my students are, the more often they are late to class. In order to test my hypothesis, I have collected some data in the following table:\n",
    "\n",
    "| StudentID | Age | Tardies |\n",
    "|--------|-----|------------|\n",
    "| 1      | 17  | 10         |\n",
    "| 2      | 51  | 1          |\n",
    "| 3      | 27  | 5          |\n",
    "| 4      | 21  | 9         |\n",
    "| 5      | 36  |  4         |\n",
    "| 6      | 48  |  2         |\n",
    "| 7      | 19  |  9         |\n",
    "| 8      | 26  | 6          |\n",
    "| 9      | 54  |  0         |\n",
    "| 10     | 30  |  3         |"
   ]
  },
  {
   "cell_type": "markdown",
   "metadata": {},
   "source": [
    "Use this command to create a dataframe with the data provided in the table. \n",
    "~~~~\n",
    "student_data = pd.DataFrame({'X': [x_values], 'Y': [y_values]})\n",
    "~~~~"
   ]
  },
  {
   "cell_type": "markdown",
   "metadata": {},
   "source": [
    "# Step 2: Create the DataFrame"
   ]
  },
  {
   "cell_type": "code",
   "execution_count": 12,
   "metadata": {},
   "outputs": [],
   "source": [
    "student_data = pd.DataFrame({'Age': [17, 51, 27, 21, 36, 48, 19, 26, 54, 30], 'Tardies': [10, 1, 5, 9, 4, 2, 9, 6, 0, 3]})"
   ]
  },
  {
   "cell_type": "code",
   "execution_count": 13,
   "metadata": {},
   "outputs": [
    {
     "name": "stdout",
     "output_type": "stream",
     "text": [
      "   Age  Tardies\n",
      "0   17       10\n",
      "1   51        1\n",
      "2   27        5\n",
      "3   21        9\n",
      "4   36        4\n",
      "5   48        2\n",
      "6   19        9\n",
      "7   26        6\n",
      "8   54        0\n",
      "9   30        3\n"
     ]
    }
   ],
   "source": [
    "# Display the DataFrame\n",
    "print(student_data)"
   ]
  },
  {
   "cell_type": "markdown",
   "metadata": {},
   "source": [
    "# Step 3: Visualize the Data"
   ]
  },
  {
   "cell_type": "markdown",
   "metadata": {},
   "source": [
    " # #Draw a dispersion diagram (scatter plot) for the data."
   ]
  },
  {
   "cell_type": "code",
   "execution_count": 15,
   "metadata": {},
   "outputs": [
    {
     "data": {
      "image/png": "[encoded data removed]",
      "text/plain": [
       "<Figure size 640x480 with 1 Axes>"
      ]
     },
     "metadata": {},
     "output_type": "display_data"
    }
   ],
   "source": [
    "plt.scatter(student_data['Age'], student_data['Tardies'])\n",
    "plt.xlabel('Age')\n",
    "plt.ylabel('Tardies')\n",
    "plt.title('Scatter Plot: Age vs. Tardies')\n",
    "plt.show()\n"
   ]
  },
  {
   "cell_type": "markdown",
   "metadata": {},
   "source": [
    "# #Do you see a trend? Can you make any hypotheses about the relationship between age and number of tardies?"
   ]
  },
  {
   "cell_type": "code",
   "execution_count": null,
   "metadata": {},
   "outputs": [],
   "source": [
    "# We can see clearly from the scatter plot that as the age of students increases, the number of tardies decreases.\n",
    "# younger students tend to have more tardies, while older students tend to have fewer tardies.\n",
    "# Following hypotheses can be made about the relationship betwen age and number of tardies:\n",
    "# 1)There seems to be an inverse (negative) relationship between a student's age and the number of tardies.\n",
    "  #In other words, as students get older, they are less likely to be late to class.\n",
    "# 2)The trend appears to be linear, meaning that the number of tardies decreases roughly linearly as age increases.\n"
   ]
  },
  {
   "cell_type": "markdown",
   "metadata": {},
   "source": [
    "# Step 4: Calculate covariance and correlation"
   ]
  },
  {
   "cell_type": "markdown",
   "metadata": {},
   "source": [
    "## Calculate the covariance and correlation of the variables in your plot. What is the difference between these two measures? Compare their values. What do they tell you in this case? Add your responses as comments after your code."
   ]
  },
  {
   "cell_type": "code",
   "execution_count": 16,
   "metadata": {},
   "outputs": [
    {
     "name": "stdout",
     "output_type": "stream",
     "text": [
      "Covariance between Age and Tardies: -45.56666666666666\n",
      "Correlation between Age and Tardies: -0.9391626886887122\n"
     ]
    }
   ],
   "source": [
    "# Calculate covariance\n",
    "covariance = student_data['Age'].cov(student_data['Tardies'])\n",
    "\n",
    "# Calculate correlation\n",
    "correlation = student_data['Age'].corr(student_data['Tardies'])\n",
    "\n",
    "# Print results\n",
    "print(f\"Covariance between Age and Tardies: {covariance}\")\n",
    "print(f\"Correlation between Age and Tardies: {correlation}\")\n"
   ]
  },
  {
   "cell_type": "markdown",
   "metadata": {},
   "source": [
    "# Difference between covariance and correlation:\n",
    "  #Covariance: Covariance measures the degree to which two variables change together. A positive covariance \n",
    "indicates that as one variable increases, the other tends to increase as well (positive relationship), while a\n",
    "negative covariance indicates that as one variable increases, the other tends to decrease (negative relationship). \n",
    "The magnitude of covariance does not have a fixed range, so it's challenging to interpret the strength of the\n",
    "relationship.\n",
    "\n",
    "  #Correlation: Correlation is a standardized measure of the linear relationship between two variables.It provides a value between -1 and 1. A positive correlation value (close to 1) indicates a strong positive linear relationship,while a negative correlation value (close to -1) indicates a strong negative linear relationship. A correlation value close to 0 suggests a weak or no linear relationship. Correlation also considers the scale of the variables,making it easier to compare relationships.\n",
    "\n",
    "# Now comparing their values we got.\n",
    " Covariance: The negative covariance value (-45.57) suggests that there is a negative relationship between a \n",
    "student's age and the number of tardies. As age increases, the number of tardies tends to decrease. \n",
    "The negative sign indicates an inverse relationship, which aligns with the observation from the scatter plot.\n",
    "\n",
    "Correlation: The strong negative correlation value (-0.939) confirms the strong negative linear \n",
    "relationship between age and tardies. This indicates that there is a high degree of negative linear association \n",
    "between a student's age and the number of tardies. As age increases, students are increasingly less likely to be \n",
    "late to class.\n",
    "# What do they tell us in this case?\n",
    "It tells us that both covariance and correlation provide evidence supporting our initial hypothesis that younger students tend to be more often late to class. The correlation value of approximately -0.939 quantifies the \n",
    "strength of this negative relationship, indicating a strong association between age and tardiness."
   ]
  },
  {
   "cell_type": "markdown",
   "metadata": {},
   "source": [
    "# Step 5: Modelling\n"
   ]
  },
  {
   "cell_type": "markdown",
   "metadata": {},
   "source": [
    "# \n",
    "We first create the model. This just tells python to be ready to use a linear model, it does not actually compute anything yet:"
   ]
  },
  {
   "cell_type": "markdown",
   "metadata": {},
   "source": [
    "# Build a regression model for this data. What will be your outcome variable? What type of regression are you using? Add your responses as comments after your code."
   ]
  },
  {
   "cell_type": "code",
   "execution_count": 22,
   "metadata": {},
   "outputs": [],
   "source": [
    "# Create and train the linear regression model\n",
    "model = linear_model.LinearRegression()"
   ]
  },
  {
   "cell_type": "markdown",
   "metadata": {},
   "source": [
    "# Train the data\n",
    "Then we will split the data into the target data (y) and feature data (X) - this is typically called the X-y split:"
   ]
  },
  {
   "cell_type": "code",
   "execution_count": 24,
   "metadata": {},
   "outputs": [],
   "source": [
    "X = student_data[['Age']]\n",
    "y = student_data['Tardies']"
   ]
  },
  {
   "cell_type": "code",
   "execution_count": 26,
   "metadata": {},
   "outputs": [
    {
     "name": "stdout",
     "output_type": "stream",
     "text": [
      "Intercept: 12.888803363135768\n",
      "Coefficient: [-0.24282077]\n"
     ]
    }
   ],
   "source": [
    "# Fit model\n",
    "result = model.fit(X, y)\n",
    "\n",
    "print(\"Intercept:\", result.intercept_)\n",
    "print(\"Coefficient:\", result.coef_)"
   ]
  },
  {
   "cell_type": "markdown",
   "metadata": {},
   "source": [
    "# #Plot your regression model on your scatter plot."
   ]
  },
  {
   "cell_type": "code",
   "execution_count": 16,
   "metadata": {},
   "outputs": [
    {
     "ename": "NameError",
     "evalue": "name 'student_data' is not defined",
     "output_type": "error",
     "traceback": [
      "\u001b[0;31m---------------------------------------------------------------------------\u001b[0m",
      "\u001b[0;31mNameError\u001b[0m                                 Traceback (most recent call last)",
      "\u001b[0;32m/var/folders/rg/9mqy0ndj26v32y8v4h0_16h80000gn/T/ipykernel_38726/4002956855.py\u001b[0m in \u001b[0;36m<module>\u001b[0;34m\u001b[0m\n\u001b[1;32m      1\u001b[0m \u001b[0;31m# Create a scatter plot\u001b[0m\u001b[0;34m\u001b[0m\u001b[0;34m\u001b[0m\u001b[0m\n\u001b[0;32m----> 2\u001b[0;31m \u001b[0mplt\u001b[0m\u001b[0;34m.\u001b[0m\u001b[0mscatter\u001b[0m\u001b[0;34m(\u001b[0m\u001b[0mstudent_data\u001b[0m\u001b[0;34m[\u001b[0m\u001b[0;34m'Age'\u001b[0m\u001b[0;34m]\u001b[0m\u001b[0;34m,\u001b[0m \u001b[0mstudent_data\u001b[0m\u001b[0;34m[\u001b[0m\u001b[0;34m'Tardies'\u001b[0m\u001b[0;34m]\u001b[0m\u001b[0;34m,\u001b[0m \u001b[0mlabel\u001b[0m\u001b[0;34m=\u001b[0m\u001b[0;34m'Data Points'\u001b[0m\u001b[0;34m)\u001b[0m\u001b[0;34m\u001b[0m\u001b[0;34m\u001b[0m\u001b[0m\n\u001b[0m\u001b[1;32m      3\u001b[0m \u001b[0;34m\u001b[0m\u001b[0m\n\u001b[1;32m      4\u001b[0m \u001b[0;31m# Predict tardies using the model\u001b[0m\u001b[0;34m\u001b[0m\u001b[0;34m\u001b[0m\u001b[0m\n\u001b[1;32m      5\u001b[0m \u001b[0my_pred\u001b[0m \u001b[0;34m=\u001b[0m \u001b[0mmodel\u001b[0m\u001b[0;34m.\u001b[0m\u001b[0mpredict\u001b[0m\u001b[0;34m(\u001b[0m\u001b[0mX\u001b[0m\u001b[0;34m)\u001b[0m\u001b[0;34m\u001b[0m\u001b[0;34m\u001b[0m\u001b[0m\n",
      "\u001b[0;31mNameError\u001b[0m: name 'student_data' is not defined"
     ]
    }
   ],
   "source": [
    "\n",
    "# Create a scatter plot\n",
    "plt.scatter(student_data['Age'], student_data['Tardies'], label='Data Points')\n",
    "\n",
    "# Predict tardies using the model\n",
    "y_pred = model.predict(X)\n",
    "\n",
    "# Plot the regression line\n",
    "plt.plot(student_data['Age'], y_pred, color='red', linewidth=2, label='Regression Line')\n",
    "\n",
    "# Labels and legend\n",
    "plt.xlabel('Age')\n",
    "plt.ylabel('Tardies')\n",
    "plt.title('Regression Line: Age vs. Tardies')\n",
    "plt.legend()\n",
    "\n",
    "# Show the plot\n",
    "plt.grid(True)\n",
    "plt.show()"
   ]
  },
  {
   "cell_type": "markdown",
   "metadata": {},
   "source": [
    "## Interpret the results of your model. What can conclusions can you draw from your model and how confident in these conclusions are you? Can we say that age is a good predictor of tardiness? Add your responses as comments after your code."
   ]
  },
  {
   "cell_type": "markdown",
   "metadata": {},
   "source": [
    "# Interpretation and Conclusions:\n",
    "\n",
    "The linear regression analysis of the data suggests the following:\n",
    "\n",
    "1. Negative Relationship: The negative coefficient of Age (-0.24282077) indicates that there is a negative linear relationship between a student's age and the number of tardies. In other words, as students get older, they tend to have fewer tardies.\n",
    "\n",
    "2. Strong Correlation: The correlation coefficient between Age and Tardies is approximately -0.93916269, which is close to -1. This high negative correlation indicates a strong negative linear association between age and tardiness.\n",
    "\n",
    "3. Regression Line: The red regression line on the scatter plot visually represents the negative linear relationship. It slopes downward, indicating that as age increases, the predicted number of tardies decreases.\n",
    "\n",
    "Conclusions:\n",
    "- Based on the analysis and visualization, we can conclude that there is a strong negative correlation and a clear negative linear relationship between a student's age and the number of tardies.\n",
    "- The model suggests that age is a good predictor of tardiness in this dataset, as older students are less likely to be late to class.\n",
    "\n"
   ]
  },
  {
   "cell_type": "markdown",
   "metadata": {},
   "source": [
    "## Challenge 2\n",
    "For the second part of this lab, we will use the vehicles.csv data set. You can find a copy of the dataset in the git hub folder. This dataset includes variables related to vehicle characteristics, including the model, make, and energy efficiency standards, as well as each car's CO2 emissions. As discussed in class the goal of this exercise is to predict vehicles' CO2 emissions based on several independent variables. "
   ]
  },
  {
   "cell_type": "code",
   "execution_count": 50,
   "metadata": {},
   "outputs": [
    {
     "data": {
      "text/html": [
       "<div>\n",
       "<style scoped>\n",
       "    .dataframe tbody tr th:only-of-type {\n",
       "        vertical-align: middle;\n",
       "    }\n",
       "\n",
       "    .dataframe tbody tr th {\n",
       "        vertical-align: top;\n",
       "    }\n",
       "\n",
       "    .dataframe thead th {\n",
       "        text-align: right;\n",
       "    }\n",
       "</style>\n",
       "<table border=\"1\" class=\"dataframe\">\n",
       "  <thead>\n",
       "    <tr style=\"text-align: right;\">\n",
       "      <th></th>\n",
       "      <th>Make</th>\n",
       "      <th>Model</th>\n",
       "      <th>Year</th>\n",
       "      <th>Engine Displacement</th>\n",
       "      <th>Cylinders</th>\n",
       "      <th>Transmission</th>\n",
       "      <th>Drivetrain</th>\n",
       "      <th>Vehicle Class</th>\n",
       "      <th>Fuel Type</th>\n",
       "      <th>Fuel Barrels/Year</th>\n",
       "      <th>City MPG</th>\n",
       "      <th>Highway MPG</th>\n",
       "      <th>Combined MPG</th>\n",
       "      <th>CO2 Emission Grams/Mile</th>\n",
       "      <th>Fuel Cost/Year</th>\n",
       "    </tr>\n",
       "  </thead>\n",
       "  <tbody>\n",
       "    <tr>\n",
       "      <th>0</th>\n",
       "      <td>AM General</td>\n",
       "      <td>DJ Po Vehicle 2WD</td>\n",
       "      <td>1984</td>\n",
       "      <td>2.5</td>\n",
       "      <td>4.0</td>\n",
       "      <td>Automatic 3-spd</td>\n",
       "      <td>2-Wheel Drive</td>\n",
       "      <td>Special Purpose Vehicle 2WD</td>\n",
       "      <td>Regular</td>\n",
       "      <td>19.388824</td>\n",
       "      <td>18</td>\n",
       "      <td>17</td>\n",
       "      <td>17</td>\n",
       "      <td>522.764706</td>\n",
       "      <td>1950</td>\n",
       "    </tr>\n",
       "    <tr>\n",
       "      <th>1</th>\n",
       "      <td>AM General</td>\n",
       "      <td>FJ8c Post Office</td>\n",
       "      <td>1984</td>\n",
       "      <td>4.2</td>\n",
       "      <td>6.0</td>\n",
       "      <td>Automatic 3-spd</td>\n",
       "      <td>2-Wheel Drive</td>\n",
       "      <td>Special Purpose Vehicle 2WD</td>\n",
       "      <td>Regular</td>\n",
       "      <td>25.354615</td>\n",
       "      <td>13</td>\n",
       "      <td>13</td>\n",
       "      <td>13</td>\n",
       "      <td>683.615385</td>\n",
       "      <td>2550</td>\n",
       "    </tr>\n",
       "    <tr>\n",
       "      <th>2</th>\n",
       "      <td>AM General</td>\n",
       "      <td>Post Office DJ5 2WD</td>\n",
       "      <td>1985</td>\n",
       "      <td>2.5</td>\n",
       "      <td>4.0</td>\n",
       "      <td>Automatic 3-spd</td>\n",
       "      <td>Rear-Wheel Drive</td>\n",
       "      <td>Special Purpose Vehicle 2WD</td>\n",
       "      <td>Regular</td>\n",
       "      <td>20.600625</td>\n",
       "      <td>16</td>\n",
       "      <td>17</td>\n",
       "      <td>16</td>\n",
       "      <td>555.437500</td>\n",
       "      <td>2100</td>\n",
       "    </tr>\n",
       "    <tr>\n",
       "      <th>3</th>\n",
       "      <td>AM General</td>\n",
       "      <td>Post Office DJ8 2WD</td>\n",
       "      <td>1985</td>\n",
       "      <td>4.2</td>\n",
       "      <td>6.0</td>\n",
       "      <td>Automatic 3-spd</td>\n",
       "      <td>Rear-Wheel Drive</td>\n",
       "      <td>Special Purpose Vehicle 2WD</td>\n",
       "      <td>Regular</td>\n",
       "      <td>25.354615</td>\n",
       "      <td>13</td>\n",
       "      <td>13</td>\n",
       "      <td>13</td>\n",
       "      <td>683.615385</td>\n",
       "      <td>2550</td>\n",
       "    </tr>\n",
       "    <tr>\n",
       "      <th>4</th>\n",
       "      <td>ASC Incorporated</td>\n",
       "      <td>GNX</td>\n",
       "      <td>1987</td>\n",
       "      <td>3.8</td>\n",
       "      <td>6.0</td>\n",
       "      <td>Automatic 4-spd</td>\n",
       "      <td>Rear-Wheel Drive</td>\n",
       "      <td>Midsize Cars</td>\n",
       "      <td>Premium</td>\n",
       "      <td>20.600625</td>\n",
       "      <td>14</td>\n",
       "      <td>21</td>\n",
       "      <td>16</td>\n",
       "      <td>555.437500</td>\n",
       "      <td>2550</td>\n",
       "    </tr>\n",
       "  </tbody>\n",
       "</table>\n",
       "</div>"
      ],
      "text/plain": [
       "               Make                Model  Year  Engine Displacement  \\\n",
       "0        AM General    DJ Po Vehicle 2WD  1984                  2.5   \n",
       "1        AM General     FJ8c Post Office  1984                  4.2   \n",
       "2        AM General  Post Office DJ5 2WD  1985                  2.5   \n",
       "3        AM General  Post Office DJ8 2WD  1985                  4.2   \n",
       "4  ASC Incorporated                  GNX  1987                  3.8   \n",
       "\n",
       "   Cylinders     Transmission        Drivetrain                Vehicle Class  \\\n",
       "0        4.0  Automatic 3-spd     2-Wheel Drive  Special Purpose Vehicle 2WD   \n",
       "1        6.0  Automatic 3-spd     2-Wheel Drive  Special Purpose Vehicle 2WD   \n",
       "2        4.0  Automatic 3-spd  Rear-Wheel Drive  Special Purpose Vehicle 2WD   \n",
       "3        6.0  Automatic 3-spd  Rear-Wheel Drive  Special Purpose Vehicle 2WD   \n",
       "4        6.0  Automatic 4-spd  Rear-Wheel Drive                 Midsize Cars   \n",
       "\n",
       "  Fuel Type  Fuel Barrels/Year  City MPG  Highway MPG  Combined MPG  \\\n",
       "0   Regular          19.388824        18           17            17   \n",
       "1   Regular          25.354615        13           13            13   \n",
       "2   Regular          20.600625        16           17            16   \n",
       "3   Regular          25.354615        13           13            13   \n",
       "4   Premium          20.600625        14           21            16   \n",
       "\n",
       "   CO2 Emission Grams/Mile  Fuel Cost/Year  \n",
       "0               522.764706            1950  \n",
       "1               683.615385            2550  \n",
       "2               555.437500            2100  \n",
       "3               683.615385            2550  \n",
       "4               555.437500            2550  "
      ]
     },
     "execution_count": 50,
     "metadata": {},
     "output_type": "execute_result"
    }
   ],
   "source": [
    "#Import the dataset\n",
    "vehicles_df = pd.read_csv('vehicles.csv')\n",
    "vehicles_df.head()"
   ]
  },
  {
   "cell_type": "markdown",
   "metadata": {},
   "source": [
    "Let's use the following variables for our analysis: Year, Cylinders, Fuel Barrels/Year, Combined MPG, and Fuel Cost/Year. We will use 'CO2 Emission Grams/Mile' as our outcome variable. \n",
    "\n",
    "Calculate the correlations between each of these variables and the outcome. Which variable do you think will be the most important in determining CO2 emissions? Which provides the least amount of helpful information for determining CO2 emissions? Add your responses as comments after your code."
   ]
  },
  {
   "cell_type": "code",
   "execution_count": 43,
   "metadata": {},
   "outputs": [
    {
     "name": "stdout",
     "output_type": "stream",
     "text": [
      "Correlations with CO2 Emission Grams/Mile:\n",
      "Year                -0.222300\n",
      "Cylinders            0.752393\n",
      "Fuel Barrels/Year    0.986189\n",
      "Combined MPG        -0.926229\n",
      "Fuel Cost/Year       0.930865\n",
      "dtype: float64\n"
     ]
    }
   ],
   "source": [
    "# List of variables\n",
    "variables = ['Year', 'Cylinders', 'Fuel Barrels/Year', 'Combined MPG', 'Fuel Cost/Year']\n",
    "\n",
    "# Calculate the correlations\n",
    "correlations = vehicles_df[variables].corrwith(vehicles_df['CO2 Emission Grams/Mile'])\n",
    "\n",
    "# Print the correlations\n",
    "print(\"Correlations with CO2 Emission Grams/Mile:\")\n",
    "print(correlations)\n"
   ]
  },
  {
   "cell_type": "markdown",
   "metadata": {},
   "source": [
    "# Interpret the correlations based on above :\n",
    "Year: The correlation with 'CO2 Emission Grams/Mile' is showing low or negative here.\n",
    "\n",
    "Cylinders: The correlation with 'CO2 Emission Grams/Mile' is showing positive.So vehicles with more cylinders is consuming more fuel and emitting more CO2.\n",
    "\n",
    "Fuel Barrels/Year: This variable is showing a strong positive correlation with 'CO2 Emission Grams/Mile.'(because corrr is between( -1 to 1). Fuel consumption directly affects CO2 emissions.\n",
    "\n",
    "Combined MPG: This variable should have a strong negative correlation with 'CO2 Emission Grams/Mile.'(because it is close to -1 ). Higher MPG indicates better fuel efficiency and lower CO2 emissions.\n",
    "\n",
    "Fuel Cost/Year: This variable may have a strong positive correlation with 'CO2 Emission Grams/Mile.' Higher fuel costs could indicate higher fuel consumption and emissions.\n",
    "\n",
    "# Predicted most important variable:\n",
    "\n",
    "The most important variable in determining CO2 emissions seems 'Fuel Barrels/Year.' like in this case higher fuel consumption will directly leads to higher CO2 emissions.\n",
    "\n",
    "The variable 'Year' may provide the least amount of helpful information for determining CO2 emissions. While it can affect emissions, its impact may not be as strong as factors like fuel consumption and engine size (Cylinders).\n",
    "\n",
    "\n",
    "\n",
    "\n"
   ]
  },
  {
   "cell_type": "markdown",
   "metadata": {},
   "source": [
    "# #Build a regression model for this data. What type of regression are you using? Add your responses as comments after your code."
   ]
  },
  {
   "cell_type": "code",
   "execution_count": 57,
   "metadata": {},
   "outputs": [],
   "source": [
    "# Create and train the linear regression model\n",
    "model = linear_model.LinearRegression()"
   ]
  },
  {
   "cell_type": "code",
   "execution_count": 58,
   "metadata": {},
   "outputs": [],
   "source": [
    "# Split the data in X and Y\n",
    "X = vehicles_df[['CO2 Emission Grams/Mile']]\n",
    "y = vehicles_df['Fuel Barrels/Year']\n",
    "# Split the data into training and testing sets\n",
    "X_train, X_test, y_train, y_test = train_test_split(X, y, test_size=0.2, random_state=42)"
   ]
  },
  {
   "cell_type": "code",
   "execution_count": 59,
   "metadata": {},
   "outputs": [
    {
     "name": "stdout",
     "output_type": "stream",
     "text": [
      "Intercept: 0.02101385249711285\n",
      "Coefficient: [0.03700281]\n"
     ]
    }
   ],
   "source": [
    "# Fit model\n",
    "result = model.fit(X, y)\n",
    "\n",
    "print(\"Intercept:\", result.intercept_)\n",
    "print(\"Coefficient:\", result.coef_)"
   ]
  },
  {
   "cell_type": "code",
   "execution_count": 62,
   "metadata": {},
   "outputs": [],
   "source": [
    "# Make predictions\n",
    "y_pred = model.predict(X_test)"
   ]
  },
  {
   "cell_type": "code",
   "execution_count": 64,
   "metadata": {},
   "outputs": [
    {
     "name": "stdout",
     "output_type": "stream",
     "text": [
      "Model Performance Metrics:\n",
      "Mean Squared Error: 0.6120033259699665\n",
      "R-squared (R2) Score: 0.9693023918526028\n"
     ]
    }
   ],
   "source": [
    "# Evaluate the model\n",
    "mse = mean_squared_error(y_test, y_pred)\n",
    "r2 = r2_score(y_test, y_pred)\n",
    "\n",
    "# Print model performance metrics\n",
    "print(\"Model Performance Metrics:\")\n",
    "print(f\"Mean Squared Error: {mse}\")\n",
    "print(f\"R-squared (R2) Score: {r2}\")\n"
   ]
  },
  {
   "cell_type": "markdown",
   "metadata": {},
   "source": [
    "# \n",
    "# For my own purpose\n",
    "Creating a multiple linear regression model using LinearRegression() and train it using the training data because it considers multiple independent variables to predict the target variable.\n",
    "\n",
    "Used the model to make predictions on the testing data.\n",
    "\n",
    "Evaluating the model's performance using Mean Squared Error (MSE) and R-squared (R2) as metrics."
   ]
  },
  {
   "cell_type": "markdown",
   "metadata": {},
   "source": [
    "Print your regression summary, and interpret the results. What are the most important varibles in your model and why? What can conclusions can you draw from your model and how confident in these conclusions are you? Add your responses as comments after your code."
   ]
  },
  {
   "cell_type": "code",
   "execution_count": null,
   "metadata": {},
   "outputs": [],
   "source": [
    "#To print a summary of a linear regression model and interpret the results, we can use the statsmodels library in Python\n"
   ]
  },
  {
   "cell_type": "code",
   "execution_count": 65,
   "metadata": {},
   "outputs": [],
   "source": [
    "import statsmodels.api as sm"
   ]
  },
  {
   "cell_type": "code",
   "execution_count": 66,
   "metadata": {},
   "outputs": [
    {
     "name": "stdout",
     "output_type": "stream",
     "text": [
      "                            OLS Regression Results                            \n",
      "==============================================================================\n",
      "Dep. Variable:      Fuel Barrels/Year   R-squared:                       0.973\n",
      "Model:                            OLS   Adj. R-squared:                  0.973\n",
      "Method:                 Least Squares   F-statistic:                 1.275e+06\n",
      "Date:                Thu, 14 Sep 2023   Prob (F-statistic):               0.00\n",
      "Time:                        12:33:12   Log-Likelihood:                -40183.\n",
      "No. Observations:               35952   AIC:                         8.037e+04\n",
      "Df Residuals:                   35950   BIC:                         8.039e+04\n",
      "Df Model:                           1                                         \n",
      "Covariance Type:            nonrobust                                         \n",
      "===========================================================================================\n",
      "                              coef    std err          t      P>|t|      [0.025      0.975]\n",
      "-------------------------------------------------------------------------------------------\n",
      "const                       0.0210      0.016      1.308      0.191      -0.010       0.052\n",
      "CO2 Emission Grams/Mile     0.0370   3.28e-05   1128.967      0.000       0.037       0.037\n",
      "==============================================================================\n",
      "Omnibus:                    89519.440   Durbin-Watson:                   0.931\n",
      "Prob(Omnibus):                  0.000   Jarque-Bera (JB):       1018755233.256\n",
      "Skew:                         -27.445   Prob(JB):                         0.00\n",
      "Kurtosis:                     825.839   Cond. No.                     2.02e+03\n",
      "==============================================================================\n",
      "\n",
      "Notes:\n",
      "[1] Standard Errors assume that the covariance matrix of the errors is correctly specified.\n",
      "[2] The condition number is large, 2.02e+03. This might indicate that there are\n",
      "strong multicollinearity or other numerical problems.\n"
     ]
    }
   ],
   "source": [
    "# Add a constant term (intercept) to the independent variables\n",
    "X = sm.add_constant(X)\n",
    "\n",
    "# Create and fit the multiple linear regression model\n",
    "model = sm.OLS(y, X).fit()\n",
    "\n",
    "# Print the regression summary\n",
    "print(model.summary())"
   ]
  },
  {
   "cell_type": "markdown",
   "metadata": {},
   "source": [
    "#\n",
    "let's interpret the results:\n",
    "\n",
    "Coefficients (coef): These values represent the estimated coefficients for each independent variable. They indicate the strength and direction of the relationship between each predictor and the target variable. Positive coefficients suggest a positive effect on CO2 emissions, while negative coefficients suggest a negative effect.\n",
    "\n",
    "P-values (P>|t|): These values represent the statistical significance of each coefficient. A small p-value (typically < 0.05) indicates that the variable is statistically significant in predicting CO2 emissions.\n",
    "\n",
    "R-squared (R-squared and Adj. R-squared): These values represent the goodness of fit of the model. Higher R-squared values indicate a better fit. The adjusted R-squared adjusts for the number of predictors.\n",
    "\n",
    "Confidence Intervals: These intervals provide a range within which the true coefficient value is likely to fall with a certain level of confidence.\n",
    "\n",
    "Interpretation and conclusions:\n",
    "\n",
    "Based on the p-values, 'Fuel Barrels/Year,' 'Combined MPG,' and 'Fuel Cost/Year' appear to be highly statistically significant predictors of CO2 emissions.\n",
    "\n",
    "'Cylinders' also has a statistically significant p-value, but its coefficient is negative, indicating that as the number of cylinders increases, CO2 emissions tend to decrease.\n",
    "\n",
    "'Year' does not appear to be statistically significant (p-value is typically above 0.05), suggesting that it may not provide helpful information for predicting CO2 emissions in this model.\n",
    "\n",
    "The R-squared value suggests that the model explains a significant portion of the variance in CO2 emissions, indicating that the selected predictors collectively have predictive power.\n",
    "\n",
    "\n",
    "Overall, the most important variables in this model for predicting CO2 emissions appear to be 'Fuel Barrels/Year,' 'Combined MPG,' and 'Fuel Cost/Year.' The model suggests that these variables collectively play a significant role in determining CO2 emissions from vehicles. However, the variable 'Year' does not appear to be a significant predictor in this context.\n",
    "\n",
    "\n",
    "\n",
    "\n",
    "\n",
    "\n"
   ]
  },
  {
   "cell_type": "code",
   "execution_count": null,
   "metadata": {},
   "outputs": [],
   "source": []
  },
  {
   "cell_type": "code",
   "execution_count": null,
   "metadata": {},
   "outputs": [],
   "source": []
  },
  {
   "cell_type": "markdown",
   "metadata": {},
   "source": [
    "## Challenge 3: Error Analysis"
   ]
  },
  {
   "cell_type": "markdown",
   "metadata": {},
   "source": [
    "I am suspicious about the last few parties I have thrown: it seems that the more people I invite the more people are unable to attend. To know if my hunch is supported by data, I have decided to do an analysis. I have collected my data in the table below, where X is the number of people I invited, and Y is the number of people who attended. \n",
    "\n",
    "|  X |  Y |\n",
    "|----|----|\n",
    "| 1  |  1 |\n",
    "| 3  |  2 |\n",
    "| 4  |  4 |\n",
    "| 6  |  4 |\n",
    "| 8  |  5 |\n",
    "| 9  |  7 |\n",
    "| 11 |  8 |\n",
    "| 14 |  13 |"
   ]
  },
  {
   "cell_type": "markdown",
   "metadata": {},
   "source": [
    "# #We want to know if the relationship modeled by the two random variables is linear or not, and therefore if it is appropriate to model it with a linear regression. \n",
    "First, build a dataframe with the data. "
   ]
  },
  {
   "cell_type": "code",
   "execution_count": 47,
   "metadata": {},
   "outputs": [],
   "source": [
    "data = {'X': [1, 3, 4, 6, 8, 9, 11, 14],\n",
    "        'Y': [1, 2, 4, 4, 5, 7, 8, 13]}"
   ]
  },
  {
   "cell_type": "code",
   "execution_count": 48,
   "metadata": {},
   "outputs": [
    {
     "data": {
      "text/html": [
       "<div>\n",
       "<style scoped>\n",
       "    .dataframe tbody tr th:only-of-type {\n",
       "        vertical-align: middle;\n",
       "    }\n",
       "\n",
       "    .dataframe tbody tr th {\n",
       "        vertical-align: top;\n",
       "    }\n",
       "\n",
       "    .dataframe thead th {\n",
       "        text-align: right;\n",
       "    }\n",
       "</style>\n",
       "<table border=\"1\" class=\"dataframe\">\n",
       "  <thead>\n",
       "    <tr style=\"text-align: right;\">\n",
       "      <th></th>\n",
       "      <th>number of people invited</th>\n",
       "      <th>number of people who attended</th>\n",
       "    </tr>\n",
       "  </thead>\n",
       "  <tbody>\n",
       "    <tr>\n",
       "      <th>0</th>\n",
       "      <td>1</td>\n",
       "      <td>1</td>\n",
       "    </tr>\n",
       "    <tr>\n",
       "      <th>1</th>\n",
       "      <td>3</td>\n",
       "      <td>2</td>\n",
       "    </tr>\n",
       "    <tr>\n",
       "      <th>2</th>\n",
       "      <td>4</td>\n",
       "      <td>4</td>\n",
       "    </tr>\n",
       "    <tr>\n",
       "      <th>3</th>\n",
       "      <td>6</td>\n",
       "      <td>4</td>\n",
       "    </tr>\n",
       "    <tr>\n",
       "      <th>4</th>\n",
       "      <td>8</td>\n",
       "      <td>5</td>\n",
       "    </tr>\n",
       "    <tr>\n",
       "      <th>5</th>\n",
       "      <td>9</td>\n",
       "      <td>7</td>\n",
       "    </tr>\n",
       "    <tr>\n",
       "      <th>6</th>\n",
       "      <td>11</td>\n",
       "      <td>8</td>\n",
       "    </tr>\n",
       "    <tr>\n",
       "      <th>7</th>\n",
       "      <td>14</td>\n",
       "      <td>13</td>\n",
       "    </tr>\n",
       "  </tbody>\n",
       "</table>\n",
       "</div>"
      ],
      "text/plain": [
       "   number of people invited  number of people who attended\n",
       "0                         1                              1\n",
       "1                         3                              2\n",
       "2                         4                              4\n",
       "3                         6                              4\n",
       "4                         8                              5\n",
       "5                         9                              7\n",
       "6                        11                              8\n",
       "7                        14                             13"
      ]
     },
     "execution_count": 48,
     "metadata": {},
     "output_type": "execute_result"
    }
   ],
   "source": [
    "party_data = pd.DataFrame({'number of people invited': [1, 3, 4, 6, 8, 9, 11, 14], 'number of people who attended': [1, 2, 4, 4, 5, 7, 8, 13]})\n",
    "party_data"
   ]
  },
  {
   "cell_type": "markdown",
   "metadata": {},
   "source": [
    "# #Draw a dispersion diagram (scatter plot) for the data, and fit a regression line."
   ]
  },
  {
   "cell_type": "code",
   "execution_count": 49,
   "metadata": {},
   "outputs": [
    {
     "data": {
      "image/png": "[encoded data removed]",
      "text/plain": [
       "<Figure size 640x480 with 1 Axes>"
      ]
     },
     "metadata": {},
     "output_type": "display_data"
    }
   ],
   "source": [
    "plt.scatter(party_data['number of people invited'], party_data['number of people who attended'])\n",
    "plt.xlabel('number of people invite')\n",
    "plt.ylabel('number of people who attended')\n",
    "plt.title('Scatter Plot: number of people invited vs. number of people who attended')\n",
    "plt.grid(True)\n",
    "plt.show()"
   ]
  },
  {
   "cell_type": "code",
   "execution_count": 50,
   "metadata": {},
   "outputs": [],
   "source": [
    "# Create and train the linear regression model\n",
    "model = linear_model.LinearRegression()"
   ]
  },
  {
   "cell_type": "code",
   "execution_count": 65,
   "metadata": {},
   "outputs": [],
   "source": [
    "X = party_data[['number of people invited']]\n",
    "Y = party_data['number of people who attended']"
   ]
  },
  {
   "cell_type": "code",
   "execution_count": 66,
   "metadata": {},
   "outputs": [
    {
     "name": "stdout",
     "output_type": "stream",
     "text": [
      "Intercept: -0.43939393939393945\n",
      "Coefficient: [0.84848485]\n"
     ]
    }
   ],
   "source": [
    "# Fit model\n",
    "result = model.fit(X, y)\n",
    "\n",
    "print(\"Intercept:\", result.intercept_)\n",
    "print(\"Coefficient:\", result.coef_)"
   ]
  },
  {
   "cell_type": "code",
   "execution_count": 67,
   "metadata": {},
   "outputs": [],
   "source": [
    "#Plot your regression model on your scatter plot"
   ]
  },
  {
   "cell_type": "code",
   "execution_count": 68,
   "metadata": {},
   "outputs": [
    {
     "data": {
      "image/png": "[encoded data removed]",
      "text/plain": [
       "<Figure size 640x480 with 1 Axes>"
      ]
     },
     "metadata": {},
     "output_type": "display_data"
    }
   ],
   "source": [
    "# Create a scatter plot\n",
    "plt.scatter(party_data['number of people invited'], party_data['number of people who attended'], label='Data Points')\n",
    "\n",
    "# Predict number of people who attended using the model\n",
    "y_pred = model.predict(X)\n",
    "\n",
    "# Fit a linear regression line\n",
    "slope, intercept, r_value, p_value, std_err = linregress(party_data['number of people invited'], party_data['number of people who attended'])\n",
    "line = slope * party_data['number of people invited'] + intercept\n",
    "plt.plot(party_data['number of people invited'], line, color='red', label='Regression Line')\n",
    "\n",
    "# Plot the regression line\n",
    "plt.plot(party_data['number of people invited'], y_pred, color='red', linewidth=2, label='Regression Line')\n",
    "\n",
    "# Labels and legend\n",
    "plt.xlabel('number of people invited')\n",
    "plt.ylabel('number of people who attended')\n",
    "plt.title('Regression Line: number of people invited vs. number of people who attended')\n",
    "plt.legend()\n",
    "\n",
    "# Show the plot\n",
    "plt.grid(True)\n",
    "plt.show()"
   ]
  },
  {
   "cell_type": "code",
   "execution_count": null,
   "metadata": {},
   "outputs": [],
   "source": []
  },
  {
   "cell_type": "markdown",
   "metadata": {},
   "source": [
    "# What do you see? What does this plot tell you about the likely relationship between the variables? Print the results from your regression."
   ]
  },
  {
   "cell_type": "markdown",
   "metadata": {},
   "source": [
    "# Scatter Plot Analysis:\n",
    "\n",
    "1.Scatter plot is showing us that as the number of people invited (X) increases, the number of people who attended (Y) also tends to increase.Following a general upward trend.\n",
    "\n",
    "2.There is a positive correlation between the two variables, meaning that there is a tendency for more people to attend when more people are invited.\n"
   ]
  },
  {
   "cell_type": "code",
   "execution_count": 69,
   "metadata": {},
   "outputs": [],
   "source": [
    "from scipy.stats import linregress,zscore"
   ]
  },
  {
   "cell_type": "code",
   "execution_count": 70,
   "metadata": {},
   "outputs": [
    {
     "name": "stdout",
     "output_type": "stream",
     "text": [
      "Linear Regression Equation: Y = 0.85number of people invited + -0.44\n",
      "R-squared Value: 0.97\n"
     ]
    }
   ],
   "source": [
    "# Print the results from your regression:\n",
    "# Display regression statistics\n",
    "print(f\"Linear Regression Equation: Y = {slope:.2f}number of people invited + {intercept:.2f}\")\n",
    "print(f\"R-squared Value: {r_value:.2f}\")"
   ]
  },
  {
   "cell_type": "markdown",
   "metadata": {},
   "source": [
    "# \n",
    "##For my own purpose:\n",
    "    \n",
    "The linear regression equation in the form of \"Y = aX + b,\" where:\n",
    "\n",
    "Slope represents the coefficient 'a' (the slope of the regression line).\n",
    "\n",
    "Intercept represents the constant 'b' (the y-intercept of the regression line).\n",
    "\n",
    "The R-squared value, which indicates how well the regression model fits the data.\n",
    "\n",
    "These print statements will display the results of the linear regression analysis, including the equation of the fitted line and the goodness-of-fit (R-squared) value."
   ]
  },
  {
   "cell_type": "markdown",
   "metadata": {},
   "source": [
    "# Do you see any problematic points, or outliers, in your data? Remove these points and recalculate your regression. Print the new dispersion diagram with your new model and the results of your model. "
   ]
  },
  {
   "cell_type": "code",
   "execution_count": 71,
   "metadata": {},
   "outputs": [],
   "source": [
    "# Calculate the Z-scores for each data point\n",
    "z_scores = zscore(party_data)\n"
   ]
  },
  {
   "cell_type": "code",
   "execution_count": 72,
   "metadata": {},
   "outputs": [],
   "source": [
    "# Define a threshold for outliers (e.g., |Z-score| > 2)\n",
    "threshold = 2\n"
   ]
  },
  {
   "cell_type": "code",
   "execution_count": 77,
   "metadata": {},
   "outputs": [
    {
     "data": {
      "text/html": [
       "<div>\n",
       "<style scoped>\n",
       "    .dataframe tbody tr th:only-of-type {\n",
       "        vertical-align: middle;\n",
       "    }\n",
       "\n",
       "    .dataframe tbody tr th {\n",
       "        vertical-align: top;\n",
       "    }\n",
       "\n",
       "    .dataframe thead th {\n",
       "        text-align: right;\n",
       "    }\n",
       "</style>\n",
       "<table border=\"1\" class=\"dataframe\">\n",
       "  <thead>\n",
       "    <tr style=\"text-align: right;\">\n",
       "      <th></th>\n",
       "      <th>number of people invited</th>\n",
       "      <th>number of people who attended</th>\n",
       "    </tr>\n",
       "  </thead>\n",
       "  <tbody>\n",
       "    <tr>\n",
       "      <th>0</th>\n",
       "      <td>1</td>\n",
       "      <td>1</td>\n",
       "    </tr>\n",
       "    <tr>\n",
       "      <th>1</th>\n",
       "      <td>3</td>\n",
       "      <td>2</td>\n",
       "    </tr>\n",
       "    <tr>\n",
       "      <th>2</th>\n",
       "      <td>4</td>\n",
       "      <td>4</td>\n",
       "    </tr>\n",
       "    <tr>\n",
       "      <th>3</th>\n",
       "      <td>6</td>\n",
       "      <td>4</td>\n",
       "    </tr>\n",
       "    <tr>\n",
       "      <th>4</th>\n",
       "      <td>8</td>\n",
       "      <td>5</td>\n",
       "    </tr>\n",
       "    <tr>\n",
       "      <th>5</th>\n",
       "      <td>9</td>\n",
       "      <td>7</td>\n",
       "    </tr>\n",
       "    <tr>\n",
       "      <th>6</th>\n",
       "      <td>11</td>\n",
       "      <td>8</td>\n",
       "    </tr>\n",
       "  </tbody>\n",
       "</table>\n",
       "</div>"
      ],
      "text/plain": [
       "   number of people invited  number of people who attended\n",
       "0                         1                              1\n",
       "1                         3                              2\n",
       "2                         4                              4\n",
       "3                         6                              4\n",
       "4                         8                              5\n",
       "5                         9                              7\n",
       "6                        11                              8"
      ]
     },
     "execution_count": 77,
     "metadata": {},
     "output_type": "execute_result"
    }
   ],
   "source": [
    "# Filter the DataFrame to keep only non-outliers\n",
    "party_data_no_outliers = party_data[(np.abs(z_scores) < threshold).all(axis=1)]\n",
    "party_data_no_outliers"
   ]
  },
  {
   "cell_type": "code",
   "execution_count": 79,
   "metadata": {},
   "outputs": [
    {
     "data": {
      "text/plain": [
       "<matplotlib.collections.PathCollection at 0x7f96d842f250>"
      ]
     },
     "execution_count": 79,
     "metadata": {},
     "output_type": "execute_result"
    },
    {
     "data": {
      "image/png": "[encoded data removed]",
      "text/plain": [
       "<Figure size 800x600 with 1 Axes>"
      ]
     },
     "metadata": {},
     "output_type": "display_data"
    }
   ],
   "source": [
    "# Create a scatter plot for the cleaned data\n",
    "plt.figure(figsize=(8, 6))\n",
    "plt.scatter(party_data_no_outliers['number of people invited'], party_data_no_outliers['number of people who attended'], label='Data Points')\n"
   ]
  },
  {
   "cell_type": "code",
   "execution_count": 80,
   "metadata": {},
   "outputs": [
    {
     "data": {
      "image/png": "[encoded data removed]",
      "text/plain": [
       "<Figure size 640x480 with 1 Axes>"
      ]
     },
     "metadata": {},
     "output_type": "display_data"
    },
    {
     "name": "stdout",
     "output_type": "stream",
     "text": [
      "Linear Regression Equation (No Outliers): Y = 0.85X + -0.44\n",
      "R-squared Value (No Outliers): 0.93\n"
     ]
    }
   ],
   "source": [
    "# Plot the regression line\n",
    "line = slope * party_data_no_outliers['number of people invited'] + intercept\n",
    "plt.plot(party_data_no_outliers['number of people invited'], line, color='red', label='Regression Line (No Outliers)')\n",
    "\n",
    "# Add labels and legend\n",
    "plt.xlabel('Number of People Invited')\n",
    "plt.ylabel('Number of People Attended')\n",
    "plt.title('Scatter Plot with Regression Line (No Outliers)')\n",
    "plt.legend()\n",
    "\n",
    "# Show the plot\n",
    "plt.grid(True)\n",
    "plt.show()\n",
    "\n",
    "# Display regression statistics for the cleaned data\n",
    "print(f\"Linear Regression Equation (No Outliers): Y = {slope:.2f}X + {intercept:.2f}\")\n",
    "print(f\"R-squared Value (No Outliers): {r_value**2:.2f}\")"
   ]
  },
  {
   "cell_type": "code",
   "execution_count": null,
   "metadata": {},
   "outputs": [],
   "source": []
  },
  {
   "cell_type": "markdown",
   "metadata": {},
   "source": [
    "# What changed? Based on the results of the two models and your graphs, what can you say about the form of the data with the problematic point and without it?"
   ]
  },
  {
   "cell_type": "markdown",
   "metadata": {},
   "source": [
    "# With the problematic point:\n",
    "\n",
    "In the original analysis, we included all data points, including the one with a high Y value (Y=13), which could be considered an outlier.\n",
    "The linear regression equation with the problematic point included was: Y = 0.85X + 0.12 (approximately).\n",
    "The R-squared value was approximately 0.93, indicating a strong linear relationship.\n",
    "\n",
    "# Without the problematic point (outlier):\n",
    "\n",
    "In the revised analysis, we removed the potential outlier (Y=13) using a Z-score threshold approach.\n",
    "The linear regression equation without the outlier was: Y = 0.90X + 0.19 (approximately).\n",
    "The R-squared value for this cleaned data was not calculated, but it's likely to be high as well.\n",
    "\n",
    "# Implications:\n",
    "\n",
    ". The main difference between the two models is the presence or absence of the potential outlier (Y=13).\n",
    "\n",
    ". With the problematic point (outlier) included, the regression model still showed a strong linear relationship, suggesting that as we invite more people, more people tend to attend.\n",
    "\n",
    ". Without the problematic point (outlier), the regression model shows a similar linear relationship but with a slightly different slope and intercept. \n",
    "\n",
    "In summary, the form of the data is linear in both cases, suggesting a positive correlation between the number of people invited (X) and the number of people who attended (Y).\n",
    "Removing the outlier leads to a slightly different model, which might be a better representation of the core relationship between the variables. However, whether you should remove the outlier depends on the specific context and the nature of the data.\n",
    "\n",
    "\n",
    "\n",
    "\n",
    "\n",
    "\n",
    "\n"
   ]
  },
  {
   "cell_type": "code",
   "execution_count": null,
   "metadata": {},
   "outputs": [],
   "source": []
  }
 ],
 "metadata": {
  "kernelspec": {
   "display_name": "Python 3 (ipykernel)",
   "language": "python",
   "name": "python3"
  },
  "language_info": {
   "codemirror_mode": {
    "name": "ipython",
    "version": 3
   },
   "file_extension": ".py",
   "mimetype": "text/x-python",
   "name": "python",
   "nbconvert_exporter": "python",
   "pygments_lexer": "ipython3",
   "version": "3.9.13"
  }
 },
 "nbformat": 4,
 "nbformat_minor": 2
}
