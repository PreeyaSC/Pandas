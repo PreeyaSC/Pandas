{
 "cells": [
  {
   "cell_type": "markdown",
   "id": "8a03cb85",
   "metadata": {},
   "source": [
    "# Lab | Understanding Descriptive Statistics"
   ]
  },
  {
   "cell_type": "code",
   "execution_count": 1,
   "id": "28667ae7",
   "metadata": {},
   "outputs": [],
   "source": [
    "#Import the necessary libraries here:\n",
    "import pandas as pd\n",
    "import numpy as np\n",
    "import random\n",
    "from scipy import stats\n",
    "\n",
    "# Remove warnings (not necessary)\n",
    "import warnings\n",
    "warnings.filterwarnings('ignore')\n",
    "\n",
    "# Data visualization\n",
    "import matplotlib.pyplot as plt\n",
    "import seaborn as sns\n",
    "import plotly.express as px\n",
    "import plotly.graph_objects as go\n",
    "%matplotlib inline"
   ]
  },
  {
   "cell_type": "markdown",
   "id": "6ee8b153",
   "metadata": {},
   "source": [
    "# Challenge 1\n",
    "#1.- Define a function that simulates rolling a dice 10 times. Save the information in a dataframe.\n",
    "Hint: you can use the choices function from module random to help you with the simulation."
   ]
  },
  {
   "cell_type": "code",
   "execution_count": 3,
   "id": "4870e4a3",
   "metadata": {},
   "outputs": [
    {
     "data": {
      "text/html": [
       "<div>\n",
       "<style scoped>\n",
       "    .dataframe tbody tr th:only-of-type {\n",
       "        vertical-align: middle;\n",
       "    }\n",
       "\n",
       "    .dataframe tbody tr th {\n",
       "        vertical-align: top;\n",
       "    }\n",
       "\n",
       "    .dataframe thead th {\n",
       "        text-align: right;\n",
       "    }\n",
       "</style>\n",
       "<table border=\"1\" class=\"dataframe\">\n",
       "  <thead>\n",
       "    <tr style=\"text-align: right;\">\n",
       "      <th></th>\n",
       "      <th>Unnamed: 0</th>\n",
       "      <th>roll</th>\n",
       "      <th>value</th>\n",
       "    </tr>\n",
       "  </thead>\n",
       "  <tbody>\n",
       "    <tr>\n",
       "      <th>0</th>\n",
       "      <td>0</td>\n",
       "      <td>0</td>\n",
       "      <td>5</td>\n",
       "    </tr>\n",
       "    <tr>\n",
       "      <th>1</th>\n",
       "      <td>1</td>\n",
       "      <td>1</td>\n",
       "      <td>6</td>\n",
       "    </tr>\n",
       "    <tr>\n",
       "      <th>2</th>\n",
       "      <td>2</td>\n",
       "      <td>2</td>\n",
       "      <td>1</td>\n",
       "    </tr>\n",
       "    <tr>\n",
       "      <th>3</th>\n",
       "      <td>3</td>\n",
       "      <td>3</td>\n",
       "      <td>6</td>\n",
       "    </tr>\n",
       "    <tr>\n",
       "      <th>4</th>\n",
       "      <td>4</td>\n",
       "      <td>4</td>\n",
       "      <td>5</td>\n",
       "    </tr>\n",
       "  </tbody>\n",
       "</table>\n",
       "</div>"
      ],
      "text/plain": [
       "   Unnamed: 0  roll  value\n",
       "0           0     0      5\n",
       "1           1     1      6\n",
       "2           2     2      1\n",
       "3           3     3      6\n",
       "4           4     4      5"
      ]
     },
     "execution_count": 3,
     "metadata": {},
     "output_type": "execute_result"
    }
   ],
   "source": [
    "dice_df = pd.read_csv(\"roll_the_dice_thousand.csv\")\n",
    "dice_df.head()"
   ]
  },
  {
   "cell_type": "code",
   "execution_count": 21,
   "id": "9ae80177",
   "metadata": {},
   "outputs": [
    {
     "name": "stdout",
     "output_type": "stream",
     "text": [
      "   Roll  Outcome\n",
      "0     1        5\n",
      "1     2        2\n",
      "2     3        4\n",
      "3     4        2\n",
      "4     5        3\n",
      "5     6        2\n",
      "6     7        2\n",
      "7     8        3\n",
      "8     9        2\n",
      "9    10        2\n"
     ]
    }
   ],
   "source": [
    "\n",
    "# Simulate rolling a 6-sided dice 10 times\n",
    "dice_outcomes = random.choices(range(1, 6), k=10)\n",
    "\n",
    "# Create a DataFrame to store the results\n",
    "df = pd.DataFrame({'Roll': range(1, 11), 'Outcome': dice_outcomes})\n",
    "\n",
    "# Print the DataFrame\n",
    "print(df)\n"
   ]
  },
  {
   "cell_type": "code",
   "execution_count": 22,
   "id": "63f8ea93",
   "metadata": {},
   "outputs": [
    {
     "name": "stdout",
     "output_type": "stream",
     "text": [
      "[5, 2, 4, 2, 3, 2, 2, 3, 2, 2]\n"
     ]
    }
   ],
   "source": [
    "print(dice_outcomes)"
   ]
  },
  {
   "cell_type": "markdown",
   "id": "10179634",
   "metadata": {},
   "source": [
    "#\n",
    ". Here using random.choices function to simulate rolling a 6-sided dice (range(1, 6)) 10 times (k=10). This function randomly selects values from the specified range, allowing us to simulate dice rolls.\n",
    "\n",
    ". Then create a DataFrame df with two columns: 'Roll' to represent the roll number (from 1 to 10) and 'Outcome' to represent the outcome of each dice roll.\n",
    ". Each row is representing a roll, and the 'Outcome' column contains the result of each roll\n"
   ]
  },
  {
   "cell_type": "markdown",
   "id": "1e89ef76",
   "metadata": {},
   "source": [
    "# \n",
    "#2.- Plot the results sorted by value."
   ]
  },
  {
   "cell_type": "code",
   "execution_count": 23,
   "id": "b2bc3db9",
   "metadata": {},
   "outputs": [
    {
     "data": {
      "image/png": "[encoded data removed]",
      "text/plain": [
       "<Figure size 800x600 with 1 Axes>"
      ]
     },
     "metadata": {},
     "output_type": "display_data"
    }
   ],
   "source": [
    " # Sort the DataFrame by the 'Outcome' column\n",
    "df_sorted = df.sort_values(by='Outcome')\n",
    "\n",
    "# Create a bar plot\n",
    "plt.figure(figsize=(8, 6))\n",
    "plt.bar(df_sorted['Roll'], df_sorted['Outcome'])\n",
    "plt.xlabel('Roll Number')\n",
    "plt.ylabel('Dice Outcome')\n",
    "plt.title('Results of Rolling a Dice 10 Times (Sorted by Value)')\n",
    "plt.xticks(df_sorted['Roll'])\n",
    "plt.show()\n",
    "\n"
   ]
  },
  {
   "cell_type": "markdown",
   "id": "e6ff1af1",
   "metadata": {},
   "source": [
    "# \n",
    "#3.- Calculate the frequency distribution and plot it. What is the relation between this plot and the plot above? Describe it with words."
   ]
  },
  {
   "cell_type": "code",
   "execution_count": 24,
   "id": "2bba58e7",
   "metadata": {},
   "outputs": [
    {
     "data": {
      "text/plain": [
       "2    6\n",
       "3    2\n",
       "4    1\n",
       "5    1\n",
       "Name: Outcome, dtype: int64"
      ]
     },
     "execution_count": 24,
     "metadata": {},
     "output_type": "execute_result"
    }
   ],
   "source": [
    "#Calculate the frequency distribution\n",
    "frequency_distribution = df['Outcome'].value_counts().sort_index()\n",
    "frequency_distribution"
   ]
  },
  {
   "cell_type": "code",
   "execution_count": 25,
   "id": "679a154c",
   "metadata": {},
   "outputs": [
    {
     "data": {
      "image/png": "[encoded data removed]",
      "text/plain": [
       "<Figure size 800x600 with 1 Axes>"
      ]
     },
     "metadata": {},
     "output_type": "display_data"
    }
   ],
   "source": [
    "# Create a bar plot for the frequency distribution\n",
    "plt.figure(figsize=(8, 6))\n",
    "plt.bar(frequency_distribution.index, frequency_distribution.values)\n",
    "plt.xlabel('Dice Outcome')\n",
    "plt.ylabel('Frequency')\n",
    "plt.title('Frequency Distribution of Dice Roll Outcomes')\n",
    "plt.xticks(frequency_distribution.index)\n",
    "plt.show()\n"
   ]
  },
  {
   "cell_type": "markdown",
   "id": "fb824f3b",
   "metadata": {},
   "source": [
    "# \n",
    ". calculate the frequency distribution using the value_counts() function on the 'Outcome' column of the DataFrame. This function counts how many times each unique outcome appears and sorts the results by the outcome values.\n",
    "\n",
    ". Then creating a bar plot for the frequency distribution, where the x-axis represents the unique dice outcomes (1 to 6), and the y-axis represents the frequency (how many times each outcome occurred).\n"
   ]
  },
  {
   "cell_type": "markdown",
   "id": "5dfa91c0",
   "metadata": {},
   "source": [
    "# Relation between the two plots:\n",
    "\n",
    "The relation between the two plots is that the second plot summarizes the information from the first plot. It tells us, for each possible outcome of the dice (1 to 6), how many times it appeared in the sequence of 10 rolls. The first plot shows the individual rolls, while the second plot provides an overview of the distribution of outcomes across those rolls.\n",
    "Both plots are related in that they depict aspects of the same dataset—dice rolls—but they emphasize different aspects: individual rolls vs.overall distribution.\n"
   ]
  },
  {
   "cell_type": "markdown",
   "id": "ff3c1412",
   "metadata": {},
   "source": [
    "# Challenge 2\n",
    "Now, using the dice results obtained in challenge 1, your are going to define some functions that will help you calculate the mean of your data in two different ways, the median and the four quartiles.\n",
    "\n",
    "1.- Define a function that computes the mean by summing all the observations and dividing by the total number of observations. You are not allowed to use any methods or functions that directly calculate the mean value."
   ]
  },
  {
   "cell_type": "code",
   "execution_count": 38,
   "id": "2a6047e0",
   "metadata": {},
   "outputs": [],
   "source": [
    "def calculate_mean(data):\n",
    "    \"\"\"\n",
    "    Calculate the mean of a list of data points.\n",
    "\n",
    "    Parameters:\n",
    "    data (list): A list of numerical data.\n",
    "\n",
    "    Returns:\n",
    "    float: The mean of the data.\n",
    "    \"\"\"\n",
    "    if len(data) == 0:\n",
    "        raise ValueError(\"Input data is empty. Mean cannot be calculated.\")\n",
    "\n",
    "    sum_of_data = 0\n",
    "    num_observations = len(data)\n",
    "\n",
    "    for value in data:\n",
    "        sum_of_data += value\n",
    "\n",
    "    mean = sum_of_data / num_observations\n",
    "    return mean\n"
   ]
  },
  {
   "cell_type": "code",
   "execution_count": 39,
   "id": "490ff61b",
   "metadata": {},
   "outputs": [
    {
     "name": "stdout",
     "output_type": "stream",
     "text": [
      "Mean (Method 1): 2.7\n"
     ]
    }
   ],
   "source": [
    "dice_outcomes = [5, 2, 4, 2, 3, 2, 2, 3, 2, 2]\n",
    "mean = calculate_mean(dice_outcomes)\n",
    "print(\"Mean (Method 1):\", mean)"
   ]
  },
  {
   "cell_type": "markdown",
   "id": "af014e54",
   "metadata": {},
   "source": [
    ". Used a Python function to compute the mean without using any built-in mean calculation functions\n",
    "\n",
    ". Calculated the mean (average) of a dataset by summing all the observations and dividing by the total number of observations. "
   ]
  },
  {
   "cell_type": "markdown",
   "id": "7e71b5f6",
   "metadata": {},
   "source": [
    "# \n",
    "#2.- First, calculate the frequency distribution. Then, calculate the mean using the values of the frequency distribution you've just computed. You are not allowed to use any methods or functions that directly calculate the mean value."
   ]
  },
  {
   "cell_type": "code",
   "execution_count": 40,
   "id": "225c85f5",
   "metadata": {},
   "outputs": [
    {
     "name": "stdout",
     "output_type": "stream",
     "text": [
      "Mean (Method 2 - Using Frequency Distribution): 2.7\n"
     ]
    }
   ],
   "source": [
    "# Defining a function to calculate the mean without using any built-in mean calculations:\n",
    "def calculate_mean_from_frequency_distribution(frequency_distribution):\n",
    "    \"\"\"\n",
    "    Calculate the mean from a frequency distribution.\n",
    "\n",
    "    Parameters:\n",
    "    frequency_distribution (dict):   A dictionary where keys are unique outcomes (values)\n",
    "                                    and values are their corresponding frequencies.\n",
    "\n",
    "    Returns:\n",
    "    float: The mean of the data.\n",
    "    \"\"\"\n",
    "    if not frequency_distribution:\n",
    "        raise ValueError(\"Frequency distribution is empty. Mean cannot be calculated.\")\n",
    "\n",
    "    sum_of_products = 0\n",
    "    total_frequency = 0\n",
    "\n",
    "    for outcome, frequency in frequency_distribution.items():\n",
    "        sum_of_products += outcome * frequency\n",
    "        total_frequency += frequency\n",
    "\n",
    "    mean = sum_of_products / total_frequency\n",
    "    return mean\n",
    "\n",
    "dice_outcomes = [5, 2, 4, 2, 3, 2, 2, 3, 2, 2]\n",
    "\n",
    "# Calculate the frequency distribution\n",
    "frequency_distribution = {}\n",
    "for outcome in dice_outcomes:\n",
    "    if outcome in frequency_distribution:\n",
    "        frequency_distribution[outcome] += 1\n",
    "    else:\n",
    "        frequency_distribution[outcome] = 1\n",
    "\n",
    "mean_from_frequency = calculate_mean_from_frequency_distribution(frequency_distribution)\n",
    "print(\"Mean (Method 2 - Using Frequency Distribution):\", mean_from_frequency)\n"
   ]
  },
  {
   "cell_type": "markdown",
   "id": "5cdece28",
   "metadata": {},
   "source": [
    "\n",
    ". calculate the frequency distribution using a dictionary where keys are unique outcomes (dice values), and values are their corresponding frequencies.\n",
    "\n",
    ". iterate through the frequency distribution, calculating the sum of products (outcome * frequency) and the total frequency.\n",
    "\n",
    ". Finally, divide the sum of products by the total frequency to compute the mean.\n",
    "\n",
    "This function is giving us the mean of our dataset using the frequency distribution values.\n"
   ]
  },
  {
   "cell_type": "markdown",
   "id": "3a55b557",
   "metadata": {},
   "source": [
    "# \n",
    "#3.- Define a function to calculate the median. You are not allowed to use any methods or functions that directly calculate the median value.\n",
    "Hint: you might need to define two computation cases depending on the number of observations used to calculate the median."
   ]
  },
  {
   "cell_type": "code",
   "execution_count": 66,
   "id": "b54ded27",
   "metadata": {},
   "outputs": [
    {
     "data": {
      "text/plain": [
       "5"
      ]
     },
     "execution_count": 66,
     "metadata": {},
     "output_type": "execute_result"
    }
   ],
   "source": [
    "# Defining a function to calculate the median without using any built-in median calculation functions,\n",
    "def calculate_median(data):\n",
    "    \"\"\"\n",
    "    Calculate the median of a list of data points.\n",
    "\n",
    "    Parameters:\n",
    "    data (list): A list of numerical data.\n",
    "\n",
    "    Returns:\n",
    "    float: The median of the data.\n",
    "    \"\"\"\n",
    "    if len(data) == 0:\n",
    "        raise ValueError(\"Input data is empty. Median cannot be calculated.\")\n",
    "\n",
    "   # First, sort the data in ascending order\n",
    "data = [1, 3, 2, 4, 6]\n",
    "sorted_data = sorted(data)\n",
    "num_observations = len(sorted_data)\n",
    "num_observations"
   ]
  },
  {
   "cell_type": "code",
   "execution_count": 83,
   "id": "da5cea12",
   "metadata": {},
   "outputs": [
    {
     "ename": "SyntaxError",
     "evalue": "'return' outside function (2944751969.py, line 9)",
     "output_type": "error",
     "traceback": [
      "\u001b[0;36m  File \u001b[0;32m\"/var/folders/rg/9mqy0ndj26v32y8v4h0_16h80000gn/T/ipykernel_82682/2944751969.py\"\u001b[0;36m, line \u001b[0;32m9\u001b[0m\n\u001b[0;31m    return median\u001b[0m\n\u001b[0m    ^\u001b[0m\n\u001b[0;31mSyntaxError\u001b[0m\u001b[0;31m:\u001b[0m 'return' outside function\n"
     ]
    }
   ],
   "source": [
    " # Check if the number of observations is even or odd\n",
    "    \n",
    "if num_observations % 2 == 0:  # Even number of observations\n",
    "        middle1 = sorted_data[num_observations // 2 - 1]\n",
    "        middle2 = sorted_data[num_observations // 2]\n",
    "        median = (middle1 + middle2) / 2\n",
    "else:  # Odd number of observations\n",
    "        median = sorted_data[num_observations // 2]\n",
    "return median\n",
    "\n",
    "\n",
    "# Example usage with some data\n",
    "data_even = [1, 3, 2, 6]\n",
    "data_odd = [2, 4, 6]\n",
    "\n",
    "median_even = calculate_median(data_even)\n",
    "median_odd = calculate_median(data_odd)\n",
    "\n",
    "print(\"Median (Even):\", median_even)\n",
    "print(\"Median (Odd):\", median_odd)\n"
   ]
  },
  {
   "cell_type": "markdown",
   "id": "978b49ac",
   "metadata": {},
   "source": [
    "#\n",
    ". Sort the data in ascending order using the sorted() function.\n",
    "\n",
    ". Check whether the number of observations is even or odd using the modulo operator (%).\n",
    "\n",
    ". If there is an even number of observations, calculate the median as the average of the two middle values. If there is an odd number of observations, we simply take the middle value.\n",
    "\n",
    ". This function will calculate the median of our dataset correctly, regardless of whether the number of observations is even or odd."
   ]
  },
  {
   "cell_type": "markdown",
   "id": "8bc4be3c",
   "metadata": {},
   "source": [
    "# Note for TA's: \n",
    "for above code I get error \" return outside function\". But If I write the code in one cell which is given below.It doesnt give me any error."
   ]
  },
  {
   "cell_type": "code",
   "execution_count": 84,
   "id": "4452ce6d",
   "metadata": {},
   "outputs": [
    {
     "name": "stdout",
     "output_type": "stream",
     "text": [
      "Median (Even): 3\n",
      "Median (Odd): 3\n"
     ]
    }
   ],
   "source": [
    "def calculate_median(data):\n",
    "    \"\"\"\n",
    "    Calculate the median of a list of data points.\n",
    "\n",
    "    Parameters:\n",
    "    data (list): A list of numerical data.\n",
    "\n",
    "    Returns:\n",
    "    float: The median of the data.\n",
    "    \"\"\"\n",
    "    if len(data) == 0:\n",
    "        raise ValueError(\"Input data is empty. Median cannot be calculated.\")\n",
    "\n",
    "    # First, sort the data in ascending order\n",
    "    data = [1, 3, 2, 4, 6]\n",
    "    sorted_data = sorted(data)\n",
    "    num_observations = len(sorted_data)\n",
    "    num_observations\n",
    "\n",
    "    # Check if the number of observations is even or odd\n",
    "    if num_observations % 2 == 0:  # Even number of observations\n",
    "        middle1 = sorted_data[num_observations // 2 - 1]\n",
    "        middle2 = sorted_data[num_observations // 2]\n",
    "        median = (middle1 + middle2) / 2\n",
    "    else:  # Odd number of observations\n",
    "        median = sorted_data[num_observations // 2]\n",
    "\n",
    "    return median\n",
    "\n",
    "# Taking from \n",
    "data_even = [1, 3, 2, 6]\n",
    "data_odd = [2, 4, 6]\n",
    "\n",
    "median_even = calculate_median(data_even)\n",
    "median_odd = calculate_median(data_odd)\n",
    "\n",
    "print(\"Median (Even):\", median_even)\n",
    "print(\"Median (Odd):\", median_odd)"
   ]
  },
  {
   "cell_type": "markdown",
   "id": "8c22a834",
   "metadata": {},
   "source": [
    "#\n",
    "4.- Define a function to calculate the four quartiles. You can use the function you defined above to compute the median but you are not allowed to use any methods or functions that directly calculate the quartiles."
   ]
  },
  {
   "cell_type": "code",
   "execution_count": 86,
   "id": "2e488cd9",
   "metadata": {},
   "outputs": [
    {
     "name": "stdout",
     "output_type": "stream",
     "text": [
      "First Quartile (Q1): 2.5\n",
      "Median (Q2): 5.0\n",
      "Third Quartile (Q3): 7.5\n"
     ]
    }
   ],
   "source": [
    "def calculate_quartiles(data):\n",
    "    \"\"\"\n",
    "    Calculate the quartiles (Q1, Q2, and Q3) of a list of data points.\n",
    "\n",
    "    Parameters:\n",
    "    data (list): A list of numerical data.\n",
    "\n",
    "    Returns:\n",
    "    tuple: A tuple containing the first quartile (Q1), median (Q2), and third quartile (Q3).\n",
    "    \"\"\"\n",
    "    if len(data) == 0:\n",
    "        raise ValueError(\"Input data is empty. Quartiles cannot be calculated.\")\n",
    "\n",
    "    # First, sort the data in ascending order\n",
    "    sorted_data = sorted(data)\n",
    "    num_observations = len(sorted_data)\n",
    "\n",
    "    # Calculate the median (Q2)\n",
    "    if num_observations % 2 == 0:  # Even number of observations\n",
    "        middle1 = sorted_data[num_observations // 2 - 1]\n",
    "        middle2 = sorted_data[num_observations // 2]\n",
    "        Q2 = (middle1 + middle2) / 2\n",
    "    else:  # Odd number of observations\n",
    "        Q2 = sorted_data[num_observations // 2]\n",
    "        \n",
    "     # Calculate the first quartile (Q1)\n",
    "    lower_half = sorted_data[:num_observations // 2]\n",
    "    num_lower_half = len(lower_half)\n",
    "    if num_lower_half % 2 == 0:  # Even number of observations in lower half\n",
    "        middle1 = lower_half[num_lower_half // 2 - 1]\n",
    "        middle2 = lower_half[num_lower_half // 2]\n",
    "        Q1 = (middle1 + middle2) / 2\n",
    "    else:  # Odd number of observations in lower half\n",
    "        Q1 = lower_half[num_lower_half // 2]\n",
    "\n",
    "   \n",
    "    # Calculate the third quartile (Q3)\n",
    "    upper_half = sorted_data[num_observations // 2 + (1 if num_observations % 2 != 0 else 0):]\n",
    "    num_upper_half = len(upper_half)\n",
    "    if num_upper_half % 2 == 0:  # Even number of observations in upper half\n",
    "        middle1 = upper_half[num_upper_half // 2 - 1]\n",
    "        middle2 = upper_half[num_upper_half // 2]\n",
    "        Q3 = (middle1 + middle2) / 2\n",
    "    else:  # Odd number of observations in upper half\n",
    "        Q3 = upper_half[num_upper_half // 2]\n",
    "\n",
    "    return Q1, Q2, Q3\n",
    "\n",
    "# Example usage with some data\n",
    "data = [1, 3, 2, 4, 6, 7, 8, 9]\n",
    "Q1, Q2, Q3 = calculate_quartiles(data)\n",
    "print(\"First Quartile (Q1):\", Q1)\n",
    "print(\"Median (Q2):\", Q2)\n",
    "print(\"Third Quartile (Q3):\", Q3)\n"
   ]
  },
  {
   "cell_type": "markdown",
   "id": "0c3478fd",
   "metadata": {},
   "source": [
    "#\n",
    ". Sort the data in ascending order.\n",
    "\n",
    ". calculate the median (Q2) as shown in the previous median calculation function.\n",
    "\n",
    ". calculate the first quartile (Q1) based on the lower half of the data.\n",
    "\n",
    ". calculate the third quartile (Q3) based on the upper half of the data.\n",
    "\n",
    "The function returns a tuple containing the values of Q1, Q2 (median), and Q3."
   ]
  },
  {
   "cell_type": "code",
   "execution_count": null,
   "id": "3378bd6e",
   "metadata": {},
   "outputs": [],
   "source": []
  },
  {
   "cell_type": "markdown",
   "id": "7741c550",
   "metadata": {},
   "source": [
    "# Challenge 3\n",
    "Read the csv roll_the_dice_hundred.csv from the data folder.\n",
    "\n",
    "1.- Sort the values and plot them. What do you see?"
   ]
  },
  {
   "cell_type": "code",
   "execution_count": 90,
   "id": "d6da71db",
   "metadata": {},
   "outputs": [
    {
     "data": {
      "text/html": [
       "<div>\n",
       "<style scoped>\n",
       "    .dataframe tbody tr th:only-of-type {\n",
       "        vertical-align: middle;\n",
       "    }\n",
       "\n",
       "    .dataframe tbody tr th {\n",
       "        vertical-align: top;\n",
       "    }\n",
       "\n",
       "    .dataframe thead th {\n",
       "        text-align: right;\n",
       "    }\n",
       "</style>\n",
       "<table border=\"1\" class=\"dataframe\">\n",
       "  <thead>\n",
       "    <tr style=\"text-align: right;\">\n",
       "      <th></th>\n",
       "      <th>Unnamed: 0</th>\n",
       "      <th>roll</th>\n",
       "      <th>value</th>\n",
       "    </tr>\n",
       "  </thead>\n",
       "  <tbody>\n",
       "    <tr>\n",
       "      <th>0</th>\n",
       "      <td>0</td>\n",
       "      <td>0</td>\n",
       "      <td>1</td>\n",
       "    </tr>\n",
       "    <tr>\n",
       "      <th>1</th>\n",
       "      <td>1</td>\n",
       "      <td>1</td>\n",
       "      <td>2</td>\n",
       "    </tr>\n",
       "    <tr>\n",
       "      <th>2</th>\n",
       "      <td>2</td>\n",
       "      <td>2</td>\n",
       "      <td>6</td>\n",
       "    </tr>\n",
       "    <tr>\n",
       "      <th>3</th>\n",
       "      <td>3</td>\n",
       "      <td>3</td>\n",
       "      <td>1</td>\n",
       "    </tr>\n",
       "    <tr>\n",
       "      <th>4</th>\n",
       "      <td>4</td>\n",
       "      <td>4</td>\n",
       "      <td>6</td>\n",
       "    </tr>\n",
       "  </tbody>\n",
       "</table>\n",
       "</div>"
      ],
      "text/plain": [
       "   Unnamed: 0  roll  value\n",
       "0           0     0      1\n",
       "1           1     1      2\n",
       "2           2     2      6\n",
       "3           3     3      1\n",
       "4           4     4      6"
      ]
     },
     "execution_count": 90,
     "metadata": {},
     "output_type": "execute_result"
    }
   ],
   "source": [
    "df = pd.read_csv(\"roll_the_dice_hundred.csv\")\n",
    "df.head()"
   ]
  },
  {
   "cell_type": "code",
   "execution_count": 93,
   "id": "842e2c93",
   "metadata": {},
   "outputs": [
    {
     "data": {
      "text/html": [
       "<div>\n",
       "<style scoped>\n",
       "    .dataframe tbody tr th:only-of-type {\n",
       "        vertical-align: middle;\n",
       "    }\n",
       "\n",
       "    .dataframe tbody tr th {\n",
       "        vertical-align: top;\n",
       "    }\n",
       "\n",
       "    .dataframe thead th {\n",
       "        text-align: right;\n",
       "    }\n",
       "</style>\n",
       "<table border=\"1\" class=\"dataframe\">\n",
       "  <thead>\n",
       "    <tr style=\"text-align: right;\">\n",
       "      <th></th>\n",
       "      <th>Unnamed: 0</th>\n",
       "      <th>roll</th>\n",
       "      <th>value</th>\n",
       "    </tr>\n",
       "  </thead>\n",
       "  <tbody>\n",
       "    <tr>\n",
       "      <th>0</th>\n",
       "      <td>0</td>\n",
       "      <td>0</td>\n",
       "      <td>1</td>\n",
       "    </tr>\n",
       "    <tr>\n",
       "      <th>1</th>\n",
       "      <td>1</td>\n",
       "      <td>1</td>\n",
       "      <td>2</td>\n",
       "    </tr>\n",
       "    <tr>\n",
       "      <th>2</th>\n",
       "      <td>2</td>\n",
       "      <td>2</td>\n",
       "      <td>6</td>\n",
       "    </tr>\n",
       "    <tr>\n",
       "      <th>3</th>\n",
       "      <td>3</td>\n",
       "      <td>3</td>\n",
       "      <td>1</td>\n",
       "    </tr>\n",
       "    <tr>\n",
       "      <th>4</th>\n",
       "      <td>4</td>\n",
       "      <td>4</td>\n",
       "      <td>6</td>\n",
       "    </tr>\n",
       "  </tbody>\n",
       "</table>\n",
       "</div>"
      ],
      "text/plain": [
       "   Unnamed: 0  roll  value\n",
       "0           0     0      1\n",
       "1           1     1      2\n",
       "2           2     2      6\n",
       "3           3     3      1\n",
       "4           4     4      6"
      ]
     },
     "execution_count": 93,
     "metadata": {},
     "output_type": "execute_result"
    }
   ],
   "source": [
    "# Sort the values in ascending order\n",
    "sorted_values = df['value'].sort_values()\n",
    "\n",
    "df.head()\n"
   ]
  },
  {
   "cell_type": "code",
   "execution_count": 97,
   "id": "5434688c",
   "metadata": {},
   "outputs": [
    {
     "data": {
      "text/plain": [
       "(100, 3)"
      ]
     },
     "execution_count": 97,
     "metadata": {},
     "output_type": "execute_result"
    }
   ],
   "source": [
    "df.shape"
   ]
  },
  {
   "cell_type": "code",
   "execution_count": 95,
   "id": "1e4d7e2c",
   "metadata": {},
   "outputs": [
    {
     "data": {
      "image/png": "[encoded data removed]",
      "text/plain": [
       "<Figure size 1000x600 with 1 Axes>"
      ]
     },
     "metadata": {},
     "output_type": "display_data"
    }
   ],
   "source": [
    "# Plot the sorted values\n",
    "plt.figure(figsize=(10, 6))\n",
    "plt.plot(sorted_values, marker='o', linestyle='-')\n",
    "plt.title('Sorted Dice Roll Values')\n",
    "plt.xlabel('Roll Number')\n",
    "plt.ylabel('Dice Value')\n",
    "plt.grid(True)\n",
    "plt.show()\n"
   ]
  },
  {
   "cell_type": "markdown",
   "id": "71bf0013",
   "metadata": {},
   "source": [
    "#\n",
    "It is displaying a plot showing how the dice roll values are distributed in ascending order. \n",
    "\n",
    "##But I dont understand what roll or pattern it is following##"
   ]
  },
  {
   "cell_type": "markdown",
   "id": "46c3f3fc",
   "metadata": {},
   "source": [
    "# \n",
    "#2.- Using the functions you defined in challenge 2, calculate the mean value of the hundred dice rolls"
   ]
  },
  {
   "cell_type": "code",
   "execution_count": 113,
   "id": "4855493e",
   "metadata": {},
   "outputs": [
    {
     "data": {
      "text/plain": [
       "[1,\n",
       " 2,\n",
       " 6,\n",
       " 1,\n",
       " 6,\n",
       " 5,\n",
       " 2,\n",
       " 2,\n",
       " 4,\n",
       " 1,\n",
       " 5,\n",
       " 6,\n",
       " 5,\n",
       " 4,\n",
       " 5,\n",
       " 4,\n",
       " 4,\n",
       " 6,\n",
       " 2,\n",
       " 4,\n",
       " 4,\n",
       " 6,\n",
       " 3,\n",
       " 6,\n",
       " 6,\n",
       " 4,\n",
       " 1,\n",
       " 4,\n",
       " 4,\n",
       " 2,\n",
       " 6,\n",
       " 5,\n",
       " 5,\n",
       " 2,\n",
       " 3,\n",
       " 6,\n",
       " 6,\n",
       " 2,\n",
       " 3,\n",
       " 6,\n",
       " 6,\n",
       " 2,\n",
       " 5,\n",
       " 3,\n",
       " 4,\n",
       " 6,\n",
       " 2,\n",
       " 1,\n",
       " 4,\n",
       " 2,\n",
       " 3,\n",
       " 2,\n",
       " 2,\n",
       " 4,\n",
       " 6,\n",
       " 2,\n",
       " 1,\n",
       " 3,\n",
       " 2,\n",
       " 4,\n",
       " 4,\n",
       " 3,\n",
       " 4,\n",
       " 1,\n",
       " 3,\n",
       " 6,\n",
       " 3,\n",
       " 4,\n",
       " 4,\n",
       " 4,\n",
       " 2,\n",
       " 2,\n",
       " 5,\n",
       " 1,\n",
       " 5,\n",
       " 6,\n",
       " 2,\n",
       " 4,\n",
       " 6,\n",
       " 5,\n",
       " 6,\n",
       " 4,\n",
       " 1,\n",
       " 3,\n",
       " 3,\n",
       " 3,\n",
       " 5,\n",
       " 6,\n",
       " 5,\n",
       " 1,\n",
       " 6,\n",
       " 3,\n",
       " 6,\n",
       " 4,\n",
       " 1,\n",
       " 4,\n",
       " 6,\n",
       " 1,\n",
       " 3,\n",
       " 6]"
      ]
     },
     "execution_count": 113,
     "metadata": {},
     "output_type": "execute_result"
    }
   ],
   "source": [
    "# Define the calculate_mean function\n",
    "def calculate_mean(data):\n",
    "    \"\"\"\n",
    "    Calculate the mean of a list of data points.\n",
    "\n",
    "    Parameters:\n",
    "    data (list): A list of numerical data.\n",
    "\n",
    "    Returns:\n",
    "    float: The mean of the data.\n",
    "    \"\"\"\n",
    "    if len(data) == 0:\n",
    "        raise ValueError(\"Input data is empty. Mean cannot be calculated.\")\n",
    "\n",
    "    sum_of_data = sum(data)\n",
    "    num_observations = len(data)\n",
    "\n",
    "    mean = sum_of_data / num_observations\n",
    "    return mean\n",
    "\n",
    "# Extract the dice roll outcomes as a list\n",
    "dice_outcomes1 = df['value'].tolist()\n",
    "\n",
    "dice_outcomes1\n"
   ]
  },
  {
   "cell_type": "code",
   "execution_count": 114,
   "id": "3423a12e",
   "metadata": {},
   "outputs": [
    {
     "name": "stdout",
     "output_type": "stream",
     "text": [
      "Mean Value of Hundred Dice Rolls: 3.74\n"
     ]
    }
   ],
   "source": [
    "# Calculate the mean of the dice roll outcomes\n",
    "mean_dice_rolls = calculate_mean(dice_outcomes1)\n",
    "\n",
    "print(\"Mean Value of Hundred Dice Rolls:\", mean_dice_rolls)"
   ]
  },
  {
   "cell_type": "markdown",
   "id": "5b0d6f38",
   "metadata": {},
   "source": [
    "#\n",
    "3.- Now, calculate the frequency distribution."
   ]
  },
  {
   "cell_type": "code",
   "execution_count": null,
   "id": "acf2d86e",
   "metadata": {},
   "outputs": [],
   "source": [
    "# we can use Python's built-in collections.Counter class, which helps count the occurrences of each unique value \n",
    "# in a list. Here's how we can calculate the frequency distribution:"
   ]
  },
  {
   "cell_type": "code",
   "execution_count": 104,
   "id": "5217a701",
   "metadata": {},
   "outputs": [],
   "source": [
    "from collections import Counter"
   ]
  },
  {
   "cell_type": "code",
   "execution_count": 115,
   "id": "6607442e",
   "metadata": {},
   "outputs": [
    {
     "name": "stdout",
     "output_type": "stream",
     "text": [
      "Frequency Distribution of Hundred Dice Rolls:\n",
      "Outcome 1: Frequency 12\n",
      "Outcome 2: Frequency 17\n",
      "Outcome 3: Frequency 14\n",
      "Outcome 4: Frequency 22\n",
      "Outcome 5: Frequency 12\n",
      "Outcome 6: Frequency 23\n"
     ]
    }
   ],
   "source": [
    "# Extract the dice roll outcomes as a list\n",
    "dice_outcomes1 = df['value'].tolist()\n",
    "\n",
    "# Calculate the frequency distribution\n",
    "frequency_distribution = dict(Counter(dice_outcomes1))\n",
    "\n",
    "print(\"Frequency Distribution of Hundred Dice Rolls:\")\n",
    "for outcome, frequency in sorted(frequency_distribution.items()):\n",
    "    print(f\"Outcome {outcome}: Frequency {frequency}\")\n"
   ]
  },
  {
   "cell_type": "markdown",
   "id": "f278c75a",
   "metadata": {},
   "source": [
    "# \n",
    "4.- Plot the histogram. What do you see (shape, values...) ? How can you connect the mean value to the histogram?"
   ]
  },
  {
   "cell_type": "code",
   "execution_count": 116,
   "id": "a17f3223",
   "metadata": {},
   "outputs": [],
   "source": [
    "# Extract the dice roll outcomes as a list\n",
    "dice_outcomes1 = df['value'].tolist()\n"
   ]
  },
  {
   "cell_type": "code",
   "execution_count": 117,
   "id": "42141ecb",
   "metadata": {},
   "outputs": [
    {
     "data": {
      "image/png": "[encoded data removed]",
      "text/plain": [
       "<Figure size 800x600 with 1 Axes>"
      ]
     },
     "metadata": {},
     "output_type": "display_data"
    }
   ],
   "source": [
    "# Create a histogram\n",
    "plt.figure(figsize=(8, 6))\n",
    "plt.hist(dice_outcomes1, bins=range(1, 8), rwidth=0.8, align='left', edgecolor='black')\n",
    "plt.xlabel('Dice Outcome')\n",
    "plt.ylabel('Frequency')\n",
    "plt.title('Histogram of Hundred Dice Rolls')\n",
    "plt.xticks(range(1, 7))\n",
    "plt.grid(axis='y', alpha=0.75)\n",
    "\n",
    "# Calculate the mean value\n",
    "mean_dice_rolls = sum(dice_outcomes1) / len(dice_outcomes1)\n",
    "\n",
    "# Add a vertical line for the mean value\n",
    "plt.axvline(x=mean_dice_rolls, color='red', linestyle='--', label=f'Mean = {mean_dice_rolls:.2f}')\n",
    "plt.legend()\n",
    "\n",
    "plt.show()"
   ]
  },
  {
   "cell_type": "code",
   "execution_count": 110,
   "id": "46e39b5a",
   "metadata": {},
   "outputs": [
    {
     "data": {
      "text/plain": [
       "'\\nyour comments here\\n'"
      ]
     },
     "execution_count": 110,
     "metadata": {},
     "output_type": "execute_result"
    }
   ],
   "source": [
    "\"\"\"\n",
    "your comments here\n",
    "\"\"\"\n",
    "# This seems symmetrical\n",
    "# The mean value represents the central tendency of the data, and its position on the histogram gives an idea \n",
    "# of where the \"center\" of the distribution lies. Here the mean is between 3 and 4.\n",
    "    "
   ]
  },
  {
   "cell_type": "markdown",
   "id": "af96e652",
   "metadata": {},
   "source": [
    "# \n",
    "5.- Read the roll_the_dice_thousand.csv from the data folder. Plot the frequency distribution as you did before. Has anything changed? Why do you think it changed?"
   ]
  },
  {
   "cell_type": "code",
   "execution_count": 118,
   "id": "2df336d9",
   "metadata": {},
   "outputs": [],
   "source": [
    "# Extract the dice roll outcomes as a list\n",
    "dice_outcomes = dice_df['value'].tolist()"
   ]
  },
  {
   "cell_type": "code",
   "execution_count": 119,
   "id": "84318b17",
   "metadata": {},
   "outputs": [
    {
     "data": {
      "image/png": "[encoded data removed]",
      "text/plain": [
       "<Figure size 800x600 with 1 Axes>"
      ]
     },
     "metadata": {},
     "output_type": "display_data"
    }
   ],
   "source": [
    "# Create a histogram\n",
    "plt.figure(figsize=(8, 6))\n",
    "plt.hist(dice_outcomes, bins=range(1, 8), rwidth=0.8, align='left', edgecolor='black')\n",
    "plt.xlabel('Dice Outcome')\n",
    "plt.ylabel('Frequency')\n",
    "plt.title('Histogram of Hundred Dice Rolls')\n",
    "plt.xticks(range(1, 7))\n",
    "plt.grid(axis='y', alpha=0.75)\n",
    "\n",
    "# Calculate the mean value\n",
    "mean_dice_rolls = sum(dice_outcomes) / len(dice_outcomes)\n",
    "\n",
    "# Add a vertical line for the mean value\n",
    "plt.axvline(x=mean_dice_rolls, color='red', linestyle='--', label=f'Mean = {mean_dice_rolls:.2f}')\n",
    "plt.legend()\n",
    "\n",
    "plt.show()"
   ]
  },
  {
   "cell_type": "markdown",
   "id": "18971aad",
   "metadata": {},
   "source": [
    "#\n",
    "1. yes in this histogram the vertical line for mean value is '3.45' exact at the centre which is theoratically closer to 3.5. and in the previous one the mean value is '3.74' more aligned towards '4'"
   ]
  },
  {
   "cell_type": "markdown",
   "id": "65c5d27d",
   "metadata": {},
   "source": [
    "# Challenge 4\n",
    "In the data folder of this repository you will find three different files with the prefix ages_population. These files contain information about a poll answered by a thousand people regarding their age. Each file corresponds to the poll answers in different neighbourhoods of Barcelona.\n",
    "\n",
    "1.- Read the file ages_population.csv. Calculate the frequency distribution and plot it as we did during the lesson. Try to guess the range in which the mean and the standard deviation will be by looking at the plot."
   ]
  },
  {
   "cell_type": "code",
   "execution_count": 122,
   "id": "dcd6b2ee",
   "metadata": {},
   "outputs": [
    {
     "data": {
      "text/html": [
       "<div>\n",
       "<style scoped>\n",
       "    .dataframe tbody tr th:only-of-type {\n",
       "        vertical-align: middle;\n",
       "    }\n",
       "\n",
       "    .dataframe tbody tr th {\n",
       "        vertical-align: top;\n",
       "    }\n",
       "\n",
       "    .dataframe thead th {\n",
       "        text-align: right;\n",
       "    }\n",
       "</style>\n",
       "<table border=\"1\" class=\"dataframe\">\n",
       "  <thead>\n",
       "    <tr style=\"text-align: right;\">\n",
       "      <th></th>\n",
       "      <th>observation</th>\n",
       "    </tr>\n",
       "  </thead>\n",
       "  <tbody>\n",
       "    <tr>\n",
       "      <th>0</th>\n",
       "      <td>68.0</td>\n",
       "    </tr>\n",
       "    <tr>\n",
       "      <th>1</th>\n",
       "      <td>12.0</td>\n",
       "    </tr>\n",
       "    <tr>\n",
       "      <th>2</th>\n",
       "      <td>45.0</td>\n",
       "    </tr>\n",
       "    <tr>\n",
       "      <th>3</th>\n",
       "      <td>38.0</td>\n",
       "    </tr>\n",
       "    <tr>\n",
       "      <th>4</th>\n",
       "      <td>49.0</td>\n",
       "    </tr>\n",
       "  </tbody>\n",
       "</table>\n",
       "</div>"
      ],
      "text/plain": [
       "   observation\n",
       "0         68.0\n",
       "1         12.0\n",
       "2         45.0\n",
       "3         38.0\n",
       "4         49.0"
      ]
     },
     "execution_count": 122,
     "metadata": {},
     "output_type": "execute_result"
    }
   ],
   "source": [
    "# Read the CSV file containing age data\n",
    "ages_population = pd.read_csv('ages_population.csv')\n",
    "ages_population.head()"
   ]
  },
  {
   "cell_type": "code",
   "execution_count": 123,
   "id": "f84861ee",
   "metadata": {},
   "outputs": [
    {
     "data": {
      "text/plain": [
       "(1000, 1)"
      ]
     },
     "execution_count": 123,
     "metadata": {},
     "output_type": "execute_result"
    }
   ],
   "source": [
    "ages_population.shape"
   ]
  },
  {
   "cell_type": "code",
   "execution_count": 125,
   "id": "7c58f415",
   "metadata": {},
   "outputs": [],
   "source": [
    "# Extract the ages as a list\n",
    "ages = ages_population['observation'].tolist()"
   ]
  },
  {
   "cell_type": "code",
   "execution_count": 126,
   "id": "c0975052",
   "metadata": {},
   "outputs": [
    {
     "data": {
      "image/png": "[encoded data removed]",
      "text/plain": [
       "<Figure size 1000x600 with 1 Axes>"
      ]
     },
     "metadata": {},
     "output_type": "display_data"
    }
   ],
   "source": [
    "\n",
    "# Create a histogram\n",
    "plt.figure(figsize=(10, 6))\n",
    "plt.hist(ages, bins=20, rwidth=0.8, edgecolor='black')\n",
    "plt.xlabel('Age')\n",
    "plt.ylabel('Frequency')\n",
    "plt.title('Histogram of Age Distribution')\n",
    "plt.grid(axis='y', alpha=0.75)\n",
    "\n",
    "# Calculate the mean and standard deviation\n",
    "mean_age = sum(ages) / len(ages)\n",
    "std_deviation = (sum((x - mean_age) ** 2 for x in ages) / len(ages)) ** 0.5\n",
    "\n",
    "# Display the mean and standard deviation on the plot\n",
    "plt.axvline(x=mean_age, color='red', linestyle='--', label=f'Mean = {mean_age:.2f}')\n",
    "plt.axvline(x=mean_age + std_deviation, color='green', linestyle='--', label=f'Standard Deviation = {std_deviation:.2f}', linewidth=2)\n",
    "plt.axvline(x=mean_age - std_deviation, color='green', linestyle='--', linewidth=2)\n",
    "plt.legend()\n",
    "\n",
    "plt.show()\n"
   ]
  },
  {
   "cell_type": "markdown",
   "id": "35085c6c",
   "metadata": {},
   "source": [
    "#\n",
    "#2.- Calculate the exact mean and standard deviation and compare them with your guesses. Do they fall inside the ranges you guessed?"
   ]
  },
  {
   "cell_type": "code",
   "execution_count": 128,
   "id": "0d344298",
   "metadata": {},
   "outputs": [],
   "source": [
    "import statistics"
   ]
  },
  {
   "cell_type": "code",
   "execution_count": 129,
   "id": "c611b00f",
   "metadata": {},
   "outputs": [
    {
     "name": "stdout",
     "output_type": "stream",
     "text": [
      "Exact Mean Age: 36.56\n",
      "Exact Standard Deviation: 12.81649962597677\n"
     ]
    }
   ],
   "source": [
    "\n",
    "# Extract the ages as a list\n",
    "ages = ages_population['observation'].tolist()\n",
    "\n",
    "# Calculate the exact mean and standard deviation\n",
    "mean_age_exact = statistics.mean(ages)\n",
    "std_deviation_exact = statistics.stdev(ages)\n",
    "\n",
    "# Print the exact mean and standard deviation\n",
    "print(\"Exact Mean Age:\", mean_age_exact)\n",
    "print(\"Exact Standard Deviation:\", std_deviation_exact)\n"
   ]
  },
  {
   "cell_type": "code",
   "execution_count": null,
   "id": "592501dc",
   "metadata": {},
   "outputs": [],
   "source": [
    "\"\"\"\n",
    "your comments here\n",
    "\"\"\""
   ]
  },
  {
   "cell_type": "markdown",
   "id": "3017bed9",
   "metadata": {},
   "source": [
    "# \n",
    "#3.- Now read the file ages_population2.csv . Calculate the frequency distribution and plot it"
   ]
  },
  {
   "cell_type": "code",
   "execution_count": 130,
   "id": "315aa3eb",
   "metadata": {},
   "outputs": [
    {
     "data": {
      "text/html": [
       "<div>\n",
       "<style scoped>\n",
       "    .dataframe tbody tr th:only-of-type {\n",
       "        vertical-align: middle;\n",
       "    }\n",
       "\n",
       "    .dataframe tbody tr th {\n",
       "        vertical-align: top;\n",
       "    }\n",
       "\n",
       "    .dataframe thead th {\n",
       "        text-align: right;\n",
       "    }\n",
       "</style>\n",
       "<table border=\"1\" class=\"dataframe\">\n",
       "  <thead>\n",
       "    <tr style=\"text-align: right;\">\n",
       "      <th></th>\n",
       "      <th>observation</th>\n",
       "    </tr>\n",
       "  </thead>\n",
       "  <tbody>\n",
       "    <tr>\n",
       "      <th>0</th>\n",
       "      <td>25.0</td>\n",
       "    </tr>\n",
       "    <tr>\n",
       "      <th>1</th>\n",
       "      <td>31.0</td>\n",
       "    </tr>\n",
       "    <tr>\n",
       "      <th>2</th>\n",
       "      <td>29.0</td>\n",
       "    </tr>\n",
       "    <tr>\n",
       "      <th>3</th>\n",
       "      <td>31.0</td>\n",
       "    </tr>\n",
       "    <tr>\n",
       "      <th>4</th>\n",
       "      <td>29.0</td>\n",
       "    </tr>\n",
       "  </tbody>\n",
       "</table>\n",
       "</div>"
      ],
      "text/plain": [
       "   observation\n",
       "0         25.0\n",
       "1         31.0\n",
       "2         29.0\n",
       "3         31.0\n",
       "4         29.0"
      ]
     },
     "execution_count": 130,
     "metadata": {},
     "output_type": "execute_result"
    }
   ],
   "source": [
    "ages_population2 = pd.read_csv('ages_population2.csv')\n",
    "ages_population2.head()"
   ]
  },
  {
   "cell_type": "code",
   "execution_count": 131,
   "id": "54c7ed36",
   "metadata": {},
   "outputs": [
    {
     "data": {
      "text/plain": [
       "(1000, 1)"
      ]
     },
     "execution_count": 131,
     "metadata": {},
     "output_type": "execute_result"
    }
   ],
   "source": [
    "ages_population2.shape"
   ]
  },
  {
   "cell_type": "code",
   "execution_count": 138,
   "id": "5415f86a",
   "metadata": {},
   "outputs": [
    {
     "data": {
      "image/png": "[encoded data removed]",
      "text/plain": [
       "<Figure size 1000x600 with 1 Axes>"
      ]
     },
     "metadata": {},
     "output_type": "display_data"
    }
   ],
   "source": [
    "# Extract the ages as a list\n",
    "ages = ages_population2['observation'].tolist()\n",
    "\n",
    "# Create a histogram\n",
    "plt.figure(figsize=(10, 6))\n",
    "plt.hist(ages, bins=20, rwidth=0.8, edgecolor='black')\n",
    "plt.xlabel('Age')\n",
    "plt.ylabel('Frequency')\n",
    "plt.title('Histogram of Age Distribution (Population 2)')\n",
    "plt.grid(axis='y', alpha=0.75)\n",
    "\n",
    "plt.show()"
   ]
  },
  {
   "cell_type": "markdown",
   "id": "cfd1b002",
   "metadata": {},
   "source": [
    "# \n",
    "#4.- What do you see? Is there any difference with the frequency distribution in step 1?"
   ]
  },
  {
   "cell_type": "code",
   "execution_count": null,
   "id": "52f0260b",
   "metadata": {},
   "outputs": [],
   "source": [
    "\"\"\"\n",
    "Yes we can see the difference. There is a gap in 'Ages' it is not showing any frequency in that age gap.\n",
    "\"\""
   ]
  },
  {
   "cell_type": "markdown",
   "id": "f672f2b3",
   "metadata": {},
   "source": [
    "# \n",
    "#5.- Calculate the mean and standard deviation. Compare the results with the mean and standard deviation in step 2. What do you think?"
   ]
  },
  {
   "cell_type": "code",
   "execution_count": 137,
   "id": "40da7821",
   "metadata": {},
   "outputs": [
    {
     "data": {
      "image/png": "[encoded data removed]",
      "text/plain": [
       "<Figure size 1000x600 with 1 Axes>"
      ]
     },
     "metadata": {},
     "output_type": "display_data"
    }
   ],
   "source": [
    "# Extract the ages as a list\n",
    "ages = ages_population2['observation'].tolist()\n",
    "\n",
    "# Create a histogram\n",
    "plt.figure(figsize=(10, 6))\n",
    "plt.hist(ages, bins=20, rwidth=0.8, edgecolor='black')\n",
    "plt.xlabel('Age')\n",
    "plt.ylabel('Frequency')\n",
    "plt.title('Histogram of Age Distribution (Population 2)')\n",
    "plt.grid(axis='y', alpha=0.75)\n",
    "\n",
    "# Calculate the mean and standard deviation\n",
    "mean_age = sum(ages) / len(ages)\n",
    "std_deviation = (sum((x - mean_age) ** 2 for x in ages) / len(ages)) ** 0.5\n",
    "\n",
    "# Display the mean and standard deviation on the plot\n",
    "plt.axvline(x=mean_age, color='red', linestyle='--', label=f'Mean = {mean_age:.2f}')\n",
    "plt.axvline(x=mean_age + std_deviation, color='green', linestyle='--', label=f'Standard Deviation = {std_deviation:.2f}', linewidth=2)\n",
    "plt.axvline(x=mean_age - std_deviation, color='green', linestyle='--', linewidth=2)\n",
    "plt.legend()\n",
    "\n",
    "plt.show()"
   ]
  },
  {
   "cell_type": "markdown",
   "id": "c4c72abf",
   "metadata": {},
   "source": [
    "# Key differences between the two datasets are:\n",
    "\n",
    "For Mean (Average):\n",
    "\n",
    "In dataset \"ages_population.csv,\" the mean age is 36.56.\n",
    "In dataset \"ages_population2.csv,\" the mean age is 27.16.\n",
    "The mean age in \"ages_population2.csv\" is showing lower than in \"ages_population.csv.\"\n",
    "\n",
    "Standard Deviation (Spread or Variability):\n",
    "\n",
    "In dataset \"ages_population.csv,\" the standard deviation is 12.82, indicating a relatively wide spread of ages.\n",
    "In dataset \"ages_population2.csv,\" the standard deviation is 2.97, indicating a much narrower spread of ages.\n",
    "The data in \"ages_population2.csv\" is less spread out compared to \"ages_population.csv.\"\n",
    "\n",
    "These differences suggest us that the two datasets represent different populations with distinct age distributions. \n",
    "\n"
   ]
  },
  {
   "cell_type": "markdown",
   "id": "885d1e43",
   "metadata": {},
   "source": [
    "# Challenge 5\n",
    "Now is the turn of ages_population3.csv.\n",
    "\n",
    "1.- Read the file ages_population3.csv. Calculate the frequency distribution and plot it."
   ]
  },
  {
   "cell_type": "code",
   "execution_count": 144,
   "id": "96d34739",
   "metadata": {},
   "outputs": [
    {
     "data": {
      "text/html": [
       "<div>\n",
       "<style scoped>\n",
       "    .dataframe tbody tr th:only-of-type {\n",
       "        vertical-align: middle;\n",
       "    }\n",
       "\n",
       "    .dataframe tbody tr th {\n",
       "        vertical-align: top;\n",
       "    }\n",
       "\n",
       "    .dataframe thead th {\n",
       "        text-align: right;\n",
       "    }\n",
       "</style>\n",
       "<table border=\"1\" class=\"dataframe\">\n",
       "  <thead>\n",
       "    <tr style=\"text-align: right;\">\n",
       "      <th></th>\n",
       "      <th>observation</th>\n",
       "    </tr>\n",
       "  </thead>\n",
       "  <tbody>\n",
       "    <tr>\n",
       "      <th>0</th>\n",
       "      <td>21.0</td>\n",
       "    </tr>\n",
       "    <tr>\n",
       "      <th>1</th>\n",
       "      <td>21.0</td>\n",
       "    </tr>\n",
       "    <tr>\n",
       "      <th>2</th>\n",
       "      <td>24.0</td>\n",
       "    </tr>\n",
       "    <tr>\n",
       "      <th>3</th>\n",
       "      <td>31.0</td>\n",
       "    </tr>\n",
       "    <tr>\n",
       "      <th>4</th>\n",
       "      <td>54.0</td>\n",
       "    </tr>\n",
       "  </tbody>\n",
       "</table>\n",
       "</div>"
      ],
      "text/plain": [
       "   observation\n",
       "0         21.0\n",
       "1         21.0\n",
       "2         24.0\n",
       "3         31.0\n",
       "4         54.0"
      ]
     },
     "execution_count": 144,
     "metadata": {},
     "output_type": "execute_result"
    }
   ],
   "source": [
    "ages_population3 = pd.read_csv('ages_population3.csv')\n",
    "ages_population3.head()"
   ]
  },
  {
   "cell_type": "code",
   "execution_count": 141,
   "id": "a47fb1f5",
   "metadata": {},
   "outputs": [
    {
     "data": {
      "text/plain": [
       "(1000, 1)"
      ]
     },
     "execution_count": 141,
     "metadata": {},
     "output_type": "execute_result"
    }
   ],
   "source": [
    "ages_population3.shape"
   ]
  },
  {
   "cell_type": "code",
   "execution_count": 142,
   "id": "a2502abd",
   "metadata": {},
   "outputs": [
    {
     "data": {
      "image/png": "[encoded data removed]",
      "text/plain": [
       "<Figure size 1000x600 with 1 Axes>"
      ]
     },
     "metadata": {},
     "output_type": "display_data"
    }
   ],
   "source": [
    "\n",
    "# Extract the ages as a list\n",
    "ages = ages_population3['observation'].tolist()\n",
    "\n",
    "# Create a histogram\n",
    "plt.figure(figsize=(10, 6))\n",
    "plt.hist(ages, bins=20, rwidth=0.8, edgecolor='black')\n",
    "plt.xlabel('Age')\n",
    "plt.ylabel('Frequency')\n",
    "plt.title('Histogram of Age Distribution (Population 3)')\n",
    "plt.grid(axis='y', alpha=0.75)\n",
    "\n",
    "plt.show()\n"
   ]
  },
  {
   "cell_type": "code",
   "execution_count": null,
   "id": "8bdcd7d5",
   "metadata": {},
   "outputs": [],
   "source": []
  },
  {
   "cell_type": "markdown",
   "id": "0da7a8ad",
   "metadata": {},
   "source": [
    "# \n",
    "2.- Calculate the mean and standard deviation. Compare the results with the plot in step 1. What is happening?"
   ]
  },
  {
   "cell_type": "code",
   "execution_count": 149,
   "id": "9582affc",
   "metadata": {},
   "outputs": [
    {
     "name": "stdout",
     "output_type": "stream",
     "text": [
      "Exact Mean Age (Population 3): 41.989\n",
      "Exact Standard Deviation (Population 3): 16.14470595986593\n"
     ]
    }
   ],
   "source": [
    "# Extract the ages as a list\n",
    "ages = ages_population3['observation'].tolist()\n",
    "\n",
    "# Calculate the exact mean and standard deviation\n",
    "mean_age_exact = statistics.mean(ages)\n",
    "std_deviation_exact = statistics.stdev(ages)\n",
    "\n",
    "# Print the exact mean and standard deviation\n",
    "print(\"Exact Mean Age (Population 3):\", mean_age_exact)\n",
    "print(\"Exact Standard Deviation (Population 3):\", std_deviation_exact)\n"
   ]
  },
  {
   "cell_type": "code",
   "execution_count": null,
   "id": "b0f00de1",
   "metadata": {},
   "outputs": [],
   "source": [
    "\"\"\"\n",
    "your comments here\n",
    "\"\"\""
   ]
  },
  {
   "cell_type": "code",
   "execution_count": null,
   "id": "db501e1a",
   "metadata": {},
   "outputs": [],
   "source": []
  },
  {
   "cell_type": "markdown",
   "id": "10a2eaa1",
   "metadata": {},
   "source": [
    "#\n",
    "#3.- Calculate the four quartiles. Use the results to explain your reasoning for question in step 2. How much of a difference is there between the median and the mean?"
   ]
  },
  {
   "cell_type": "code",
   "execution_count": 150,
   "id": "967d4063",
   "metadata": {},
   "outputs": [
    {
     "name": "stdout",
     "output_type": "stream",
     "text": [
      "First Quartile (Q1): 30.0\n",
      "Second Quartile (Median, Q2): 40.0\n",
      "Third Quartile (Q3): 53.0\n",
      "Fourth Quartile (Q4): 77.0\n",
      "Mean: 41.989\n"
     ]
    }
   ],
   "source": [
    "# Extract the ages as a list\n",
    "ages = ages_population3['observation'].tolist()\n",
    "\n",
    "# Calculate the four quartiles\n",
    "def calculate_quartiles(data):\n",
    "    data_sorted = sorted(data)\n",
    "    n = len(data_sorted)\n",
    "    Q1_index = (n + 1) // 4\n",
    "    Q2_index = (n + 1) // 2\n",
    "    Q3_index = 3 * (n + 1) // 4\n",
    "    Q1 = data_sorted[Q1_index - 1]\n",
    "    Q2 = data_sorted[Q2_index - 1]\n",
    "    Q3 = data_sorted[Q3_index - 1]\n",
    "    Q4 = data_sorted[-1]\n",
    "    return Q1, Q2, Q3, Q4\n",
    "\n",
    "Q1, Q2, Q3, Q4 = calculate_quartiles(ages)\n",
    "\n",
    "# Calculate the median\n",
    "median = statistics.median(ages)\n",
    "\n",
    "# Calculate the mean\n",
    "mean = statistics.mean(ages)\n",
    "\n",
    "# Print quartiles, median, and mean\n",
    "print(\"First Quartile (Q1):\", Q1)\n",
    "print(\"Second Quartile (Median, Q2):\", median)\n",
    "print(\"Third Quartile (Q3):\", Q3)\n",
    "print(\"Fourth Quartile (Q4):\", Q4)\n",
    "print(\"Mean:\", mean)\n"
   ]
  },
  {
   "cell_type": "code",
   "execution_count": null,
   "id": "05e3be56",
   "metadata": {},
   "outputs": [],
   "source": [
    "\"\"\"\n",
    "your comments here\n",
    "\"\"\""
   ]
  },
  {
   "cell_type": "markdown",
   "id": "c777e3a5",
   "metadata": {},
   "source": [
    "# \n",
    "#4.- Calculate other percentiles that might be useful to give more arguments to your reasoning."
   ]
  },
  {
   "cell_type": "code",
   "execution_count": 151,
   "id": "fe83e4d4",
   "metadata": {},
   "outputs": [
    {
     "name": "stdout",
     "output_type": "stream",
     "text": [
      "10th Percentile: 22.00\n",
      "90th Percentile: 67.00\n",
      "95th Percentile: 70.00\n"
     ]
    }
   ],
   "source": [
    "\n",
    "# Extract the ages as a list\n",
    "ages = ages_population3['observation'].tolist()\n",
    "\n",
    "# Calculate the specified percentiles\n",
    "percentiles = [10, 90, 95]\n",
    "percentile_values = np.percentile(ages, percentiles)\n",
    "\n",
    "# Print the calculated percentiles\n",
    "for p, value in zip(percentiles, percentile_values):\n",
    "    print(f\"{p}th Percentile: {value:.2f}\")\n"
   ]
  },
  {
   "cell_type": "markdown",
   "id": "3c5d3875",
   "metadata": {},
   "source": [
    "# Calculate the 10th, 90th, and 95th percentiles to understand the spread and tail behavior of the distribution\n",
    "10th Percentile: This represents the value below which 10% of the ages fall. It gives us an idea of the lower end of the age distribution.\n",
    "\n",
    "90th Percentile: This represents the value below which 90% of the ages fall. It gives us an idea of the upper end of the age distribution.\n",
    "\n",
    "95th Percentile: This represents the value below which 95% of the ages fall. It provides information about the extreme upper end of the age distribution."
   ]
  },
  {
   "cell_type": "code",
   "execution_count": null,
   "id": "b6961bbd",
   "metadata": {},
   "outputs": [],
   "source": []
  },
  {
   "cell_type": "markdown",
   "id": "43fb33ca",
   "metadata": {},
   "source": [
    "# Bonus challenge\n",
    "Compare the information about the three neighbourhoods. Prepare a report about the three of them. Remember to find out which are their similarities and their differences backing your arguments in basic statistics."
   ]
  },
  {
   "cell_type": "code",
   "execution_count": null,
   "id": "1b388937",
   "metadata": {},
   "outputs": [],
   "source": [
    "# your code here"
   ]
  },
  {
   "cell_type": "code",
   "execution_count": null,
   "id": "75662d31",
   "metadata": {},
   "outputs": [],
   "source": [
    "\"\"\"\n",
    "your comments here\n",
    "\"\"\""
   ]
  },
  {
   "cell_type": "code",
   "execution_count": null,
   "id": "801b9e29",
   "metadata": {},
   "outputs": [],
   "source": []
  }
 ],
 "metadata": {
  "kernelspec": {
   "display_name": "Python 3 (ipykernel)",
   "language": "python",
   "name": "python3"
  },
  "language_info": {
   "codemirror_mode": {
    "name": "ipython",
    "version": 3
   },
   "file_extension": ".py",
   "mimetype": "text/x-python",
   "name": "python",
   "nbconvert_exporter": "python",
   "pygments_lexer": "ipython3",
   "version": "3.9.13"
  }
 },
 "nbformat": 4,
 "nbformat_minor": 5
}
