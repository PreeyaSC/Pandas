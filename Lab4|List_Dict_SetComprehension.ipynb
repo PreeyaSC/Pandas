{
 "cells": [
  {
   "cell_type": "markdown",
   "id": "07d33a5f",
   "metadata": {},
   "source": [
    "# Lab | List, Dict and Set Comprehension\n"
   ]
  },
  {
   "cell_type": "markdown",
   "id": "ff6ece09",
   "metadata": {},
   "source": [
    "# Exercise: Managing Customer Orders Optimized with Comprehension\n",
    "In the previous exercise, you developed a program to manage customer orders and inventory. Now, let's take it a step further and incorporate comprehension into your code.\n",
    "\n",
    "Follow the steps below to complete the exercise:"
   ]
  },
  {
   "cell_type": "markdown",
   "id": "f8b937b7",
   "metadata": {},
   "source": [
    "#1. Review your code from the previous exercise and identify areas where you can apply comprehension to simplify and streamline your code.\n",
    "\n",
    "Hint: Apply it to initialize inventory, updating the inventory and printing the updated inventory.\n",
    "\n",
    "For example, in initializing the inventory, we could have:\n",
    "\n",
    "def initialize_inventory(products):\n",
    "    inventory = {product: int(input(f\"Enter the quantity of {product}s available: \")) for product in products}\n",
    "    return inventory"
   ]
  },
  {
   "cell_type": "code",
   "execution_count": 2,
   "id": "d4543a13",
   "metadata": {},
   "outputs": [],
   "source": [
    "def initialize_inventory(products):\n",
    "    inventory = {product: int(input(f\"Enter the quantity of {product}: \")) for product in products}\n",
    "    return inventory"
   ]
  },
  {
   "cell_type": "code",
   "execution_count": 3,
   "id": "6b6d2355",
   "metadata": {},
   "outputs": [],
   "source": [
    "# list of products\n",
    "product_list = [\"book\", \"hat\", \"key-chain\"]"
   ]
  },
  {
   "cell_type": "code",
   "execution_count": 4,
   "id": "fc588441",
   "metadata": {},
   "outputs": [
    {
     "name": "stdout",
     "output_type": "stream",
     "text": [
      "Enter the quantity of book: 7\n",
      "Enter the quantity of hat: 6\n",
      "Enter the quantity of key-chain: 8\n"
     ]
    }
   ],
   "source": [
    "# Call the function to initialize the inventory dictionary\n",
    "inventory_dict = initialize_inventory(product_list)"
   ]
  },
  {
   "cell_type": "code",
   "execution_count": 5,
   "id": "8c5dadf2",
   "metadata": {},
   "outputs": [
    {
     "name": "stdout",
     "output_type": "stream",
     "text": [
      "Initialized Inventory: {'book': 7, 'hat': 6, 'key-chain': 8}\n"
     ]
    }
   ],
   "source": [
    "# Print the result of inventory dictionary\n",
    "print(\"Initialized Inventory:\", inventory_dict)\n"
   ]
  },
  {
   "cell_type": "code",
   "execution_count": null,
   "id": "cfb11455",
   "metadata": {},
   "outputs": [],
   "source": []
  },
  {
   "cell_type": "markdown",
   "id": "c5317a4c",
   "metadata": {},
   "source": [
    "#2. Modify the function get_customer_orders so it prompts the user to enter the number of customer orders and gathers the product names using a loop and user input. Use comprehension. "
   ]
  },
  {
   "cell_type": "code",
   "execution_count": 12,
   "id": "e2c5dac4",
   "metadata": {},
   "outputs": [],
   "source": [
    "def get_customer_orders():\n",
    "    num_orders = int(input(\"Enter the number of customer orders: \"))\n",
    "    orders = [input(f\"Enter product name for order {i+1}: \") for i in range(num_orders)]\n",
    "    return orders"
   ]
  },
  {
   "cell_type": "code",
   "execution_count": 13,
   "id": "7547cc5e",
   "metadata": {},
   "outputs": [
    {
     "name": "stdout",
     "output_type": "stream",
     "text": [
      "Enter the number of customer orders: 3\n",
      "Enter product name for order 1: book\n",
      "Enter product name for order 2: key chain\n",
      "Enter product name for order 3: hat\n"
     ]
    }
   ],
   "source": [
    "# Call the function to get customer orders\n",
    "orders = get_customer_orders()\n"
   ]
  },
  {
   "cell_type": "markdown",
   "id": "4e345c00",
   "metadata": {},
   "source": [
    "#3.Add a new function to calculate the total price of the customer order. For each product in customer_orders, prompt the user to enter the price of that product. Use comprehension to calculate the total price. Note: assume that the user can only have 1 unit of each product "
   ]
  },
  {
   "cell_type": "code",
   "execution_count": 26,
   "id": "320ef855",
   "metadata": {},
   "outputs": [],
   "source": [
    "def calculate_total_price(customer_orders):\n",
    "    prices = {product: float(input(f\"Enter the price for {product}: \")) for product in customer_orders}\n",
    "    total_price = sum(prices[product] for product in customer_orders)\n",
    "    return total_price\n"
   ]
  },
  {
   "cell_type": "code",
   "execution_count": 25,
   "id": "8a5df6ee",
   "metadata": {},
   "outputs": [
    {
     "name": "stdout",
     "output_type": "stream",
     "text": [
      "Enter the price for book: 12\n",
      "Enter the price for key-chain: 5\n",
      "Enter the price for hat: 13\n",
      "Total price for the customer orders: €30.00\n"
     ]
    }
   ],
   "source": [
    "# Print the total price\n",
    "customer_orders = [\"book\", \"key-chain\", \"hat\"]\n",
    "total_price = calculate_total_price(customer_orders)\n",
    "print(f\"Total price for the customer orders: €{total_price:.2f}\")\n"
   ]
  },
  {
   "cell_type": "markdown",
   "id": "cd06a119",
   "metadata": {},
   "source": [
    "#4.Modify the update_inventory function to remove the product from the inventory if its quantity becomes zero after fulfilling the customer orders. Use comprehension to filter out the products with a quantity of zero from the inventory."
   ]
  },
  {
   "cell_type": "code",
   "execution_count": 63,
   "id": "0c29b7b3",
   "metadata": {},
   "outputs": [],
   "source": [
    "\n",
    "def update_inventory(inventory, customer_orders):\n",
    "    for product in customer_orders:\n",
    "        if product in inventory:\n",
    "            inventory[product] -= 1\n",
    "\n",
    "    inventory = {product: quantity for product, quantity in inventory.items() if quantity > 0}\n",
    "    return inventory\n",
    "\n",
    "updated_inventory = update_inventory(inventory, customer_orders)\n",
    "\n",
    "\n",
    "\n"
   ]
  },
  {
   "cell_type": "code",
   "execution_count": 66,
   "id": "f16264a3",
   "metadata": {},
   "outputs": [
    {
     "name": "stdout",
     "output_type": "stream",
     "text": [
      "Updated Inventory: {'book': 7, 'hat': 3, 'key-chain': 5}\n"
     ]
    }
   ],
   "source": [
    "\n",
    "print(\"Updated Inventory:\", updated_inventory)"
   ]
  },
  {
   "cell_type": "code",
   "execution_count": 56,
   "id": "b6e12907",
   "metadata": {},
   "outputs": [],
   "source": [
    "#5.Print the total price of the customer order.\n",
    "\n"
   ]
  },
  {
   "cell_type": "code",
   "execution_count": 54,
   "id": "450261bd",
   "metadata": {},
   "outputs": [
    {
     "name": "stdout",
     "output_type": "stream",
     "text": [
      "Enter the price for book: 12\n",
      "Enter the price for hat: 13\n",
      "Enter the price for key-chain: 5\n",
      "Total price for the customer order: €30.00\n"
     ]
    }
   ],
   "source": [
    "customer_orders = [\"book\", \"hat\", \"key-chain\"]\n",
    "\n",
    "total_price = calculate_total_price(customer_orders)\n",
    "print(f\"Total price for the customer order: €{total_price:.2f}\")\n"
   ]
  },
  {
   "cell_type": "code",
   "execution_count": null,
   "id": "ed4c62ce",
   "metadata": {},
   "outputs": [],
   "source": []
  },
  {
   "cell_type": "code",
   "execution_count": null,
   "id": "a59a2936",
   "metadata": {},
   "outputs": [],
   "source": []
  },
  {
   "cell_type": "code",
   "execution_count": null,
   "id": "d80245b9",
   "metadata": {},
   "outputs": [],
   "source": []
  }
 ],
 "metadata": {
  "kernelspec": {
   "display_name": "Python 3 (ipykernel)",
   "language": "python",
   "name": "python3"
  },
  "language_info": {
   "codemirror_mode": {
    "name": "ipython",
    "version": 3
   },
   "file_extension": ".py",
   "mimetype": "text/x-python",
   "name": "python",
   "nbconvert_exporter": "python",
   "pygments_lexer": "ipython3",
   "version": "3.9.13"
  }
 },
 "nbformat": 4,
 "nbformat_minor": 5
}
